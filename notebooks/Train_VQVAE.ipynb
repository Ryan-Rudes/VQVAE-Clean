{
  "nbformat": 4,
  "nbformat_minor": 0,
  "metadata": {
    "colab": {
      "name": "VQVAE2 Notebook.ipynb",
      "provenance": [],
      "collapsed_sections": [],
      "machine_shape": "hm"
    },
    "kernelspec": {
      "name": "python3",
      "display_name": "Python 3"
    },
    "language_info": {
      "name": "python"
    },
    "accelerator": "GPU",
    "widgets": {
      "application/vnd.jupyter.widget-state+json": {
        "bcdb68d0159a48768fa0b5d958292448": {
          "model_module": "@jupyter-widgets/output",
          "model_name": "OutputModel",
          "state": {
            "_view_name": "OutputView",
            "msg_id": "",
            "_dom_classes": [],
            "_model_name": "OutputModel",
            "outputs": [
              {
                "output_type": "display_data",
                "metadata": {
                  "tags": []
                },
                "text/html": "<pre style=\"white-space:pre;overflow-x:auto;line-height:normal;font-family:Menlo,'DejaVu Sans Mono',consolas,'Courier New',monospace\">  Extracting to /content <span style=\"color: #729c1f; text-decoration-color: #729c1f\">━━━━━━━━━━━━━━━━━━━━━━━━━━━━━━━━━━</span> <span style=\"color: #800080; text-decoration-color: #800080\">100%</span> <span style=\"color: #008080; text-decoration-color: #008080\">0:00:00</span> <span style=\"color: #008000; text-decoration-color: #008000\">735.1 MB</span> of <span style=\"color: #008000; text-decoration-color: #008000\">735.1 MB</span>\n</pre>\n",
                "text/plain": "  Extracting to /content \u001b[38;2;114;156;31m━━━━━━━━━━━━━━━━━━━━━━━━━━━━━━━━━━\u001b[0m \u001b[35m100%\u001b[0m \u001b[36m0:00:00\u001b[0m \u001b[32m735.1 MB\u001b[0m of \u001b[32m735.1 MB\u001b[0m\n"
              }
            ],
            "_view_module": "@jupyter-widgets/output",
            "_model_module_version": "1.0.0",
            "_view_count": null,
            "_view_module_version": "1.0.0",
            "layout": "IPY_MODEL_9eaf44ff02ac4c819748b3c7417c373e",
            "_model_module": "@jupyter-widgets/output"
          }
        },
        "9eaf44ff02ac4c819748b3c7417c373e": {
          "model_module": "@jupyter-widgets/base",
          "model_name": "LayoutModel",
          "state": {
            "_view_name": "LayoutView",
            "grid_template_rows": null,
            "right": null,
            "justify_content": null,
            "_view_module": "@jupyter-widgets/base",
            "overflow": null,
            "_model_module_version": "1.2.0",
            "_view_count": null,
            "flex_flow": null,
            "width": null,
            "min_width": null,
            "border": null,
            "align_items": null,
            "bottom": null,
            "_model_module": "@jupyter-widgets/base",
            "top": null,
            "grid_column": null,
            "overflow_y": null,
            "overflow_x": null,
            "grid_auto_flow": null,
            "grid_area": null,
            "grid_template_columns": null,
            "flex": null,
            "_model_name": "LayoutModel",
            "justify_items": null,
            "grid_row": null,
            "max_height": null,
            "align_content": null,
            "visibility": null,
            "align_self": null,
            "height": null,
            "min_height": null,
            "padding": null,
            "grid_auto_rows": null,
            "grid_gap": null,
            "max_width": null,
            "order": null,
            "_view_module_version": "1.2.0",
            "grid_template_areas": null,
            "object_position": null,
            "object_fit": null,
            "grid_auto_columns": null,
            "margin": null,
            "display": null,
            "left": null
          }
        },
        "84923d8e16ed401ebca7f1c0518e7caf": {
          "model_module": "@jupyter-widgets/output",
          "model_name": "OutputModel",
          "state": {
            "_view_name": "OutputView",
            "msg_id": "",
            "_dom_classes": [],
            "_model_name": "OutputModel",
            "outputs": [
              {
                "output_type": "display_data",
                "metadata": {
                  "tags": []
                },
                "text/html": "<pre style=\"white-space:pre;overflow-x:auto;line-height:normal;font-family:Menlo,'DejaVu Sans Mono',consolas,'Courier New',monospace\">  Resizing to /content/Qbert/resized/cells <span style=\"color: #729c1f; text-decoration-color: #729c1f\">━━━━━━━━━━━━━━━━━━━━━━━━━━━━━━━━━━━━━</span> <span style=\"color: #800080; text-decoration-color: #800080\">100%</span> <span style=\"color: #008080; text-decoration-color: #008080\">0:00:00</span>\n</pre>\n",
                "text/plain": "  Resizing to /content/Qbert/resized/cells \u001b[38;2;114;156;31m━━━━━━━━━━━━━━━━━━━━━━━━━━━━━━━━━━━━━\u001b[0m \u001b[35m100%\u001b[0m \u001b[36m0:00:00\u001b[0m\n"
              }
            ],
            "_view_module": "@jupyter-widgets/output",
            "_model_module_version": "1.0.0",
            "_view_count": null,
            "_view_module_version": "1.0.0",
            "layout": "IPY_MODEL_ac97f0f312d0493cae21fcd99754b4ef",
            "_model_module": "@jupyter-widgets/output"
          }
        },
        "ac97f0f312d0493cae21fcd99754b4ef": {
          "model_module": "@jupyter-widgets/base",
          "model_name": "LayoutModel",
          "state": {
            "_view_name": "LayoutView",
            "grid_template_rows": null,
            "right": null,
            "justify_content": null,
            "_view_module": "@jupyter-widgets/base",
            "overflow": null,
            "_model_module_version": "1.2.0",
            "_view_count": null,
            "flex_flow": null,
            "width": null,
            "min_width": null,
            "border": null,
            "align_items": null,
            "bottom": null,
            "_model_module": "@jupyter-widgets/base",
            "top": null,
            "grid_column": null,
            "overflow_y": null,
            "overflow_x": null,
            "grid_auto_flow": null,
            "grid_area": null,
            "grid_template_columns": null,
            "flex": null,
            "_model_name": "LayoutModel",
            "justify_items": null,
            "grid_row": null,
            "max_height": null,
            "align_content": null,
            "visibility": null,
            "align_self": null,
            "height": null,
            "min_height": null,
            "padding": null,
            "grid_auto_rows": null,
            "grid_gap": null,
            "max_width": null,
            "order": null,
            "_view_module_version": "1.2.0",
            "grid_template_areas": null,
            "object_position": null,
            "object_fit": null,
            "grid_auto_columns": null,
            "margin": null,
            "display": null,
            "left": null
          }
        },
        "276f68c961284f459d4d7ade15ccf562": {
          "model_module": "@jupyter-widgets/output",
          "model_name": "OutputModel",
          "state": {
            "_view_name": "OutputView",
            "msg_id": "",
            "_dom_classes": [],
            "_model_name": "OutputModel",
            "outputs": [
              {
                "output_type": "display_data",
                "metadata": {
                  "tags": []
                },
                "text/html": "<pre style=\"white-space:pre;overflow-x:auto;line-height:normal;font-family:Menlo,'DejaVu Sans Mono',consolas,'Courier New',monospace\">epoch 115/560                                                <span style=\"color: #f92672; text-decoration-color: #f92672\">━━━╸</span><span style=\"color: #3a3a3a; text-decoration-color: #3a3a3a\">━━━━━━━━━━━━━━━</span> <span style=\"color: #800080; text-decoration-color: #800080\"> 21%</span> <span style=\"color: #008080; text-decoration-color: #008080\">-:--:--</span>\nmse: 0.00049; latent: 0.00118; avg mse: 0.00046; lr: 0.00030 <span style=\"color: #f92672; text-decoration-color: #f92672\">━━━━━━━━━━╸</span><span style=\"color: #3a3a3a; text-decoration-color: #3a3a3a\">━━━━━━━━</span> <span style=\"color: #800080; text-decoration-color: #800080\"> 56%</span> <span style=\"color: #008080; text-decoration-color: #008080\">0:00:00</span>\n</pre>\n",
                "text/plain": "epoch 115/560                                                \u001b[38;2;249;38;114m━━━\u001b[0m\u001b[38;2;249;38;114m╸\u001b[0m\u001b[38;5;237m━━━━━━━━━━━━━━━\u001b[0m \u001b[35m 21%\u001b[0m \u001b[36m-:--:--\u001b[0m\nmse: 0.00049; latent: 0.00118; avg mse: 0.00046; lr: 0.00030 \u001b[38;2;249;38;114m━━━━━━━━━━\u001b[0m\u001b[38;2;249;38;114m╸\u001b[0m\u001b[38;5;237m━━━━━━━━\u001b[0m \u001b[35m 56%\u001b[0m \u001b[36m0:00:00\u001b[0m\n"
              }
            ],
            "_view_module": "@jupyter-widgets/output",
            "_model_module_version": "1.0.0",
            "_view_count": null,
            "_view_module_version": "1.0.0",
            "layout": "IPY_MODEL_3590a2e703ff4473b88105399269dafe",
            "_model_module": "@jupyter-widgets/output"
          }
        },
        "3590a2e703ff4473b88105399269dafe": {
          "model_module": "@jupyter-widgets/base",
          "model_name": "LayoutModel",
          "state": {
            "_view_name": "LayoutView",
            "grid_template_rows": null,
            "right": null,
            "justify_content": null,
            "_view_module": "@jupyter-widgets/base",
            "overflow": null,
            "_model_module_version": "1.2.0",
            "_view_count": null,
            "flex_flow": null,
            "width": null,
            "min_width": null,
            "border": null,
            "align_items": null,
            "bottom": null,
            "_model_module": "@jupyter-widgets/base",
            "top": null,
            "grid_column": null,
            "overflow_y": null,
            "overflow_x": null,
            "grid_auto_flow": null,
            "grid_area": null,
            "grid_template_columns": null,
            "flex": null,
            "_model_name": "LayoutModel",
            "justify_items": null,
            "grid_row": null,
            "max_height": null,
            "align_content": null,
            "visibility": null,
            "align_self": null,
            "height": null,
            "min_height": null,
            "padding": null,
            "grid_auto_rows": null,
            "grid_gap": null,
            "max_width": null,
            "order": null,
            "_view_module_version": "1.2.0",
            "grid_template_areas": null,
            "object_position": null,
            "object_fit": null,
            "grid_auto_columns": null,
            "margin": null,
            "display": null,
            "left": null
          }
        }
      }
    }
  },
  "cells": [
    {
      "cell_type": "code",
      "metadata": {
        "id": "MN-G2P2Tv-HJ",
        "colab": {
          "base_uri": "https://localhost:8080/"
        },
        "cellView": "form",
        "outputId": "05379299-3884-4d02-ef24-6c4933d24897"
      },
      "source": [
        "#@title Get started\n",
        "mount_drive = True #@param {type:\"boolean\"}\n",
        "replace_existing = True #@param {type:\"boolean\"}\n",
        "\n",
        "import os\n",
        "\n",
        "if mount_drive:\n",
        "    from google.colab import drive\n",
        "    drive.mount('/content/drive')\n",
        "    os.chdir('/content/drive/My Drive/')\n",
        "\n",
        "if os.path.exists('VQVAE-Clean'):\n",
        "    if replace_existing:\n",
        "        proceed = ''\n",
        "        while not (proceed == 'y' or proceed == 'n'):\n",
        "            proceed = input('\\nAre you sure that you want to replace the existing directory?\\nThis will delete all existing model checkpoints and samples (y/n): ')\n",
        "        if proceed == 'y':\n",
        "            print ('Removing existing code directory...')\n",
        "            import shutil\n",
        "            shutil.rmtree('VQVAE-Clean')\n",
        "            print ('Cloning repository...')\n",
        "            !git clone https://github.com/Ryan-Rudes/VQVAE-Clean\n",
        "        else:\n",
        "            print ('Alright... stopping.')\n",
        "            raise KeyboardInterrupt\n",
        "    else:\n",
        "        print ('Using existing code directory')\n",
        "else:\n",
        "    print ('Cloning repository...')\n",
        "    !git clone https://github.com/Ryan-Rudes/VQVAE-Clean\n",
        "\n",
        "%cd VQVAE-Clean"
      ],
      "execution_count": 1,
      "outputs": [
        {
          "output_type": "stream",
          "text": [
            "Drive already mounted at /content/drive; to attempt to forcibly remount, call drive.mount(\"/content/drive\", force_remount=True).\n",
            "\n",
            "Are you sure that you want to replace the existing directory?\n",
            "This will delete all existing model checkpoints and samples (y/n): y\n",
            "Removing existing code directory...\n",
            "Cloning repository...\n",
            "Cloning into 'VQVAE-Clean'...\n",
            "remote: Enumerating objects: 306, done.\u001b[K\n",
            "remote: Counting objects: 100% (306/306), done.\u001b[K\n",
            "remote: Compressing objects: 100% (217/217), done.\u001b[K\n",
            "remote: Total 306 (delta 208), reused 183 (delta 85), pack-reused 0\u001b[K\n",
            "Receiving objects: 100% (306/306), 78.67 KiB | 4.63 MiB/s, done.\n",
            "Resolving deltas: 100% (208/208), done.\n",
            "/content/drive/My Drive/VQVAE-Clean\n"
          ],
          "name": "stdout"
        }
      ]
    },
    {
      "cell_type": "code",
      "metadata": {
        "id": "J3ChFWRSRJga",
        "cellView": "form",
        "colab": {
          "base_uri": "https://localhost:8080/"
        },
        "outputId": "be0ec39a-86e8-4294-8520-ca04c2cabb07"
      },
      "source": [
        "#@title Install dependencies\n",
        "!pip install googledrivedownloader\n",
        "!pip install rich"
      ],
      "execution_count": 13,
      "outputs": [
        {
          "output_type": "stream",
          "text": [
            "Requirement already satisfied: googledrivedownloader in /usr/local/lib/python3.7/dist-packages (0.4)\n",
            "Requirement already satisfied: rich in /usr/local/lib/python3.7/dist-packages (10.1.0)\n",
            "Requirement already satisfied: typing-extensions<4.0.0,>=3.7.4 in /usr/local/lib/python3.7/dist-packages (from rich) (3.7.4.3)\n",
            "Requirement already satisfied: pygments<3.0.0,>=2.6.0 in /usr/local/lib/python3.7/dist-packages (from rich) (2.6.1)\n",
            "Requirement already satisfied: colorama<0.5.0,>=0.4.0 in /usr/local/lib/python3.7/dist-packages (from rich) (0.4.4)\n",
            "Requirement already satisfied: commonmark<0.10.0,>=0.9.0 in /usr/local/lib/python3.7/dist-packages (from rich) (0.9.1)\n"
          ],
          "name": "stdout"
        }
      ]
    },
    {
      "cell_type": "code",
      "metadata": {
        "id": "G60DmzDAbF3S",
        "colab": {
          "base_uri": "https://localhost:8080/",
          "height": 66,
          "referenced_widgets": [
            "bcdb68d0159a48768fa0b5d958292448",
            "9eaf44ff02ac4c819748b3c7417c373e",
            "84923d8e16ed401ebca7f1c0518e7caf",
            "ac97f0f312d0493cae21fcd99754b4ef"
          ]
        },
        "cellView": "form",
        "outputId": "00405368-8e13-4723-915a-4d0c98813087"
      },
      "source": [
        "#@title Download a dataset\n",
        "dataset = \"Qbert\" #@param [\"MontezumaRevenge\", \"Breakout\", \"Pitfall\", \"Qbert\"]\n",
        "from utils import *\n",
        "download(dataset, f'/content/{dataset}.zip')\n",
        "unzip(f'/content/{dataset}.zip', '/content')\n",
        "resize(f'/content/{dataset}/cells')"
      ],
      "execution_count": 7,
      "outputs": [
        {
          "output_type": "stream",
          "text": [
            "Downloading 1039o1Z40_8nZbf_XM_cxZWpbSjKZRk0Y into /content/Qbert.zip... Done.\n"
          ],
          "name": "stdout"
        },
        {
          "output_type": "display_data",
          "data": {
            "application/vnd.jupyter.widget-view+json": {
              "model_id": "bcdb68d0159a48768fa0b5d958292448",
              "version_minor": 0,
              "version_major": 2
            },
            "text/plain": [
              "Output()"
            ]
          },
          "metadata": {
            "tags": []
          }
        },
        {
          "output_type": "display_data",
          "data": {
            "application/vnd.jupyter.widget-view+json": {
              "model_id": "84923d8e16ed401ebca7f1c0518e7caf",
              "version_minor": 0,
              "version_major": 2
            },
            "text/plain": [
              "Output()"
            ]
          },
          "metadata": {
            "tags": []
          }
        }
      ]
    },
    {
      "cell_type": "code",
      "metadata": {
        "id": "r6EROBefKSzK",
        "cellView": "form"
      },
      "source": [
        "import distributed as dist\n",
        "from torch import optim\n",
        "from train import train\n",
        "import sys\n",
        "import os\n",
        "\n",
        "#@title Setup\n",
        "\n",
        "class Args:\n",
        "    n_gpu = 1\n",
        "    port = 2 ** 15 + 2 ** 14 + hash(os.getuid() if sys.platform != \"win32\" else 1) % 2 ** 14\n",
        "    dist_url = f'tcp://127.0.0.1:{port}'\n",
        "    epoch = 560 #@param {type:\"integer\"}\n",
        "    lr = 3e-4 #@param {type:\"number\"}\n",
        "    batch_size = 128 #@param {type:\"integer\"}\n",
        "    num_workers =  4#@param {type:\"integer\"}\n",
        "    normalize = True #@param {type:\"boolean\"}\n",
        "    optimizer = optim.Adam\n",
        "    distributed = dist.get_world_size() > 1\n",
        "    sched = ''\n",
        "    path = f'/content/{dataset}/resized'\n",
        "\n",
        "args = Args()"
      ],
      "execution_count": 8,
      "outputs": []
    },
    {
      "cell_type": "code",
      "metadata": {
        "id": "mC5ZQglBQh3X",
        "colab": {
          "base_uri": "https://localhost:8080/",
          "height": 103,
          "referenced_widgets": [
            "276f68c961284f459d4d7ade15ccf562",
            "3590a2e703ff4473b88105399269dafe"
          ]
        },
        "cellView": "form",
        "outputId": "797d5688-557a-417e-d74b-15e011e444ce"
      },
      "source": [
        "#@title Train\n",
        "#@markdown Results are saved to `./runs/<timestamp>`\n",
        "train(args)"
      ],
      "execution_count": null,
      "outputs": [
        {
          "output_type": "stream",
          "text": [
            "/usr/local/lib/python3.7/dist-packages/torch/utils/data/dataloader.py:477: UserWarning: This DataLoader will create 8 worker processes in total. Our suggested max number of worker in current system is 4, which is smaller than what this DataLoader is going to create. Please be aware that excessive worker creation might get DataLoader running slow or even freeze, lower the worker number to avoid potential slowness/freeze if necessary.\n",
            "  cpuset_checked))\n"
          ],
          "name": "stderr"
        },
        {
          "output_type": "display_data",
          "data": {
            "application/vnd.jupyter.widget-view+json": {
              "model_id": "276f68c961284f459d4d7ade15ccf562",
              "version_minor": 0,
              "version_major": 2
            },
            "text/plain": [
              "Output()"
            ]
          },
          "metadata": {
            "tags": []
          }
        }
      ]
    },
    {
      "cell_type": "code",
      "metadata": {
        "cellView": "form",
        "id": "yHr3SNy9WgIr"
      },
      "source": [
        "#@title Load Model For Evaluation\n",
        "timestamp = '' #@param {type:\"string\"}\n",
        "\n",
        "from vqvae import VQVAE\n",
        "import torch\n",
        "\n",
        "torch.set_grad_enabled(False)\n",
        "device = torch.device('cuda' if torch.cuda.is_available() else 'cpu')\n",
        "\n",
        "checkpoints_dir = os.path.join(timestamp, 'checkpoint')\n",
        "checkpoints = os.listdir(checkpoints_dir)\n",
        "checkpoints = list(filter(lambda name: name.endswith('.pt'), checkpoints))\n",
        "latest = max(checkpoints, key = lambda name: int(name[:-3].split('_')[1]))\n",
        "PATH = os.path.join(checkpoints_dir, latest)\n",
        "\n",
        "def encode_fn(PATH):\n",
        "    print ('Loading model...')\n",
        "    model = VQVAE()\n",
        "    saved = torch.load(PATH, map_location = torch.device(device))['model']\n",
        "    model.load_state_dict(saved)\n",
        "    model.eval()\n",
        "\n",
        "    def encode(observation):\n",
        "        x = cv2.resize(observation, (196, 148), interpolation = cv2.INTER_AREA)\n",
        "        x = x / 255.0\n",
        "        x = torch.Tensor(x)\n",
        "        x = x.permute(0, 3, 1, 2)\n",
        "        x = x.unsqueeze(0)\n",
        "        x = x.to(device)\n",
        "\n",
        "        _, _, _, indices, _ = model.encode(x)\n",
        "        encoded = indices.cpu().numpy()[0]\n",
        "\n",
        "        return encoded\n",
        "\n",
        "    return encode"
      ],
      "execution_count": null,
      "outputs": []
    },
    {
      "cell_type": "code",
      "metadata": {
        "cellView": "form",
        "id": "026j3QJZYKoD"
      },
      "source": [
        "#@title Evaluate\n",
        "#@markdown **Algorithm**\n",
        "iterations = 10000 #@param {type:\"integer\"}\n",
        "method = 'ram' #@param [\"ram\", \"trajectory\"]\n",
        "verbose = 1 #@param [0, 1, 2]\n",
        "repeat = 0.95 #@param {type:\"number\"}\n",
        "nsteps = 100 #@param {type:\"integer\"}\n",
        "seed = 42 #@param {type:\"integer\"}\n",
        "#@markdown **Logging**\n",
        "delimeter = '\\s' #@param {type:\"string\"}\n",
        "separator = True #@param {type:\"boolean\"}\n",
        "\n",
        "print ('Creating environment...')\n",
        "env = MontezumaRevenge()\n",
        "\n",
        "print ('Starting algorithm...')\n",
        "goexplore = GoExplore(env)\n",
        "goexplore.initialize(repeat = repeat, nsteps = nsteps, seed = seed, method = method, cellfn = encode_fn(PATH))\n",
        "goexplore.run_for(iterations, verbose = verbose, separator = separator, delimeter = delimeter)"
      ],
      "execution_count": null,
      "outputs": []
    },
    {
      "cell_type": "code",
      "metadata": {
        "id": "zcmWWslRaCWo"
      },
      "source": [
        ""
      ],
      "execution_count": null,
      "outputs": []
    }
  ]
}