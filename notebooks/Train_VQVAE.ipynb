{
  "nbformat": 4,
  "nbformat_minor": 0,
  "metadata": {
    "colab": {
      "name": "VQVAE2 Notebook.ipynb",
      "provenance": [],
      "collapsed_sections": [],
      "machine_shape": "hm"
    },
    "kernelspec": {
      "name": "python3",
      "display_name": "Python 3"
    },
    "language_info": {
      "name": "python"
    },
    "accelerator": "GPU",
    "widgets": {
      "application/vnd.jupyter.widget-state+json": {
        "bcdb68d0159a48768fa0b5d958292448": {
          "model_module": "@jupyter-widgets/output",
          "model_name": "OutputModel",
          "state": {
            "_view_name": "OutputView",
            "msg_id": "",
            "_dom_classes": [],
            "_model_name": "OutputModel",
            "outputs": [
              {
                "output_type": "display_data",
                "metadata": {
                  "tags": []
                },
                "text/html": "<pre style=\"white-space:pre;overflow-x:auto;line-height:normal;font-family:Menlo,'DejaVu Sans Mono',consolas,'Courier New',monospace\">  Extracting to /content <span style=\"color: #729c1f; text-decoration-color: #729c1f\">━━━━━━━━━━━━━━━━━━━━━━━━━━━━━━━━━━</span> <span style=\"color: #800080; text-decoration-color: #800080\">100%</span> <span style=\"color: #008080; text-decoration-color: #008080\">0:00:00</span> <span style=\"color: #008000; text-decoration-color: #008000\">735.1 MB</span> of <span style=\"color: #008000; text-decoration-color: #008000\">735.1 MB</span>\n</pre>\n",
                "text/plain": "  Extracting to /content \u001b[38;2;114;156;31m━━━━━━━━━━━━━━━━━━━━━━━━━━━━━━━━━━\u001b[0m \u001b[35m100%\u001b[0m \u001b[36m0:00:00\u001b[0m \u001b[32m735.1 MB\u001b[0m of \u001b[32m735.1 MB\u001b[0m\n"
              }
            ],
            "_view_module": "@jupyter-widgets/output",
            "_model_module_version": "1.0.0",
            "_view_count": null,
            "_view_module_version": "1.0.0",
            "layout": "IPY_MODEL_9eaf44ff02ac4c819748b3c7417c373e",
            "_model_module": "@jupyter-widgets/output"
          }
        },
        "9eaf44ff02ac4c819748b3c7417c373e": {
          "model_module": "@jupyter-widgets/base",
          "model_name": "LayoutModel",
          "state": {
            "_view_name": "LayoutView",
            "grid_template_rows": null,
            "right": null,
            "justify_content": null,
            "_view_module": "@jupyter-widgets/base",
            "overflow": null,
            "_model_module_version": "1.2.0",
            "_view_count": null,
            "flex_flow": null,
            "width": null,
            "min_width": null,
            "border": null,
            "align_items": null,
            "bottom": null,
            "_model_module": "@jupyter-widgets/base",
            "top": null,
            "grid_column": null,
            "overflow_y": null,
            "overflow_x": null,
            "grid_auto_flow": null,
            "grid_area": null,
            "grid_template_columns": null,
            "flex": null,
            "_model_name": "LayoutModel",
            "justify_items": null,
            "grid_row": null,
            "max_height": null,
            "align_content": null,
            "visibility": null,
            "align_self": null,
            "height": null,
            "min_height": null,
            "padding": null,
            "grid_auto_rows": null,
            "grid_gap": null,
            "max_width": null,
            "order": null,
            "_view_module_version": "1.2.0",
            "grid_template_areas": null,
            "object_position": null,
            "object_fit": null,
            "grid_auto_columns": null,
            "margin": null,
            "display": null,
            "left": null
          }
        },
        "84923d8e16ed401ebca7f1c0518e7caf": {
          "model_module": "@jupyter-widgets/output",
          "model_name": "OutputModel",
          "state": {
            "_view_name": "OutputView",
            "msg_id": "",
            "_dom_classes": [],
            "_model_name": "OutputModel",
            "outputs": [
              {
                "output_type": "display_data",
                "metadata": {
                  "tags": []
                },
                "text/html": "<pre style=\"white-space:pre;overflow-x:auto;line-height:normal;font-family:Menlo,'DejaVu Sans Mono',consolas,'Courier New',monospace\">  Resizing to /content/Qbert/resized/cells <span style=\"color: #729c1f; text-decoration-color: #729c1f\">━━━━━━━━━━━━━━━━━━━━━━━━━━━━━━━━━━━━━</span> <span style=\"color: #800080; text-decoration-color: #800080\">100%</span> <span style=\"color: #008080; text-decoration-color: #008080\">0:00:00</span>\n</pre>\n",
                "text/plain": "  Resizing to /content/Qbert/resized/cells \u001b[38;2;114;156;31m━━━━━━━━━━━━━━━━━━━━━━━━━━━━━━━━━━━━━\u001b[0m \u001b[35m100%\u001b[0m \u001b[36m0:00:00\u001b[0m\n"
              }
            ],
            "_view_module": "@jupyter-widgets/output",
            "_model_module_version": "1.0.0",
            "_view_count": null,
            "_view_module_version": "1.0.0",
            "layout": "IPY_MODEL_ac97f0f312d0493cae21fcd99754b4ef",
            "_model_module": "@jupyter-widgets/output"
          }
        },
        "ac97f0f312d0493cae21fcd99754b4ef": {
          "model_module": "@jupyter-widgets/base",
          "model_name": "LayoutModel",
          "state": {
            "_view_name": "LayoutView",
            "grid_template_rows": null,
            "right": null,
            "justify_content": null,
            "_view_module": "@jupyter-widgets/base",
            "overflow": null,
            "_model_module_version": "1.2.0",
            "_view_count": null,
            "flex_flow": null,
            "width": null,
            "min_width": null,
            "border": null,
            "align_items": null,
            "bottom": null,
            "_model_module": "@jupyter-widgets/base",
            "top": null,
            "grid_column": null,
            "overflow_y": null,
            "overflow_x": null,
            "grid_auto_flow": null,
            "grid_area": null,
            "grid_template_columns": null,
            "flex": null,
            "_model_name": "LayoutModel",
            "justify_items": null,
            "grid_row": null,
            "max_height": null,
            "align_content": null,
            "visibility": null,
            "align_self": null,
            "height": null,
            "min_height": null,
            "padding": null,
            "grid_auto_rows": null,
            "grid_gap": null,
            "max_width": null,
            "order": null,
            "_view_module_version": "1.2.0",
            "grid_template_areas": null,
            "object_position": null,
            "object_fit": null,
            "grid_auto_columns": null,
            "margin": null,
            "display": null,
            "left": null
          }
        },
        "03335094e1a1418ca6beb982fbfd5e1d": {
          "model_module": "@jupyter-widgets/output",
          "model_name": "OutputModel",
          "state": {
            "_view_name": "OutputView",
            "msg_id": "",
            "_dom_classes": [],
            "_model_name": "OutputModel",
            "outputs": [
              {
                "output_type": "display_data",
                "metadata": {
                  "tags": []
                },
                "text/html": "<pre style=\"white-space:pre;overflow-x:auto;line-height:normal;font-family:Menlo,'DejaVu Sans Mono',consolas,'Courier New',monospace\"><span style=\"color: #008000; text-decoration-color: #008000\">⠼</span> Running <span style=\"color: #f92672; text-decoration-color: #f92672\">━</span><span style=\"color: #3a3a3a; text-decoration-color: #3a3a3a\">╺━━━━━━━━━━━━━━━━━━━━━━━━━━━━━━━━━━━━━━</span> <span style=\"color: #800080; text-decoration-color: #800080\">  4%</span> <span style=\"color: #008080; text-decoration-color: #008080\">0:29:57</span>\n</pre>\n",
                "text/plain": "\u001b[32m⠼\u001b[0m Running \u001b[38;2;249;38;114m━\u001b[0m\u001b[38;5;237m╺\u001b[0m\u001b[38;5;237m━━━━━━━━━━━━━━━━━━━━━━━━━━━━━━━━━━━━━━\u001b[0m \u001b[35m  4%\u001b[0m \u001b[36m0:29:57\u001b[0m\n"
              }
            ],
            "_view_module": "@jupyter-widgets/output",
            "_model_module_version": "1.0.0",
            "_view_count": null,
            "_view_module_version": "1.0.0",
            "layout": "IPY_MODEL_515799cdbf514dd294ca1716c17d3998",
            "_model_module": "@jupyter-widgets/output"
          }
        },
        "515799cdbf514dd294ca1716c17d3998": {
          "model_module": "@jupyter-widgets/base",
          "model_name": "LayoutModel",
          "state": {
            "_view_name": "LayoutView",
            "grid_template_rows": null,
            "right": null,
            "justify_content": null,
            "_view_module": "@jupyter-widgets/base",
            "overflow": null,
            "_model_module_version": "1.2.0",
            "_view_count": null,
            "flex_flow": null,
            "width": null,
            "min_width": null,
            "border": null,
            "align_items": null,
            "bottom": null,
            "_model_module": "@jupyter-widgets/base",
            "top": null,
            "grid_column": null,
            "overflow_y": null,
            "overflow_x": null,
            "grid_auto_flow": null,
            "grid_area": null,
            "grid_template_columns": null,
            "flex": null,
            "_model_name": "LayoutModel",
            "justify_items": null,
            "grid_row": null,
            "max_height": null,
            "align_content": null,
            "visibility": null,
            "align_self": null,
            "height": null,
            "min_height": null,
            "padding": null,
            "grid_auto_rows": null,
            "grid_gap": null,
            "max_width": null,
            "order": null,
            "_view_module_version": "1.2.0",
            "grid_template_areas": null,
            "object_position": null,
            "object_fit": null,
            "grid_auto_columns": null,
            "margin": null,
            "display": null,
            "left": null
          }
        }
      }
    }
  },
  "cells": [
    {
      "cell_type": "code",
      "metadata": {
        "id": "MN-G2P2Tv-HJ",
        "colab": {
          "base_uri": "https://localhost:8080/"
        },
        "cellView": "form",
        "outputId": "05379299-3884-4d02-ef24-6c4933d24897"
      },
      "source": [
        "#@title Get started\n",
        "mount_drive = True #@param {type:\"boolean\"}\n",
        "replace_existing = True #@param {type:\"boolean\"}\n",
        "\n",
        "import os\n",
        "\n",
        "if mount_drive:\n",
        "    from google.colab import drive\n",
        "    drive.mount('/content/drive')\n",
        "    os.chdir('/content/drive/My Drive/')\n",
        "\n",
        "if os.path.exists('VQVAE-Clean'):\n",
        "    if replace_existing:\n",
        "        proceed = ''\n",
        "        while not (proceed == 'y' or proceed == 'n'):\n",
        "            proceed = input('\\nAre you sure that you want to replace the existing directory?\\nThis will delete all existing model checkpoints and samples (y/n): ')\n",
        "        if proceed == 'y':\n",
        "            print ('Removing existing code directory...')\n",
        "            import shutil\n",
        "            shutil.rmtree('VQVAE-Clean')\n",
        "            print ('Cloning repository...')\n",
        "            !git clone https://github.com/Ryan-Rudes/VQVAE-Clean\n",
        "        else:\n",
        "            print ('Alright... stopping.')\n",
        "            raise KeyboardInterrupt\n",
        "    else:\n",
        "        print ('Using existing code directory')\n",
        "else:\n",
        "    print ('Cloning repository...')\n",
        "    !git clone https://github.com/Ryan-Rudes/VQVAE-Clean\n",
        "\n",
        "%cd VQVAE-Clean"
      ],
      "execution_count": 1,
      "outputs": [
        {
          "output_type": "stream",
          "text": [
            "Drive already mounted at /content/drive; to attempt to forcibly remount, call drive.mount(\"/content/drive\", force_remount=True).\n",
            "\n",
            "Are you sure that you want to replace the existing directory?\n",
            "This will delete all existing model checkpoints and samples (y/n): y\n",
            "Removing existing code directory...\n",
            "Cloning repository...\n",
            "Cloning into 'VQVAE-Clean'...\n",
            "remote: Enumerating objects: 306, done.\u001b[K\n",
            "remote: Counting objects: 100% (306/306), done.\u001b[K\n",
            "remote: Compressing objects: 100% (217/217), done.\u001b[K\n",
            "remote: Total 306 (delta 208), reused 183 (delta 85), pack-reused 0\u001b[K\n",
            "Receiving objects: 100% (306/306), 78.67 KiB | 4.63 MiB/s, done.\n",
            "Resolving deltas: 100% (208/208), done.\n",
            "/content/drive/My Drive/VQVAE-Clean\n"
          ],
          "name": "stdout"
        }
      ]
    },
    {
      "cell_type": "code",
      "metadata": {
        "id": "J3ChFWRSRJga",
        "cellView": "form",
        "colab": {
          "base_uri": "https://localhost:8080/"
        },
        "outputId": "be0ec39a-86e8-4294-8520-ca04c2cabb07"
      },
      "source": [
        "#@title Install dependencies\n",
        "!pip install googledrivedownloader\n",
        "!pip install rich"
      ],
      "execution_count": 13,
      "outputs": [
        {
          "output_type": "stream",
          "text": [
            "Requirement already satisfied: googledrivedownloader in /usr/local/lib/python3.7/dist-packages (0.4)\n",
            "Requirement already satisfied: rich in /usr/local/lib/python3.7/dist-packages (10.1.0)\n",
            "Requirement already satisfied: typing-extensions<4.0.0,>=3.7.4 in /usr/local/lib/python3.7/dist-packages (from rich) (3.7.4.3)\n",
            "Requirement already satisfied: pygments<3.0.0,>=2.6.0 in /usr/local/lib/python3.7/dist-packages (from rich) (2.6.1)\n",
            "Requirement already satisfied: colorama<0.5.0,>=0.4.0 in /usr/local/lib/python3.7/dist-packages (from rich) (0.4.4)\n",
            "Requirement already satisfied: commonmark<0.10.0,>=0.9.0 in /usr/local/lib/python3.7/dist-packages (from rich) (0.9.1)\n"
          ],
          "name": "stdout"
        }
      ]
    },
    {
      "cell_type": "code",
      "metadata": {
        "id": "G60DmzDAbF3S",
        "colab": {
          "base_uri": "https://localhost:8080/",
          "height": 66,
          "referenced_widgets": [
            "bcdb68d0159a48768fa0b5d958292448",
            "9eaf44ff02ac4c819748b3c7417c373e",
            "84923d8e16ed401ebca7f1c0518e7caf",
            "ac97f0f312d0493cae21fcd99754b4ef"
          ]
        },
        "cellView": "form",
        "outputId": "00405368-8e13-4723-915a-4d0c98813087"
      },
      "source": [
        "#@title Download a dataset\n",
        "dataset = \"Qbert\" #@param [\"MontezumaRevenge\", \"Breakout\", \"Pitfall\", \"Qbert\"]\n",
        "from utils import *\n",
        "download(dataset, f'/content/{dataset}.zip')\n",
        "unzip(f'/content/{dataset}.zip', '/content')\n",
        "resize(f'/content/{dataset}/cells')"
      ],
      "execution_count": 7,
      "outputs": [
        {
          "output_type": "stream",
          "text": [
            "Downloading 1039o1Z40_8nZbf_XM_cxZWpbSjKZRk0Y into /content/Qbert.zip... Done.\n"
          ],
          "name": "stdout"
        },
        {
          "output_type": "display_data",
          "data": {
            "application/vnd.jupyter.widget-view+json": {
              "model_id": "bcdb68d0159a48768fa0b5d958292448",
              "version_minor": 0,
              "version_major": 2
            },
            "text/plain": [
              "Output()"
            ]
          },
          "metadata": {
            "tags": []
          }
        },
        {
          "output_type": "display_data",
          "data": {
            "application/vnd.jupyter.widget-view+json": {
              "model_id": "84923d8e16ed401ebca7f1c0518e7caf",
              "version_minor": 0,
              "version_major": 2
            },
            "text/plain": [
              "Output()"
            ]
          },
          "metadata": {
            "tags": []
          }
        }
      ]
    },
    {
      "cell_type": "code",
      "metadata": {
        "id": "r6EROBefKSzK",
        "cellView": "form"
      },
      "source": [
        "import distributed as dist\n",
        "from torch import optim\n",
        "from train import train\n",
        "import sys\n",
        "import os\n",
        "\n",
        "#@title Setup\n",
        "\n",
        "class Args:\n",
        "    n_gpu = 1\n",
        "    port = 2 ** 15 + 2 ** 14 + hash(os.getuid() if sys.platform != \"win32\" else 1) % 2 ** 14\n",
        "    dist_url = f'tcp://127.0.0.1:{port}'\n",
        "    epoch = 560 #@param {type:\"integer\"}\n",
        "    lr = 3e-4 #@param {type:\"number\"}\n",
        "    batch_size = 128 #@param {type:\"integer\"}\n",
        "    num_workers =  4#@param {type:\"integer\"}\n",
        "    normalize = True #@param {type:\"boolean\"}\n",
        "    optimizer = optim.Adam\n",
        "    distributed = dist.get_world_size() > 1\n",
        "    sched = ''\n",
        "    path = f'/content/{dataset}/resized'\n",
        "\n",
        "args = Args()"
      ],
      "execution_count": 8,
      "outputs": []
    },
    {
      "cell_type": "code",
      "metadata": {
        "id": "mC5ZQglBQh3X",
        "cellView": "form"
      },
      "source": [
        "#@title Train\n",
        "#@markdown Results are saved to `./runs/<timestamp>`\n",
        "train(args)"
      ],
      "execution_count": null,
      "outputs": []
    },
    {
      "cell_type": "code",
      "metadata": {
        "cellView": "form",
        "id": "yHr3SNy9WgIr"
      },
      "source": [
        "#@title Load Model For Evaluation\n",
        "timestamp = '' #@param {type:\"string\"}\n",
        "\n",
        "from vqvae import VQVAE\n",
        "import torch\n",
        "\n",
        "torch.set_grad_enabled(False)\n",
        "device = torch.device('cuda' if torch.cuda.is_available() else 'cpu')\n",
        "\n",
        "checkpoints_dir = os.path.join('runs', timestamp, 'checkpoint')\n",
        "checkpoints = os.listdir(checkpoints_dir)\n",
        "checkpoints = list(filter(lambda name: name.endswith('.pt'), checkpoints))\n",
        "latest = max(checkpoints, key = lambda name: int(name[:-3].split('_')[1]))\n",
        "PATH = os.path.join(checkpoints_dir, latest)\n",
        "\n",
        "def encode_fn(PATH):\n",
        "    print ('Loading model...')\n",
        "    model = VQVAE()\n",
        "    saved = torch.load(PATH, map_location = torch.device(device))\n",
        "    model.load_state_dict(saved)\n",
        "    model = model.to(device)\n",
        "    model.eval()\n",
        "\n",
        "    def encode(observation):\n",
        "        x = cv2.resize(observation, (160, 160), interpolation = cv2.INTER_AREA)\n",
        "        x = x / 255.0\n",
        "        x = torch.Tensor(x)\n",
        "        x = x.permute(2, 0, 1)\n",
        "        x = x.unsqueeze(0)\n",
        "        x = x.to(device)\n",
        "\n",
        "        _, _, _, indices, _ = model.encode(x)\n",
        "        encoded = indices.cpu().numpy()[0]\n",
        "\n",
        "        return encoded\n",
        "\n",
        "    return encode"
      ],
      "execution_count": 32,
      "outputs": []
    },
    {
      "cell_type": "code",
      "metadata": {
        "colab": {
          "base_uri": "https://localhost:8080/",
          "height": 1000,
          "referenced_widgets": [
            "03335094e1a1418ca6beb982fbfd5e1d",
            "515799cdbf514dd294ca1716c17d3998"
          ]
        },
        "cellView": "form",
        "id": "026j3QJZYKoD",
        "outputId": "d7ef0de1-fdbe-4465-bce3-25207f421381"
      },
      "source": [
        "from goexplore.algorithm import GoExplore\n",
        "from goexplore.wrappers import *\n",
        "\n",
        "#@title Evaluate\n",
        "#@markdown **Algorithm**\n",
        "iterations = 10000 #@param {type:\"integer\"}\n",
        "method = 'ram' #@param [\"ram\", \"trajectory\"]\n",
        "repeat = 0.95 #@param {type:\"number\"}\n",
        "nsteps = 100 #@param {type:\"integer\"}\n",
        "seed = 42 #@param {type:\"integer\"}\n",
        "#@markdown **Logging**\n",
        "verbosity = 1 #@param [0, 1, 2]\n",
        "delimeter = '\\s' #@param {type:\"string\"}\n",
        "separator = True #@param {type:\"boolean\"}\n",
        "\n",
        "print ('Creating environment...')\n",
        "env = MontezumaRevenge()\n",
        "\n",
        "print ('Starting algorithm...')\n",
        "goexplore = GoExplore(env)\n",
        "goexplore.initialize(repeat = repeat, nsteps = nsteps, seed = seed, method = method, cellfn = encode_fn(PATH))\n",
        "goexplore.run_for(iterations, verbose = verbosity, separator = separator, delimeter = delimeter)"
      ],
      "execution_count": null,
      "outputs": [
        {
          "output_type": "stream",
          "text": [
            "Creating environment...\n",
            "Starting algorithm...\n",
            "Loading model...\n"
          ],
          "name": "stdout"
        },
        {
          "output_type": "display_data",
          "data": {
            "application/vnd.jupyter.widget-view+json": {
              "model_id": "03335094e1a1418ca6beb982fbfd5e1d",
              "version_minor": 0,
              "version_major": 2
            },
            "text/plain": [
              "Output()"
            ]
          },
          "metadata": {
            "tags": []
          }
        },
        {
          "output_type": "display_data",
          "data": {
            "text/html": [
              "<pre style=\"white-space:pre;overflow-x:auto;line-height:normal;font-family:Menlo,'DejaVu Sans Mono',consolas,'Courier New',monospace\">Iterations: <span style=\"color: #008080; text-decoration-color: #008080; font-weight: bold\">1</span>, Cells: <span style=\"color: #008080; text-decoration-color: #008080; font-weight: bold\">16</span>, Frames: <span style=\"color: #008080; text-decoration-color: #008080; font-weight: bold\">31</span>, Max Reward: <span style=\"color: #008080; text-decoration-color: #008080; font-weight: bold\">0</span>\n",
              "</pre>\n"
            ],
            "text/plain": [
              "Iterations: \u001b[1;36m1\u001b[0m, Cells: \u001b[1;36m16\u001b[0m, Frames: \u001b[1;36m31\u001b[0m, Max Reward: \u001b[1;36m0\u001b[0m\n"
            ]
          },
          "metadata": {
            "tags": []
          }
        },
        {
          "output_type": "display_data",
          "data": {
            "text/html": [
              "<pre style=\"white-space:pre;overflow-x:auto;line-height:normal;font-family:Menlo,'DejaVu Sans Mono',consolas,'Courier New',monospace\">Iterations: <span style=\"color: #008080; text-decoration-color: #008080; font-weight: bold\">2</span>, Cells: <span style=\"color: #008080; text-decoration-color: #008080; font-weight: bold\">16</span>, Frames: <span style=\"color: #008080; text-decoration-color: #008080; font-weight: bold\">54</span>, Max Reward: <span style=\"color: #008080; text-decoration-color: #008080; font-weight: bold\">0</span>\n",
              "</pre>\n"
            ],
            "text/plain": [
              "Iterations: \u001b[1;36m2\u001b[0m, Cells: \u001b[1;36m16\u001b[0m, Frames: \u001b[1;36m54\u001b[0m, Max Reward: \u001b[1;36m0\u001b[0m\n"
            ]
          },
          "metadata": {
            "tags": []
          }
        },
        {
          "output_type": "display_data",
          "data": {
            "text/html": [
              "<pre style=\"white-space:pre;overflow-x:auto;line-height:normal;font-family:Menlo,'DejaVu Sans Mono',consolas,'Courier New',monospace\">Iterations: <span style=\"color: #008080; text-decoration-color: #008080; font-weight: bold\">3</span>, Cells: <span style=\"color: #008080; text-decoration-color: #008080; font-weight: bold\">21</span>, Frames: <span style=\"color: #008080; text-decoration-color: #008080; font-weight: bold\">66</span>, Max Reward: <span style=\"color: #008080; text-decoration-color: #008080; font-weight: bold\">0</span>\n",
              "</pre>\n"
            ],
            "text/plain": [
              "Iterations: \u001b[1;36m3\u001b[0m, Cells: \u001b[1;36m21\u001b[0m, Frames: \u001b[1;36m66\u001b[0m, Max Reward: \u001b[1;36m0\u001b[0m\n"
            ]
          },
          "metadata": {
            "tags": []
          }
        },
        {
          "output_type": "display_data",
          "data": {
            "text/html": [
              "<pre style=\"white-space:pre;overflow-x:auto;line-height:normal;font-family:Menlo,'DejaVu Sans Mono',consolas,'Courier New',monospace\">Iterations: <span style=\"color: #008080; text-decoration-color: #008080; font-weight: bold\">4</span>, Cells: <span style=\"color: #008080; text-decoration-color: #008080; font-weight: bold\">21</span>, Frames: <span style=\"color: #008080; text-decoration-color: #008080; font-weight: bold\">68</span>, Max Reward: <span style=\"color: #008080; text-decoration-color: #008080; font-weight: bold\">0</span>\n",
              "</pre>\n"
            ],
            "text/plain": [
              "Iterations: \u001b[1;36m4\u001b[0m, Cells: \u001b[1;36m21\u001b[0m, Frames: \u001b[1;36m68\u001b[0m, Max Reward: \u001b[1;36m0\u001b[0m\n"
            ]
          },
          "metadata": {
            "tags": []
          }
        },
        {
          "output_type": "display_data",
          "data": {
            "text/html": [
              "<pre style=\"white-space:pre;overflow-x:auto;line-height:normal;font-family:Menlo,'DejaVu Sans Mono',consolas,'Courier New',monospace\">Iterations: <span style=\"color: #008080; text-decoration-color: #008080; font-weight: bold\">5</span>, Cells: <span style=\"color: #008080; text-decoration-color: #008080; font-weight: bold\">22</span>, Frames: <span style=\"color: #008080; text-decoration-color: #008080; font-weight: bold\">168</span>, Max Reward: <span style=\"color: #008080; text-decoration-color: #008080; font-weight: bold\">0</span>\n",
              "</pre>\n"
            ],
            "text/plain": [
              "Iterations: \u001b[1;36m5\u001b[0m, Cells: \u001b[1;36m22\u001b[0m, Frames: \u001b[1;36m168\u001b[0m, Max Reward: \u001b[1;36m0\u001b[0m\n"
            ]
          },
          "metadata": {
            "tags": []
          }
        },
        {
          "output_type": "display_data",
          "data": {
            "text/html": [
              "<pre style=\"white-space:pre;overflow-x:auto;line-height:normal;font-family:Menlo,'DejaVu Sans Mono',consolas,'Courier New',monospace\">Iterations: <span style=\"color: #008080; text-decoration-color: #008080; font-weight: bold\">6</span>, Cells: <span style=\"color: #008080; text-decoration-color: #008080; font-weight: bold\">27</span>, Frames: <span style=\"color: #008080; text-decoration-color: #008080; font-weight: bold\">175</span>, Max Reward: <span style=\"color: #008080; text-decoration-color: #008080; font-weight: bold\">0</span>\n",
              "</pre>\n"
            ],
            "text/plain": [
              "Iterations: \u001b[1;36m6\u001b[0m, Cells: \u001b[1;36m27\u001b[0m, Frames: \u001b[1;36m175\u001b[0m, Max Reward: \u001b[1;36m0\u001b[0m\n"
            ]
          },
          "metadata": {
            "tags": []
          }
        },
        {
          "output_type": "display_data",
          "data": {
            "text/html": [
              "<pre style=\"white-space:pre;overflow-x:auto;line-height:normal;font-family:Menlo,'DejaVu Sans Mono',consolas,'Courier New',monospace\">Iterations: <span style=\"color: #008080; text-decoration-color: #008080; font-weight: bold\">7</span>, Cells: <span style=\"color: #008080; text-decoration-color: #008080; font-weight: bold\">31</span>, Frames: <span style=\"color: #008080; text-decoration-color: #008080; font-weight: bold\">184</span>, Max Reward: <span style=\"color: #008080; text-decoration-color: #008080; font-weight: bold\">0</span>\n",
              "</pre>\n"
            ],
            "text/plain": [
              "Iterations: \u001b[1;36m7\u001b[0m, Cells: \u001b[1;36m31\u001b[0m, Frames: \u001b[1;36m184\u001b[0m, Max Reward: \u001b[1;36m0\u001b[0m\n"
            ]
          },
          "metadata": {
            "tags": []
          }
        },
        {
          "output_type": "display_data",
          "data": {
            "text/html": [
              "<pre style=\"white-space:pre;overflow-x:auto;line-height:normal;font-family:Menlo,'DejaVu Sans Mono',consolas,'Courier New',monospace\">Iterations: <span style=\"color: #008080; text-decoration-color: #008080; font-weight: bold\">8</span>, Cells: <span style=\"color: #008080; text-decoration-color: #008080; font-weight: bold\">31</span>, Frames: <span style=\"color: #008080; text-decoration-color: #008080; font-weight: bold\">188</span>, Max Reward: <span style=\"color: #008080; text-decoration-color: #008080; font-weight: bold\">0</span>\n",
              "</pre>\n"
            ],
            "text/plain": [
              "Iterations: \u001b[1;36m8\u001b[0m, Cells: \u001b[1;36m31\u001b[0m, Frames: \u001b[1;36m188\u001b[0m, Max Reward: \u001b[1;36m0\u001b[0m\n"
            ]
          },
          "metadata": {
            "tags": []
          }
        },
        {
          "output_type": "display_data",
          "data": {
            "text/html": [
              "<pre style=\"white-space:pre;overflow-x:auto;line-height:normal;font-family:Menlo,'DejaVu Sans Mono',consolas,'Courier New',monospace\">Iterations: <span style=\"color: #008080; text-decoration-color: #008080; font-weight: bold\">9</span>, Cells: <span style=\"color: #008080; text-decoration-color: #008080; font-weight: bold\">34</span>, Frames: <span style=\"color: #008080; text-decoration-color: #008080; font-weight: bold\">197</span>, Max Reward: <span style=\"color: #008080; text-decoration-color: #008080; font-weight: bold\">0</span>\n",
              "</pre>\n"
            ],
            "text/plain": [
              "Iterations: \u001b[1;36m9\u001b[0m, Cells: \u001b[1;36m34\u001b[0m, Frames: \u001b[1;36m197\u001b[0m, Max Reward: \u001b[1;36m0\u001b[0m\n"
            ]
          },
          "metadata": {
            "tags": []
          }
        },
        {
          "output_type": "display_data",
          "data": {
            "text/html": [
              "<pre style=\"white-space:pre;overflow-x:auto;line-height:normal;font-family:Menlo,'DejaVu Sans Mono',consolas,'Courier New',monospace\">Iterations: <span style=\"color: #008080; text-decoration-color: #008080; font-weight: bold\">10</span>, Cells: <span style=\"color: #008080; text-decoration-color: #008080; font-weight: bold\">34</span>, Frames: <span style=\"color: #008080; text-decoration-color: #008080; font-weight: bold\">202</span>, Max Reward: <span style=\"color: #008080; text-decoration-color: #008080; font-weight: bold\">0</span>\n",
              "</pre>\n"
            ],
            "text/plain": [
              "Iterations: \u001b[1;36m10\u001b[0m, Cells: \u001b[1;36m34\u001b[0m, Frames: \u001b[1;36m202\u001b[0m, Max Reward: \u001b[1;36m0\u001b[0m\n"
            ]
          },
          "metadata": {
            "tags": []
          }
        },
        {
          "output_type": "display_data",
          "data": {
            "text/html": [
              "<pre style=\"white-space:pre;overflow-x:auto;line-height:normal;font-family:Menlo,'DejaVu Sans Mono',consolas,'Courier New',monospace\">Iterations: <span style=\"color: #008080; text-decoration-color: #008080; font-weight: bold\">11</span>, Cells: <span style=\"color: #008080; text-decoration-color: #008080; font-weight: bold\">34</span>, Frames: <span style=\"color: #008080; text-decoration-color: #008080; font-weight: bold\">207</span>, Max Reward: <span style=\"color: #008080; text-decoration-color: #008080; font-weight: bold\">0</span>\n",
              "</pre>\n"
            ],
            "text/plain": [
              "Iterations: \u001b[1;36m11\u001b[0m, Cells: \u001b[1;36m34\u001b[0m, Frames: \u001b[1;36m207\u001b[0m, Max Reward: \u001b[1;36m0\u001b[0m\n"
            ]
          },
          "metadata": {
            "tags": []
          }
        },
        {
          "output_type": "display_data",
          "data": {
            "text/html": [
              "<pre style=\"white-space:pre;overflow-x:auto;line-height:normal;font-family:Menlo,'DejaVu Sans Mono',consolas,'Courier New',monospace\">Iterations: <span style=\"color: #008080; text-decoration-color: #008080; font-weight: bold\">14</span>, Cells: <span style=\"color: #008080; text-decoration-color: #008080; font-weight: bold\">40</span>, Frames: <span style=\"color: #008080; text-decoration-color: #008080; font-weight: bold\">233</span>, Max Reward: <span style=\"color: #008080; text-decoration-color: #008080; font-weight: bold\">0</span>\n",
              "</pre>\n"
            ],
            "text/plain": [
              "Iterations: \u001b[1;36m14\u001b[0m, Cells: \u001b[1;36m40\u001b[0m, Frames: \u001b[1;36m233\u001b[0m, Max Reward: \u001b[1;36m0\u001b[0m\n"
            ]
          },
          "metadata": {
            "tags": []
          }
        },
        {
          "output_type": "display_data",
          "data": {
            "text/html": [
              "<pre style=\"white-space:pre;overflow-x:auto;line-height:normal;font-family:Menlo,'DejaVu Sans Mono',consolas,'Courier New',monospace\">Iterations: <span style=\"color: #008080; text-decoration-color: #008080; font-weight: bold\">15</span>, Cells: <span style=\"color: #008080; text-decoration-color: #008080; font-weight: bold\">53</span>, Frames: <span style=\"color: #008080; text-decoration-color: #008080; font-weight: bold\">297</span>, Max Reward: <span style=\"color: #008080; text-decoration-color: #008080; font-weight: bold\">0</span>\n",
              "</pre>\n"
            ],
            "text/plain": [
              "Iterations: \u001b[1;36m15\u001b[0m, Cells: \u001b[1;36m53\u001b[0m, Frames: \u001b[1;36m297\u001b[0m, Max Reward: \u001b[1;36m0\u001b[0m\n"
            ]
          },
          "metadata": {
            "tags": []
          }
        },
        {
          "output_type": "display_data",
          "data": {
            "text/html": [
              "<pre style=\"white-space:pre;overflow-x:auto;line-height:normal;font-family:Menlo,'DejaVu Sans Mono',consolas,'Courier New',monospace\">Iterations: <span style=\"color: #008080; text-decoration-color: #008080; font-weight: bold\">16</span>, Cells: <span style=\"color: #008080; text-decoration-color: #008080; font-weight: bold\">55</span>, Frames: <span style=\"color: #008080; text-decoration-color: #008080; font-weight: bold\">397</span>, Max Reward: <span style=\"color: #008080; text-decoration-color: #008080; font-weight: bold\">0</span>\n",
              "</pre>\n"
            ],
            "text/plain": [
              "Iterations: \u001b[1;36m16\u001b[0m, Cells: \u001b[1;36m55\u001b[0m, Frames: \u001b[1;36m397\u001b[0m, Max Reward: \u001b[1;36m0\u001b[0m\n"
            ]
          },
          "metadata": {
            "tags": []
          }
        },
        {
          "output_type": "display_data",
          "data": {
            "text/html": [
              "<pre style=\"white-space:pre;overflow-x:auto;line-height:normal;font-family:Menlo,'DejaVu Sans Mono',consolas,'Courier New',monospace\">Iterations: <span style=\"color: #008080; text-decoration-color: #008080; font-weight: bold\">17</span>, Cells: <span style=\"color: #008080; text-decoration-color: #008080; font-weight: bold\">55</span>, Frames: <span style=\"color: #008080; text-decoration-color: #008080; font-weight: bold\">399</span>, Max Reward: <span style=\"color: #008080; text-decoration-color: #008080; font-weight: bold\">0</span>\n",
              "</pre>\n"
            ],
            "text/plain": [
              "Iterations: \u001b[1;36m17\u001b[0m, Cells: \u001b[1;36m55\u001b[0m, Frames: \u001b[1;36m399\u001b[0m, Max Reward: \u001b[1;36m0\u001b[0m\n"
            ]
          },
          "metadata": {
            "tags": []
          }
        },
        {
          "output_type": "display_data",
          "data": {
            "text/html": [
              "<pre style=\"white-space:pre;overflow-x:auto;line-height:normal;font-family:Menlo,'DejaVu Sans Mono',consolas,'Courier New',monospace\">Iterations: <span style=\"color: #008080; text-decoration-color: #008080; font-weight: bold\">18</span>, Cells: <span style=\"color: #008080; text-decoration-color: #008080; font-weight: bold\">62</span>, Frames: <span style=\"color: #008080; text-decoration-color: #008080; font-weight: bold\">499</span>, Max Reward: <span style=\"color: #008080; text-decoration-color: #008080; font-weight: bold\">0</span>\n",
              "</pre>\n"
            ],
            "text/plain": [
              "Iterations: \u001b[1;36m18\u001b[0m, Cells: \u001b[1;36m62\u001b[0m, Frames: \u001b[1;36m499\u001b[0m, Max Reward: \u001b[1;36m0\u001b[0m\n"
            ]
          },
          "metadata": {
            "tags": []
          }
        },
        {
          "output_type": "display_data",
          "data": {
            "text/html": [
              "<pre style=\"white-space:pre;overflow-x:auto;line-height:normal;font-family:Menlo,'DejaVu Sans Mono',consolas,'Courier New',monospace\">Iterations: <span style=\"color: #008080; text-decoration-color: #008080; font-weight: bold\">19</span>, Cells: <span style=\"color: #008080; text-decoration-color: #008080; font-weight: bold\">63</span>, Frames: <span style=\"color: #008080; text-decoration-color: #008080; font-weight: bold\">599</span>, Max Reward: <span style=\"color: #008080; text-decoration-color: #008080; font-weight: bold\">0</span>\n",
              "</pre>\n"
            ],
            "text/plain": [
              "Iterations: \u001b[1;36m19\u001b[0m, Cells: \u001b[1;36m63\u001b[0m, Frames: \u001b[1;36m599\u001b[0m, Max Reward: \u001b[1;36m0\u001b[0m\n"
            ]
          },
          "metadata": {
            "tags": []
          }
        },
        {
          "output_type": "display_data",
          "data": {
            "text/html": [
              "<pre style=\"white-space:pre;overflow-x:auto;line-height:normal;font-family:Menlo,'DejaVu Sans Mono',consolas,'Courier New',monospace\">Iterations: <span style=\"color: #008080; text-decoration-color: #008080; font-weight: bold\">20</span>, Cells: <span style=\"color: #008080; text-decoration-color: #008080; font-weight: bold\">63</span>, Frames: <span style=\"color: #008080; text-decoration-color: #008080; font-weight: bold\">604</span>, Max Reward: <span style=\"color: #008080; text-decoration-color: #008080; font-weight: bold\">0</span>\n",
              "</pre>\n"
            ],
            "text/plain": [
              "Iterations: \u001b[1;36m20\u001b[0m, Cells: \u001b[1;36m63\u001b[0m, Frames: \u001b[1;36m604\u001b[0m, Max Reward: \u001b[1;36m0\u001b[0m\n"
            ]
          },
          "metadata": {
            "tags": []
          }
        },
        {
          "output_type": "display_data",
          "data": {
            "text/html": [
              "<pre style=\"white-space:pre;overflow-x:auto;line-height:normal;font-family:Menlo,'DejaVu Sans Mono',consolas,'Courier New',monospace\">Iterations: <span style=\"color: #008080; text-decoration-color: #008080; font-weight: bold\">22</span>, Cells: <span style=\"color: #008080; text-decoration-color: #008080; font-weight: bold\">69</span>, Frames: <span style=\"color: #008080; text-decoration-color: #008080; font-weight: bold\">700</span>, Max Reward: <span style=\"color: #008080; text-decoration-color: #008080; font-weight: bold\">0</span>\n",
              "</pre>\n"
            ],
            "text/plain": [
              "Iterations: \u001b[1;36m22\u001b[0m, Cells: \u001b[1;36m69\u001b[0m, Frames: \u001b[1;36m700\u001b[0m, Max Reward: \u001b[1;36m0\u001b[0m\n"
            ]
          },
          "metadata": {
            "tags": []
          }
        },
        {
          "output_type": "display_data",
          "data": {
            "text/html": [
              "<pre style=\"white-space:pre;overflow-x:auto;line-height:normal;font-family:Menlo,'DejaVu Sans Mono',consolas,'Courier New',monospace\">Iterations: <span style=\"color: #008080; text-decoration-color: #008080; font-weight: bold\">23</span>, Cells: <span style=\"color: #008080; text-decoration-color: #008080; font-weight: bold\">69</span>, Frames: <span style=\"color: #008080; text-decoration-color: #008080; font-weight: bold\">706</span>, Max Reward: <span style=\"color: #008080; text-decoration-color: #008080; font-weight: bold\">0</span>\n",
              "</pre>\n"
            ],
            "text/plain": [
              "Iterations: \u001b[1;36m23\u001b[0m, Cells: \u001b[1;36m69\u001b[0m, Frames: \u001b[1;36m706\u001b[0m, Max Reward: \u001b[1;36m0\u001b[0m\n"
            ]
          },
          "metadata": {
            "tags": []
          }
        },
        {
          "output_type": "display_data",
          "data": {
            "text/html": [
              "<pre style=\"white-space:pre;overflow-x:auto;line-height:normal;font-family:Menlo,'DejaVu Sans Mono',consolas,'Courier New',monospace\">Iterations: <span style=\"color: #008080; text-decoration-color: #008080; font-weight: bold\">24</span>, Cells: <span style=\"color: #008080; text-decoration-color: #008080; font-weight: bold\">69</span>, Frames: <span style=\"color: #008080; text-decoration-color: #008080; font-weight: bold\">758</span>, Max Reward: <span style=\"color: #008080; text-decoration-color: #008080; font-weight: bold\">0</span>\n",
              "</pre>\n"
            ],
            "text/plain": [
              "Iterations: \u001b[1;36m24\u001b[0m, Cells: \u001b[1;36m69\u001b[0m, Frames: \u001b[1;36m758\u001b[0m, Max Reward: \u001b[1;36m0\u001b[0m\n"
            ]
          },
          "metadata": {
            "tags": []
          }
        },
        {
          "output_type": "display_data",
          "data": {
            "text/html": [
              "<pre style=\"white-space:pre;overflow-x:auto;line-height:normal;font-family:Menlo,'DejaVu Sans Mono',consolas,'Courier New',monospace\">Iterations: <span style=\"color: #008080; text-decoration-color: #008080; font-weight: bold\">25</span>, Cells: <span style=\"color: #008080; text-decoration-color: #008080; font-weight: bold\">69</span>, Frames: <span style=\"color: #008080; text-decoration-color: #008080; font-weight: bold\">759</span>, Max Reward: <span style=\"color: #008080; text-decoration-color: #008080; font-weight: bold\">0</span>\n",
              "</pre>\n"
            ],
            "text/plain": [
              "Iterations: \u001b[1;36m25\u001b[0m, Cells: \u001b[1;36m69\u001b[0m, Frames: \u001b[1;36m759\u001b[0m, Max Reward: \u001b[1;36m0\u001b[0m\n"
            ]
          },
          "metadata": {
            "tags": []
          }
        },
        {
          "output_type": "display_data",
          "data": {
            "text/html": [
              "<pre style=\"white-space:pre;overflow-x:auto;line-height:normal;font-family:Menlo,'DejaVu Sans Mono',consolas,'Courier New',monospace\">Iterations: <span style=\"color: #008080; text-decoration-color: #008080; font-weight: bold\">26</span>, Cells: <span style=\"color: #008080; text-decoration-color: #008080; font-weight: bold\">74</span>, Frames: <span style=\"color: #008080; text-decoration-color: #008080; font-weight: bold\">770</span>, Max Reward: <span style=\"color: #008080; text-decoration-color: #008080; font-weight: bold\">0</span>\n",
              "</pre>\n"
            ],
            "text/plain": [
              "Iterations: \u001b[1;36m26\u001b[0m, Cells: \u001b[1;36m74\u001b[0m, Frames: \u001b[1;36m770\u001b[0m, Max Reward: \u001b[1;36m0\u001b[0m\n"
            ]
          },
          "metadata": {
            "tags": []
          }
        },
        {
          "output_type": "display_data",
          "data": {
            "text/html": [
              "<pre style=\"white-space:pre;overflow-x:auto;line-height:normal;font-family:Menlo,'DejaVu Sans Mono',consolas,'Courier New',monospace\">Iterations: <span style=\"color: #008080; text-decoration-color: #008080; font-weight: bold\">27</span>, Cells: <span style=\"color: #008080; text-decoration-color: #008080; font-weight: bold\">75</span>, Frames: <span style=\"color: #008080; text-decoration-color: #008080; font-weight: bold\">870</span>, Max Reward: <span style=\"color: #008080; text-decoration-color: #008080; font-weight: bold\">0</span>\n",
              "</pre>\n"
            ],
            "text/plain": [
              "Iterations: \u001b[1;36m27\u001b[0m, Cells: \u001b[1;36m75\u001b[0m, Frames: \u001b[1;36m870\u001b[0m, Max Reward: \u001b[1;36m0\u001b[0m\n"
            ]
          },
          "metadata": {
            "tags": []
          }
        },
        {
          "output_type": "display_data",
          "data": {
            "text/html": [
              "<pre style=\"white-space:pre;overflow-x:auto;line-height:normal;font-family:Menlo,'DejaVu Sans Mono',consolas,'Courier New',monospace\">Iterations: <span style=\"color: #008080; text-decoration-color: #008080; font-weight: bold\">28</span>, Cells: <span style=\"color: #008080; text-decoration-color: #008080; font-weight: bold\">75</span>, Frames: <span style=\"color: #008080; text-decoration-color: #008080; font-weight: bold\">877</span>, Max Reward: <span style=\"color: #008080; text-decoration-color: #008080; font-weight: bold\">0</span>\n",
              "</pre>\n"
            ],
            "text/plain": [
              "Iterations: \u001b[1;36m28\u001b[0m, Cells: \u001b[1;36m75\u001b[0m, Frames: \u001b[1;36m877\u001b[0m, Max Reward: \u001b[1;36m0\u001b[0m\n"
            ]
          },
          "metadata": {
            "tags": []
          }
        },
        {
          "output_type": "display_data",
          "data": {
            "text/html": [
              "<pre style=\"white-space:pre;overflow-x:auto;line-height:normal;font-family:Menlo,'DejaVu Sans Mono',consolas,'Courier New',monospace\">Iterations: <span style=\"color: #008080; text-decoration-color: #008080; font-weight: bold\">29</span>, Cells: <span style=\"color: #008080; text-decoration-color: #008080; font-weight: bold\">75</span>, Frames: <span style=\"color: #008080; text-decoration-color: #008080; font-weight: bold\">930</span>, Max Reward: <span style=\"color: #008080; text-decoration-color: #008080; font-weight: bold\">0</span>\n",
              "</pre>\n"
            ],
            "text/plain": [
              "Iterations: \u001b[1;36m29\u001b[0m, Cells: \u001b[1;36m75\u001b[0m, Frames: \u001b[1;36m930\u001b[0m, Max Reward: \u001b[1;36m0\u001b[0m\n"
            ]
          },
          "metadata": {
            "tags": []
          }
        },
        {
          "output_type": "display_data",
          "data": {
            "text/html": [
              "<pre style=\"white-space:pre;overflow-x:auto;line-height:normal;font-family:Menlo,'DejaVu Sans Mono',consolas,'Courier New',monospace\">Iterations: <span style=\"color: #008080; text-decoration-color: #008080; font-weight: bold\">30</span>, Cells: <span style=\"color: #008080; text-decoration-color: #008080; font-weight: bold\">75</span>, Frames: <span style=\"color: #008080; text-decoration-color: #008080; font-weight: bold\">933</span>, Max Reward: <span style=\"color: #008080; text-decoration-color: #008080; font-weight: bold\">0</span>\n",
              "</pre>\n"
            ],
            "text/plain": [
              "Iterations: \u001b[1;36m30\u001b[0m, Cells: \u001b[1;36m75\u001b[0m, Frames: \u001b[1;36m933\u001b[0m, Max Reward: \u001b[1;36m0\u001b[0m\n"
            ]
          },
          "metadata": {
            "tags": []
          }
        },
        {
          "output_type": "display_data",
          "data": {
            "text/html": [
              "<pre style=\"white-space:pre;overflow-x:auto;line-height:normal;font-family:Menlo,'DejaVu Sans Mono',consolas,'Courier New',monospace\">Iterations: <span style=\"color: #008080; text-decoration-color: #008080; font-weight: bold\">31</span>, Cells: <span style=\"color: #008080; text-decoration-color: #008080; font-weight: bold\">75</span>, Frames: <span style=\"color: #008080; text-decoration-color: #008080; font-weight: bold\">944</span>, Max Reward: <span style=\"color: #008080; text-decoration-color: #008080; font-weight: bold\">0</span>\n",
              "</pre>\n"
            ],
            "text/plain": [
              "Iterations: \u001b[1;36m31\u001b[0m, Cells: \u001b[1;36m75\u001b[0m, Frames: \u001b[1;36m944\u001b[0m, Max Reward: \u001b[1;36m0\u001b[0m\n"
            ]
          },
          "metadata": {
            "tags": []
          }
        },
        {
          "output_type": "display_data",
          "data": {
            "text/html": [
              "<pre style=\"white-space:pre;overflow-x:auto;line-height:normal;font-family:Menlo,'DejaVu Sans Mono',consolas,'Courier New',monospace\">Iterations: <span style=\"color: #008080; text-decoration-color: #008080; font-weight: bold\">32</span>, Cells: <span style=\"color: #008080; text-decoration-color: #008080; font-weight: bold\">75</span>, Frames: <span style=\"color: #008080; text-decoration-color: #008080; font-weight: bold\">1044</span>, Max Reward: <span style=\"color: #008080; text-decoration-color: #008080; font-weight: bold\">0</span>\n",
              "</pre>\n"
            ],
            "text/plain": [
              "Iterations: \u001b[1;36m32\u001b[0m, Cells: \u001b[1;36m75\u001b[0m, Frames: \u001b[1;36m1044\u001b[0m, Max Reward: \u001b[1;36m0\u001b[0m\n"
            ]
          },
          "metadata": {
            "tags": []
          }
        },
        {
          "output_type": "display_data",
          "data": {
            "text/html": [
              "<pre style=\"white-space:pre;overflow-x:auto;line-height:normal;font-family:Menlo,'DejaVu Sans Mono',consolas,'Courier New',monospace\">Iterations: <span style=\"color: #008080; text-decoration-color: #008080; font-weight: bold\">34</span>, Cells: <span style=\"color: #008080; text-decoration-color: #008080; font-weight: bold\">75</span>, Frames: <span style=\"color: #008080; text-decoration-color: #008080; font-weight: bold\">1060</span>, Max Reward: <span style=\"color: #008080; text-decoration-color: #008080; font-weight: bold\">0</span>\n",
              "</pre>\n"
            ],
            "text/plain": [
              "Iterations: \u001b[1;36m34\u001b[0m, Cells: \u001b[1;36m75\u001b[0m, Frames: \u001b[1;36m1060\u001b[0m, Max Reward: \u001b[1;36m0\u001b[0m\n"
            ]
          },
          "metadata": {
            "tags": []
          }
        },
        {
          "output_type": "display_data",
          "data": {
            "text/html": [
              "<pre style=\"white-space:pre;overflow-x:auto;line-height:normal;font-family:Menlo,'DejaVu Sans Mono',consolas,'Courier New',monospace\">Iterations: <span style=\"color: #008080; text-decoration-color: #008080; font-weight: bold\">36</span>, Cells: <span style=\"color: #008080; text-decoration-color: #008080; font-weight: bold\">88</span>, Frames: <span style=\"color: #008080; text-decoration-color: #008080; font-weight: bold\">1163</span>, Max Reward: <span style=\"color: #008080; text-decoration-color: #008080; font-weight: bold\">0</span>\n",
              "</pre>\n"
            ],
            "text/plain": [
              "Iterations: \u001b[1;36m36\u001b[0m, Cells: \u001b[1;36m88\u001b[0m, Frames: \u001b[1;36m1163\u001b[0m, Max Reward: \u001b[1;36m0\u001b[0m\n"
            ]
          },
          "metadata": {
            "tags": []
          }
        },
        {
          "output_type": "display_data",
          "data": {
            "text/html": [
              "<pre style=\"white-space:pre;overflow-x:auto;line-height:normal;font-family:Menlo,'DejaVu Sans Mono',consolas,'Courier New',monospace\">Iterations: <span style=\"color: #008080; text-decoration-color: #008080; font-weight: bold\">37</span>, Cells: <span style=\"color: #008080; text-decoration-color: #008080; font-weight: bold\">90</span>, Frames: <span style=\"color: #008080; text-decoration-color: #008080; font-weight: bold\">1176</span>, Max Reward: <span style=\"color: #008080; text-decoration-color: #008080; font-weight: bold\">0</span>\n",
              "</pre>\n"
            ],
            "text/plain": [
              "Iterations: \u001b[1;36m37\u001b[0m, Cells: \u001b[1;36m90\u001b[0m, Frames: \u001b[1;36m1176\u001b[0m, Max Reward: \u001b[1;36m0\u001b[0m\n"
            ]
          },
          "metadata": {
            "tags": []
          }
        },
        {
          "output_type": "display_data",
          "data": {
            "text/html": [
              "<pre style=\"white-space:pre;overflow-x:auto;line-height:normal;font-family:Menlo,'DejaVu Sans Mono',consolas,'Courier New',monospace\">Iterations: <span style=\"color: #008080; text-decoration-color: #008080; font-weight: bold\">38</span>, Cells: <span style=\"color: #008080; text-decoration-color: #008080; font-weight: bold\">90</span>, Frames: <span style=\"color: #008080; text-decoration-color: #008080; font-weight: bold\">1183</span>, Max Reward: <span style=\"color: #008080; text-decoration-color: #008080; font-weight: bold\">0</span>\n",
              "</pre>\n"
            ],
            "text/plain": [
              "Iterations: \u001b[1;36m38\u001b[0m, Cells: \u001b[1;36m90\u001b[0m, Frames: \u001b[1;36m1183\u001b[0m, Max Reward: \u001b[1;36m0\u001b[0m\n"
            ]
          },
          "metadata": {
            "tags": []
          }
        },
        {
          "output_type": "display_data",
          "data": {
            "text/html": [
              "<pre style=\"white-space:pre;overflow-x:auto;line-height:normal;font-family:Menlo,'DejaVu Sans Mono',consolas,'Courier New',monospace\">Iterations: <span style=\"color: #008080; text-decoration-color: #008080; font-weight: bold\">40</span>, Cells: <span style=\"color: #008080; text-decoration-color: #008080; font-weight: bold\">92</span>, Frames: <span style=\"color: #008080; text-decoration-color: #008080; font-weight: bold\">1215</span>, Max Reward: <span style=\"color: #008080; text-decoration-color: #008080; font-weight: bold\">0</span>\n",
              "</pre>\n"
            ],
            "text/plain": [
              "Iterations: \u001b[1;36m40\u001b[0m, Cells: \u001b[1;36m92\u001b[0m, Frames: \u001b[1;36m1215\u001b[0m, Max Reward: \u001b[1;36m0\u001b[0m\n"
            ]
          },
          "metadata": {
            "tags": []
          }
        },
        {
          "output_type": "display_data",
          "data": {
            "text/html": [
              "<pre style=\"white-space:pre;overflow-x:auto;line-height:normal;font-family:Menlo,'DejaVu Sans Mono',consolas,'Courier New',monospace\">Iterations: <span style=\"color: #008080; text-decoration-color: #008080; font-weight: bold\">42</span>, Cells: <span style=\"color: #008080; text-decoration-color: #008080; font-weight: bold\">97</span>, Frames: <span style=\"color: #008080; text-decoration-color: #008080; font-weight: bold\">1235</span>, Max Reward: <span style=\"color: #008080; text-decoration-color: #008080; font-weight: bold\">0</span>\n",
              "</pre>\n"
            ],
            "text/plain": [
              "Iterations: \u001b[1;36m42\u001b[0m, Cells: \u001b[1;36m97\u001b[0m, Frames: \u001b[1;36m1235\u001b[0m, Max Reward: \u001b[1;36m0\u001b[0m\n"
            ]
          },
          "metadata": {
            "tags": []
          }
        },
        {
          "output_type": "display_data",
          "data": {
            "text/html": [
              "<pre style=\"white-space:pre;overflow-x:auto;line-height:normal;font-family:Menlo,'DejaVu Sans Mono',consolas,'Courier New',monospace\">Iterations: <span style=\"color: #008080; text-decoration-color: #008080; font-weight: bold\">43</span>, Cells: <span style=\"color: #008080; text-decoration-color: #008080; font-weight: bold\">97</span>, Frames: <span style=\"color: #008080; text-decoration-color: #008080; font-weight: bold\">1246</span>, Max Reward: <span style=\"color: #008080; text-decoration-color: #008080; font-weight: bold\">0</span>\n",
              "</pre>\n"
            ],
            "text/plain": [
              "Iterations: \u001b[1;36m43\u001b[0m, Cells: \u001b[1;36m97\u001b[0m, Frames: \u001b[1;36m1246\u001b[0m, Max Reward: \u001b[1;36m0\u001b[0m\n"
            ]
          },
          "metadata": {
            "tags": []
          }
        },
        {
          "output_type": "display_data",
          "data": {
            "text/html": [
              "<pre style=\"white-space:pre;overflow-x:auto;line-height:normal;font-family:Menlo,'DejaVu Sans Mono',consolas,'Courier New',monospace\">Iterations: <span style=\"color: #008080; text-decoration-color: #008080; font-weight: bold\">44</span>, Cells: <span style=\"color: #008080; text-decoration-color: #008080; font-weight: bold\">100</span>, Frames: <span style=\"color: #008080; text-decoration-color: #008080; font-weight: bold\">1261</span>, Max Reward: <span style=\"color: #008080; text-decoration-color: #008080; font-weight: bold\">0</span>\n",
              "</pre>\n"
            ],
            "text/plain": [
              "Iterations: \u001b[1;36m44\u001b[0m, Cells: \u001b[1;36m100\u001b[0m, Frames: \u001b[1;36m1261\u001b[0m, Max Reward: \u001b[1;36m0\u001b[0m\n"
            ]
          },
          "metadata": {
            "tags": []
          }
        },
        {
          "output_type": "display_data",
          "data": {
            "text/html": [
              "<pre style=\"white-space:pre;overflow-x:auto;line-height:normal;font-family:Menlo,'DejaVu Sans Mono',consolas,'Courier New',monospace\">Iterations: <span style=\"color: #008080; text-decoration-color: #008080; font-weight: bold\">45</span>, Cells: <span style=\"color: #008080; text-decoration-color: #008080; font-weight: bold\">102</span>, Frames: <span style=\"color: #008080; text-decoration-color: #008080; font-weight: bold\">1272</span>, Max Reward: <span style=\"color: #008080; text-decoration-color: #008080; font-weight: bold\">0</span>\n",
              "</pre>\n"
            ],
            "text/plain": [
              "Iterations: \u001b[1;36m45\u001b[0m, Cells: \u001b[1;36m102\u001b[0m, Frames: \u001b[1;36m1272\u001b[0m, Max Reward: \u001b[1;36m0\u001b[0m\n"
            ]
          },
          "metadata": {
            "tags": []
          }
        },
        {
          "output_type": "display_data",
          "data": {
            "text/html": [
              "<pre style=\"white-space:pre;overflow-x:auto;line-height:normal;font-family:Menlo,'DejaVu Sans Mono',consolas,'Courier New',monospace\">Iterations: <span style=\"color: #008080; text-decoration-color: #008080; font-weight: bold\">46</span>, Cells: <span style=\"color: #008080; text-decoration-color: #008080; font-weight: bold\">104</span>, Frames: <span style=\"color: #008080; text-decoration-color: #008080; font-weight: bold\">1372</span>, Max Reward: <span style=\"color: #008080; text-decoration-color: #008080; font-weight: bold\">0</span>\n",
              "</pre>\n"
            ],
            "text/plain": [
              "Iterations: \u001b[1;36m46\u001b[0m, Cells: \u001b[1;36m104\u001b[0m, Frames: \u001b[1;36m1372\u001b[0m, Max Reward: \u001b[1;36m0\u001b[0m\n"
            ]
          },
          "metadata": {
            "tags": []
          }
        },
        {
          "output_type": "display_data",
          "data": {
            "text/html": [
              "<pre style=\"white-space:pre;overflow-x:auto;line-height:normal;font-family:Menlo,'DejaVu Sans Mono',consolas,'Courier New',monospace\">Iterations: <span style=\"color: #008080; text-decoration-color: #008080; font-weight: bold\">48</span>, Cells: <span style=\"color: #008080; text-decoration-color: #008080; font-weight: bold\">106</span>, Frames: <span style=\"color: #008080; text-decoration-color: #008080; font-weight: bold\">1475</span>, Max Reward: <span style=\"color: #008080; text-decoration-color: #008080; font-weight: bold\">0</span>\n",
              "</pre>\n"
            ],
            "text/plain": [
              "Iterations: \u001b[1;36m48\u001b[0m, Cells: \u001b[1;36m106\u001b[0m, Frames: \u001b[1;36m1475\u001b[0m, Max Reward: \u001b[1;36m0\u001b[0m\n"
            ]
          },
          "metadata": {
            "tags": []
          }
        },
        {
          "output_type": "display_data",
          "data": {
            "text/html": [
              "<pre style=\"white-space:pre;overflow-x:auto;line-height:normal;font-family:Menlo,'DejaVu Sans Mono',consolas,'Courier New',monospace\">Iterations: <span style=\"color: #008080; text-decoration-color: #008080; font-weight: bold\">49</span>, Cells: <span style=\"color: #008080; text-decoration-color: #008080; font-weight: bold\">106</span>, Frames: <span style=\"color: #008080; text-decoration-color: #008080; font-weight: bold\">1500</span>, Max Reward: <span style=\"color: #008080; text-decoration-color: #008080; font-weight: bold\">0</span>\n",
              "</pre>\n"
            ],
            "text/plain": [
              "Iterations: \u001b[1;36m49\u001b[0m, Cells: \u001b[1;36m106\u001b[0m, Frames: \u001b[1;36m1500\u001b[0m, Max Reward: \u001b[1;36m0\u001b[0m\n"
            ]
          },
          "metadata": {
            "tags": []
          }
        },
        {
          "output_type": "display_data",
          "data": {
            "text/html": [
              "<pre style=\"white-space:pre;overflow-x:auto;line-height:normal;font-family:Menlo,'DejaVu Sans Mono',consolas,'Courier New',monospace\">Iterations: <span style=\"color: #008080; text-decoration-color: #008080; font-weight: bold\">50</span>, Cells: <span style=\"color: #008080; text-decoration-color: #008080; font-weight: bold\">116</span>, Frames: <span style=\"color: #008080; text-decoration-color: #008080; font-weight: bold\">1521</span>, Max Reward: <span style=\"color: #008080; text-decoration-color: #008080; font-weight: bold\">0</span>\n",
              "</pre>\n"
            ],
            "text/plain": [
              "Iterations: \u001b[1;36m50\u001b[0m, Cells: \u001b[1;36m116\u001b[0m, Frames: \u001b[1;36m1521\u001b[0m, Max Reward: \u001b[1;36m0\u001b[0m\n"
            ]
          },
          "metadata": {
            "tags": []
          }
        },
        {
          "output_type": "display_data",
          "data": {
            "text/html": [
              "<pre style=\"white-space:pre;overflow-x:auto;line-height:normal;font-family:Menlo,'DejaVu Sans Mono',consolas,'Courier New',monospace\">Iterations: <span style=\"color: #008080; text-decoration-color: #008080; font-weight: bold\">51</span>, Cells: <span style=\"color: #008080; text-decoration-color: #008080; font-weight: bold\">117</span>, Frames: <span style=\"color: #008080; text-decoration-color: #008080; font-weight: bold\">1597</span>, Max Reward: <span style=\"color: #008080; text-decoration-color: #008080; font-weight: bold\">0</span>\n",
              "</pre>\n"
            ],
            "text/plain": [
              "Iterations: \u001b[1;36m51\u001b[0m, Cells: \u001b[1;36m117\u001b[0m, Frames: \u001b[1;36m1597\u001b[0m, Max Reward: \u001b[1;36m0\u001b[0m\n"
            ]
          },
          "metadata": {
            "tags": []
          }
        },
        {
          "output_type": "display_data",
          "data": {
            "text/html": [
              "<pre style=\"white-space:pre;overflow-x:auto;line-height:normal;font-family:Menlo,'DejaVu Sans Mono',consolas,'Courier New',monospace\">Iterations: <span style=\"color: #008080; text-decoration-color: #008080; font-weight: bold\">52</span>, Cells: <span style=\"color: #008080; text-decoration-color: #008080; font-weight: bold\">120</span>, Frames: <span style=\"color: #008080; text-decoration-color: #008080; font-weight: bold\">1607</span>, Max Reward: <span style=\"color: #008080; text-decoration-color: #008080; font-weight: bold\">0</span>\n",
              "</pre>\n"
            ],
            "text/plain": [
              "Iterations: \u001b[1;36m52\u001b[0m, Cells: \u001b[1;36m120\u001b[0m, Frames: \u001b[1;36m1607\u001b[0m, Max Reward: \u001b[1;36m0\u001b[0m\n"
            ]
          },
          "metadata": {
            "tags": []
          }
        },
        {
          "output_type": "display_data",
          "data": {
            "text/html": [
              "<pre style=\"white-space:pre;overflow-x:auto;line-height:normal;font-family:Menlo,'DejaVu Sans Mono',consolas,'Courier New',monospace\">Iterations: <span style=\"color: #008080; text-decoration-color: #008080; font-weight: bold\">53</span>, Cells: <span style=\"color: #008080; text-decoration-color: #008080; font-weight: bold\">120</span>, Frames: <span style=\"color: #008080; text-decoration-color: #008080; font-weight: bold\">1613</span>, Max Reward: <span style=\"color: #008080; text-decoration-color: #008080; font-weight: bold\">0</span>\n",
              "</pre>\n"
            ],
            "text/plain": [
              "Iterations: \u001b[1;36m53\u001b[0m, Cells: \u001b[1;36m120\u001b[0m, Frames: \u001b[1;36m1613\u001b[0m, Max Reward: \u001b[1;36m0\u001b[0m\n"
            ]
          },
          "metadata": {
            "tags": []
          }
        },
        {
          "output_type": "display_data",
          "data": {
            "text/html": [
              "<pre style=\"white-space:pre;overflow-x:auto;line-height:normal;font-family:Menlo,'DejaVu Sans Mono',consolas,'Courier New',monospace\">Iterations: <span style=\"color: #008080; text-decoration-color: #008080; font-weight: bold\">54</span>, Cells: <span style=\"color: #008080; text-decoration-color: #008080; font-weight: bold\">120</span>, Frames: <span style=\"color: #008080; text-decoration-color: #008080; font-weight: bold\">1623</span>, Max Reward: <span style=\"color: #008080; text-decoration-color: #008080; font-weight: bold\">0</span>\n",
              "</pre>\n"
            ],
            "text/plain": [
              "Iterations: \u001b[1;36m54\u001b[0m, Cells: \u001b[1;36m120\u001b[0m, Frames: \u001b[1;36m1623\u001b[0m, Max Reward: \u001b[1;36m0\u001b[0m\n"
            ]
          },
          "metadata": {
            "tags": []
          }
        },
        {
          "output_type": "display_data",
          "data": {
            "text/html": [
              "<pre style=\"white-space:pre;overflow-x:auto;line-height:normal;font-family:Menlo,'DejaVu Sans Mono',consolas,'Courier New',monospace\">Iterations: <span style=\"color: #008080; text-decoration-color: #008080; font-weight: bold\">55</span>, Cells: <span style=\"color: #008080; text-decoration-color: #008080; font-weight: bold\">120</span>, Frames: <span style=\"color: #008080; text-decoration-color: #008080; font-weight: bold\">1625</span>, Max Reward: <span style=\"color: #008080; text-decoration-color: #008080; font-weight: bold\">0</span>\n",
              "</pre>\n"
            ],
            "text/plain": [
              "Iterations: \u001b[1;36m55\u001b[0m, Cells: \u001b[1;36m120\u001b[0m, Frames: \u001b[1;36m1625\u001b[0m, Max Reward: \u001b[1;36m0\u001b[0m\n"
            ]
          },
          "metadata": {
            "tags": []
          }
        },
        {
          "output_type": "display_data",
          "data": {
            "text/html": [
              "<pre style=\"white-space:pre;overflow-x:auto;line-height:normal;font-family:Menlo,'DejaVu Sans Mono',consolas,'Courier New',monospace\">Iterations: <span style=\"color: #008080; text-decoration-color: #008080; font-weight: bold\">56</span>, Cells: <span style=\"color: #008080; text-decoration-color: #008080; font-weight: bold\">120</span>, Frames: <span style=\"color: #008080; text-decoration-color: #008080; font-weight: bold\">1631</span>, Max Reward: <span style=\"color: #008080; text-decoration-color: #008080; font-weight: bold\">0</span>\n",
              "</pre>\n"
            ],
            "text/plain": [
              "Iterations: \u001b[1;36m56\u001b[0m, Cells: \u001b[1;36m120\u001b[0m, Frames: \u001b[1;36m1631\u001b[0m, Max Reward: \u001b[1;36m0\u001b[0m\n"
            ]
          },
          "metadata": {
            "tags": []
          }
        },
        {
          "output_type": "display_data",
          "data": {
            "text/html": [
              "<pre style=\"white-space:pre;overflow-x:auto;line-height:normal;font-family:Menlo,'DejaVu Sans Mono',consolas,'Courier New',monospace\">Iterations: <span style=\"color: #008080; text-decoration-color: #008080; font-weight: bold\">57</span>, Cells: <span style=\"color: #008080; text-decoration-color: #008080; font-weight: bold\">120</span>, Frames: <span style=\"color: #008080; text-decoration-color: #008080; font-weight: bold\">1635</span>, Max Reward: <span style=\"color: #008080; text-decoration-color: #008080; font-weight: bold\">0</span>\n",
              "</pre>\n"
            ],
            "text/plain": [
              "Iterations: \u001b[1;36m57\u001b[0m, Cells: \u001b[1;36m120\u001b[0m, Frames: \u001b[1;36m1635\u001b[0m, Max Reward: \u001b[1;36m0\u001b[0m\n"
            ]
          },
          "metadata": {
            "tags": []
          }
        },
        {
          "output_type": "display_data",
          "data": {
            "text/html": [
              "<pre style=\"white-space:pre;overflow-x:auto;line-height:normal;font-family:Menlo,'DejaVu Sans Mono',consolas,'Courier New',monospace\">Iterations: <span style=\"color: #008080; text-decoration-color: #008080; font-weight: bold\">58</span>, Cells: <span style=\"color: #008080; text-decoration-color: #008080; font-weight: bold\">120</span>, Frames: <span style=\"color: #008080; text-decoration-color: #008080; font-weight: bold\">1637</span>, Max Reward: <span style=\"color: #008080; text-decoration-color: #008080; font-weight: bold\">0</span>\n",
              "</pre>\n"
            ],
            "text/plain": [
              "Iterations: \u001b[1;36m58\u001b[0m, Cells: \u001b[1;36m120\u001b[0m, Frames: \u001b[1;36m1637\u001b[0m, Max Reward: \u001b[1;36m0\u001b[0m\n"
            ]
          },
          "metadata": {
            "tags": []
          }
        },
        {
          "output_type": "display_data",
          "data": {
            "text/html": [
              "<pre style=\"white-space:pre;overflow-x:auto;line-height:normal;font-family:Menlo,'DejaVu Sans Mono',consolas,'Courier New',monospace\">Iterations: <span style=\"color: #008080; text-decoration-color: #008080; font-weight: bold\">59</span>, Cells: <span style=\"color: #008080; text-decoration-color: #008080; font-weight: bold\">122</span>, Frames: <span style=\"color: #008080; text-decoration-color: #008080; font-weight: bold\">1646</span>, Max Reward: <span style=\"color: #008080; text-decoration-color: #008080; font-weight: bold\">0</span>\n",
              "</pre>\n"
            ],
            "text/plain": [
              "Iterations: \u001b[1;36m59\u001b[0m, Cells: \u001b[1;36m122\u001b[0m, Frames: \u001b[1;36m1646\u001b[0m, Max Reward: \u001b[1;36m0\u001b[0m\n"
            ]
          },
          "metadata": {
            "tags": []
          }
        },
        {
          "output_type": "display_data",
          "data": {
            "text/html": [
              "<pre style=\"white-space:pre;overflow-x:auto;line-height:normal;font-family:Menlo,'DejaVu Sans Mono',consolas,'Courier New',monospace\">Iterations: <span style=\"color: #008080; text-decoration-color: #008080; font-weight: bold\">60</span>, Cells: <span style=\"color: #008080; text-decoration-color: #008080; font-weight: bold\">124</span>, Frames: <span style=\"color: #008080; text-decoration-color: #008080; font-weight: bold\">1684</span>, Max Reward: <span style=\"color: #008080; text-decoration-color: #008080; font-weight: bold\">0</span>\n",
              "</pre>\n"
            ],
            "text/plain": [
              "Iterations: \u001b[1;36m60\u001b[0m, Cells: \u001b[1;36m124\u001b[0m, Frames: \u001b[1;36m1684\u001b[0m, Max Reward: \u001b[1;36m0\u001b[0m\n"
            ]
          },
          "metadata": {
            "tags": []
          }
        },
        {
          "output_type": "display_data",
          "data": {
            "text/html": [
              "<pre style=\"white-space:pre;overflow-x:auto;line-height:normal;font-family:Menlo,'DejaVu Sans Mono',consolas,'Courier New',monospace\">Iterations: <span style=\"color: #008080; text-decoration-color: #008080; font-weight: bold\">61</span>, Cells: <span style=\"color: #008080; text-decoration-color: #008080; font-weight: bold\">124</span>, Frames: <span style=\"color: #008080; text-decoration-color: #008080; font-weight: bold\">1691</span>, Max Reward: <span style=\"color: #008080; text-decoration-color: #008080; font-weight: bold\">0</span>\n",
              "</pre>\n"
            ],
            "text/plain": [
              "Iterations: \u001b[1;36m61\u001b[0m, Cells: \u001b[1;36m124\u001b[0m, Frames: \u001b[1;36m1691\u001b[0m, Max Reward: \u001b[1;36m0\u001b[0m\n"
            ]
          },
          "metadata": {
            "tags": []
          }
        },
        {
          "output_type": "display_data",
          "data": {
            "text/html": [
              "<pre style=\"white-space:pre;overflow-x:auto;line-height:normal;font-family:Menlo,'DejaVu Sans Mono',consolas,'Courier New',monospace\">Iterations: <span style=\"color: #008080; text-decoration-color: #008080; font-weight: bold\">62</span>, Cells: <span style=\"color: #008080; text-decoration-color: #008080; font-weight: bold\">128</span>, Frames: <span style=\"color: #008080; text-decoration-color: #008080; font-weight: bold\">1704</span>, Max Reward: <span style=\"color: #008080; text-decoration-color: #008080; font-weight: bold\">0</span>\n",
              "</pre>\n"
            ],
            "text/plain": [
              "Iterations: \u001b[1;36m62\u001b[0m, Cells: \u001b[1;36m128\u001b[0m, Frames: \u001b[1;36m1704\u001b[0m, Max Reward: \u001b[1;36m0\u001b[0m\n"
            ]
          },
          "metadata": {
            "tags": []
          }
        },
        {
          "output_type": "display_data",
          "data": {
            "text/html": [
              "<pre style=\"white-space:pre;overflow-x:auto;line-height:normal;font-family:Menlo,'DejaVu Sans Mono',consolas,'Courier New',monospace\">Iterations: <span style=\"color: #008080; text-decoration-color: #008080; font-weight: bold\">63</span>, Cells: <span style=\"color: #008080; text-decoration-color: #008080; font-weight: bold\">134</span>, Frames: <span style=\"color: #008080; text-decoration-color: #008080; font-weight: bold\">1721</span>, Max Reward: <span style=\"color: #008080; text-decoration-color: #008080; font-weight: bold\">0</span>\n",
              "</pre>\n"
            ],
            "text/plain": [
              "Iterations: \u001b[1;36m63\u001b[0m, Cells: \u001b[1;36m134\u001b[0m, Frames: \u001b[1;36m1721\u001b[0m, Max Reward: \u001b[1;36m0\u001b[0m\n"
            ]
          },
          "metadata": {
            "tags": []
          }
        },
        {
          "output_type": "display_data",
          "data": {
            "text/html": [
              "<pre style=\"white-space:pre;overflow-x:auto;line-height:normal;font-family:Menlo,'DejaVu Sans Mono',consolas,'Courier New',monospace\">Iterations: <span style=\"color: #008080; text-decoration-color: #008080; font-weight: bold\">64</span>, Cells: <span style=\"color: #008080; text-decoration-color: #008080; font-weight: bold\">134</span>, Frames: <span style=\"color: #008080; text-decoration-color: #008080; font-weight: bold\">1724</span>, Max Reward: <span style=\"color: #008080; text-decoration-color: #008080; font-weight: bold\">0</span>\n",
              "</pre>\n"
            ],
            "text/plain": [
              "Iterations: \u001b[1;36m64\u001b[0m, Cells: \u001b[1;36m134\u001b[0m, Frames: \u001b[1;36m1724\u001b[0m, Max Reward: \u001b[1;36m0\u001b[0m\n"
            ]
          },
          "metadata": {
            "tags": []
          }
        },
        {
          "output_type": "display_data",
          "data": {
            "text/html": [
              "<pre style=\"white-space:pre;overflow-x:auto;line-height:normal;font-family:Menlo,'DejaVu Sans Mono',consolas,'Courier New',monospace\">Iterations: <span style=\"color: #008080; text-decoration-color: #008080; font-weight: bold\">65</span>, Cells: <span style=\"color: #008080; text-decoration-color: #008080; font-weight: bold\">134</span>, Frames: <span style=\"color: #008080; text-decoration-color: #008080; font-weight: bold\">1725</span>, Max Reward: <span style=\"color: #008080; text-decoration-color: #008080; font-weight: bold\">0</span>\n",
              "</pre>\n"
            ],
            "text/plain": [
              "Iterations: \u001b[1;36m65\u001b[0m, Cells: \u001b[1;36m134\u001b[0m, Frames: \u001b[1;36m1725\u001b[0m, Max Reward: \u001b[1;36m0\u001b[0m\n"
            ]
          },
          "metadata": {
            "tags": []
          }
        },
        {
          "output_type": "display_data",
          "data": {
            "text/html": [
              "<pre style=\"white-space:pre;overflow-x:auto;line-height:normal;font-family:Menlo,'DejaVu Sans Mono',consolas,'Courier New',monospace\">Iterations: <span style=\"color: #008080; text-decoration-color: #008080; font-weight: bold\">66</span>, Cells: <span style=\"color: #008080; text-decoration-color: #008080; font-weight: bold\">138</span>, Frames: <span style=\"color: #008080; text-decoration-color: #008080; font-weight: bold\">1780</span>, Max Reward: <span style=\"color: #008080; text-decoration-color: #008080; font-weight: bold\">0</span>\n",
              "</pre>\n"
            ],
            "text/plain": [
              "Iterations: \u001b[1;36m66\u001b[0m, Cells: \u001b[1;36m138\u001b[0m, Frames: \u001b[1;36m1780\u001b[0m, Max Reward: \u001b[1;36m0\u001b[0m\n"
            ]
          },
          "metadata": {
            "tags": []
          }
        },
        {
          "output_type": "display_data",
          "data": {
            "text/html": [
              "<pre style=\"white-space:pre;overflow-x:auto;line-height:normal;font-family:Menlo,'DejaVu Sans Mono',consolas,'Courier New',monospace\">Iterations: <span style=\"color: #008080; text-decoration-color: #008080; font-weight: bold\">67</span>, Cells: <span style=\"color: #008080; text-decoration-color: #008080; font-weight: bold\">138</span>, Frames: <span style=\"color: #008080; text-decoration-color: #008080; font-weight: bold\">1880</span>, Max Reward: <span style=\"color: #008080; text-decoration-color: #008080; font-weight: bold\">0</span>\n",
              "</pre>\n"
            ],
            "text/plain": [
              "Iterations: \u001b[1;36m67\u001b[0m, Cells: \u001b[1;36m138\u001b[0m, Frames: \u001b[1;36m1880\u001b[0m, Max Reward: \u001b[1;36m0\u001b[0m\n"
            ]
          },
          "metadata": {
            "tags": []
          }
        },
        {
          "output_type": "display_data",
          "data": {
            "text/html": [
              "<pre style=\"white-space:pre;overflow-x:auto;line-height:normal;font-family:Menlo,'DejaVu Sans Mono',consolas,'Courier New',monospace\">Iterations: <span style=\"color: #008080; text-decoration-color: #008080; font-weight: bold\">68</span>, Cells: <span style=\"color: #008080; text-decoration-color: #008080; font-weight: bold\">138</span>, Frames: <span style=\"color: #008080; text-decoration-color: #008080; font-weight: bold\">1881</span>, Max Reward: <span style=\"color: #008080; text-decoration-color: #008080; font-weight: bold\">0</span>\n",
              "</pre>\n"
            ],
            "text/plain": [
              "Iterations: \u001b[1;36m68\u001b[0m, Cells: \u001b[1;36m138\u001b[0m, Frames: \u001b[1;36m1881\u001b[0m, Max Reward: \u001b[1;36m0\u001b[0m\n"
            ]
          },
          "metadata": {
            "tags": []
          }
        },
        {
          "output_type": "display_data",
          "data": {
            "text/html": [
              "<pre style=\"white-space:pre;overflow-x:auto;line-height:normal;font-family:Menlo,'DejaVu Sans Mono',consolas,'Courier New',monospace\">Iterations: <span style=\"color: #008080; text-decoration-color: #008080; font-weight: bold\">69</span>, Cells: <span style=\"color: #008080; text-decoration-color: #008080; font-weight: bold\">138</span>, Frames: <span style=\"color: #008080; text-decoration-color: #008080; font-weight: bold\">1981</span>, Max Reward: <span style=\"color: #008080; text-decoration-color: #008080; font-weight: bold\">0</span>\n",
              "</pre>\n"
            ],
            "text/plain": [
              "Iterations: \u001b[1;36m69\u001b[0m, Cells: \u001b[1;36m138\u001b[0m, Frames: \u001b[1;36m1981\u001b[0m, Max Reward: \u001b[1;36m0\u001b[0m\n"
            ]
          },
          "metadata": {
            "tags": []
          }
        },
        {
          "output_type": "display_data",
          "data": {
            "text/html": [
              "<pre style=\"white-space:pre;overflow-x:auto;line-height:normal;font-family:Menlo,'DejaVu Sans Mono',consolas,'Courier New',monospace\">Iterations: <span style=\"color: #008080; text-decoration-color: #008080; font-weight: bold\">70</span>, Cells: <span style=\"color: #008080; text-decoration-color: #008080; font-weight: bold\">138</span>, Frames: <span style=\"color: #008080; text-decoration-color: #008080; font-weight: bold\">2009</span>, Max Reward: <span style=\"color: #008080; text-decoration-color: #008080; font-weight: bold\">0</span>\n",
              "</pre>\n"
            ],
            "text/plain": [
              "Iterations: \u001b[1;36m70\u001b[0m, Cells: \u001b[1;36m138\u001b[0m, Frames: \u001b[1;36m2009\u001b[0m, Max Reward: \u001b[1;36m0\u001b[0m\n"
            ]
          },
          "metadata": {
            "tags": []
          }
        },
        {
          "output_type": "display_data",
          "data": {
            "text/html": [
              "<pre style=\"white-space:pre;overflow-x:auto;line-height:normal;font-family:Menlo,'DejaVu Sans Mono',consolas,'Courier New',monospace\">Iterations: <span style=\"color: #008080; text-decoration-color: #008080; font-weight: bold\">72</span>, Cells: <span style=\"color: #008080; text-decoration-color: #008080; font-weight: bold\">151</span>, Frames: <span style=\"color: #008080; text-decoration-color: #008080; font-weight: bold\">2150</span>, Max Reward: <span style=\"color: #008080; text-decoration-color: #008080; font-weight: bold\">0</span>\n",
              "</pre>\n"
            ],
            "text/plain": [
              "Iterations: \u001b[1;36m72\u001b[0m, Cells: \u001b[1;36m151\u001b[0m, Frames: \u001b[1;36m2150\u001b[0m, Max Reward: \u001b[1;36m0\u001b[0m\n"
            ]
          },
          "metadata": {
            "tags": []
          }
        },
        {
          "output_type": "display_data",
          "data": {
            "text/html": [
              "<pre style=\"white-space:pre;overflow-x:auto;line-height:normal;font-family:Menlo,'DejaVu Sans Mono',consolas,'Courier New',monospace\">Iterations: <span style=\"color: #008080; text-decoration-color: #008080; font-weight: bold\">73</span>, Cells: <span style=\"color: #008080; text-decoration-color: #008080; font-weight: bold\">151</span>, Frames: <span style=\"color: #008080; text-decoration-color: #008080; font-weight: bold\">2153</span>, Max Reward: <span style=\"color: #008080; text-decoration-color: #008080; font-weight: bold\">0</span>\n",
              "</pre>\n"
            ],
            "text/plain": [
              "Iterations: \u001b[1;36m73\u001b[0m, Cells: \u001b[1;36m151\u001b[0m, Frames: \u001b[1;36m2153\u001b[0m, Max Reward: \u001b[1;36m0\u001b[0m\n"
            ]
          },
          "metadata": {
            "tags": []
          }
        },
        {
          "output_type": "display_data",
          "data": {
            "text/html": [
              "<pre style=\"white-space:pre;overflow-x:auto;line-height:normal;font-family:Menlo,'DejaVu Sans Mono',consolas,'Courier New',monospace\">Iterations: <span style=\"color: #008080; text-decoration-color: #008080; font-weight: bold\">74</span>, Cells: <span style=\"color: #008080; text-decoration-color: #008080; font-weight: bold\">151</span>, Frames: <span style=\"color: #008080; text-decoration-color: #008080; font-weight: bold\">2160</span>, Max Reward: <span style=\"color: #008080; text-decoration-color: #008080; font-weight: bold\">0</span>\n",
              "</pre>\n"
            ],
            "text/plain": [
              "Iterations: \u001b[1;36m74\u001b[0m, Cells: \u001b[1;36m151\u001b[0m, Frames: \u001b[1;36m2160\u001b[0m, Max Reward: \u001b[1;36m0\u001b[0m\n"
            ]
          },
          "metadata": {
            "tags": []
          }
        },
        {
          "output_type": "display_data",
          "data": {
            "text/html": [
              "<pre style=\"white-space:pre;overflow-x:auto;line-height:normal;font-family:Menlo,'DejaVu Sans Mono',consolas,'Courier New',monospace\">Iterations: <span style=\"color: #008080; text-decoration-color: #008080; font-weight: bold\">76</span>, Cells: <span style=\"color: #008080; text-decoration-color: #008080; font-weight: bold\">153</span>, Frames: <span style=\"color: #008080; text-decoration-color: #008080; font-weight: bold\">2267</span>, Max Reward: <span style=\"color: #008080; text-decoration-color: #008080; font-weight: bold\">0</span>\n",
              "</pre>\n"
            ],
            "text/plain": [
              "Iterations: \u001b[1;36m76\u001b[0m, Cells: \u001b[1;36m153\u001b[0m, Frames: \u001b[1;36m2267\u001b[0m, Max Reward: \u001b[1;36m0\u001b[0m\n"
            ]
          },
          "metadata": {
            "tags": []
          }
        },
        {
          "output_type": "display_data",
          "data": {
            "text/html": [
              "<pre style=\"white-space:pre;overflow-x:auto;line-height:normal;font-family:Menlo,'DejaVu Sans Mono',consolas,'Courier New',monospace\">Iterations: <span style=\"color: #008080; text-decoration-color: #008080; font-weight: bold\">78</span>, Cells: <span style=\"color: #008080; text-decoration-color: #008080; font-weight: bold\">156</span>, Frames: <span style=\"color: #008080; text-decoration-color: #008080; font-weight: bold\">2310</span>, Max Reward: <span style=\"color: #008080; text-decoration-color: #008080; font-weight: bold\">0</span>\n",
              "</pre>\n"
            ],
            "text/plain": [
              "Iterations: \u001b[1;36m78\u001b[0m, Cells: \u001b[1;36m156\u001b[0m, Frames: \u001b[1;36m2310\u001b[0m, Max Reward: \u001b[1;36m0\u001b[0m\n"
            ]
          },
          "metadata": {
            "tags": []
          }
        },
        {
          "output_type": "display_data",
          "data": {
            "text/html": [
              "<pre style=\"white-space:pre;overflow-x:auto;line-height:normal;font-family:Menlo,'DejaVu Sans Mono',consolas,'Courier New',monospace\">Iterations: <span style=\"color: #008080; text-decoration-color: #008080; font-weight: bold\">79</span>, Cells: <span style=\"color: #008080; text-decoration-color: #008080; font-weight: bold\">156</span>, Frames: <span style=\"color: #008080; text-decoration-color: #008080; font-weight: bold\">2320</span>, Max Reward: <span style=\"color: #008080; text-decoration-color: #008080; font-weight: bold\">0</span>\n",
              "</pre>\n"
            ],
            "text/plain": [
              "Iterations: \u001b[1;36m79\u001b[0m, Cells: \u001b[1;36m156\u001b[0m, Frames: \u001b[1;36m2320\u001b[0m, Max Reward: \u001b[1;36m0\u001b[0m\n"
            ]
          },
          "metadata": {
            "tags": []
          }
        },
        {
          "output_type": "display_data",
          "data": {
            "text/html": [
              "<pre style=\"white-space:pre;overflow-x:auto;line-height:normal;font-family:Menlo,'DejaVu Sans Mono',consolas,'Courier New',monospace\">Iterations: <span style=\"color: #008080; text-decoration-color: #008080; font-weight: bold\">80</span>, Cells: <span style=\"color: #008080; text-decoration-color: #008080; font-weight: bold\">159</span>, Frames: <span style=\"color: #008080; text-decoration-color: #008080; font-weight: bold\">2376</span>, Max Reward: <span style=\"color: #008080; text-decoration-color: #008080; font-weight: bold\">0</span>\n",
              "</pre>\n"
            ],
            "text/plain": [
              "Iterations: \u001b[1;36m80\u001b[0m, Cells: \u001b[1;36m159\u001b[0m, Frames: \u001b[1;36m2376\u001b[0m, Max Reward: \u001b[1;36m0\u001b[0m\n"
            ]
          },
          "metadata": {
            "tags": []
          }
        },
        {
          "output_type": "display_data",
          "data": {
            "text/html": [
              "<pre style=\"white-space:pre;overflow-x:auto;line-height:normal;font-family:Menlo,'DejaVu Sans Mono',consolas,'Courier New',monospace\">Iterations: <span style=\"color: #008080; text-decoration-color: #008080; font-weight: bold\">81</span>, Cells: <span style=\"color: #008080; text-decoration-color: #008080; font-weight: bold\">161</span>, Frames: <span style=\"color: #008080; text-decoration-color: #008080; font-weight: bold\">2476</span>, Max Reward: <span style=\"color: #008080; text-decoration-color: #008080; font-weight: bold\">0</span>\n",
              "</pre>\n"
            ],
            "text/plain": [
              "Iterations: \u001b[1;36m81\u001b[0m, Cells: \u001b[1;36m161\u001b[0m, Frames: \u001b[1;36m2476\u001b[0m, Max Reward: \u001b[1;36m0\u001b[0m\n"
            ]
          },
          "metadata": {
            "tags": []
          }
        },
        {
          "output_type": "display_data",
          "data": {
            "text/html": [
              "<pre style=\"white-space:pre;overflow-x:auto;line-height:normal;font-family:Menlo,'DejaVu Sans Mono',consolas,'Courier New',monospace\">Iterations: <span style=\"color: #008080; text-decoration-color: #008080; font-weight: bold\">82</span>, Cells: <span style=\"color: #008080; text-decoration-color: #008080; font-weight: bold\">163</span>, Frames: <span style=\"color: #008080; text-decoration-color: #008080; font-weight: bold\">2500</span>, Max Reward: <span style=\"color: #008080; text-decoration-color: #008080; font-weight: bold\">0</span>\n",
              "</pre>\n"
            ],
            "text/plain": [
              "Iterations: \u001b[1;36m82\u001b[0m, Cells: \u001b[1;36m163\u001b[0m, Frames: \u001b[1;36m2500\u001b[0m, Max Reward: \u001b[1;36m0\u001b[0m\n"
            ]
          },
          "metadata": {
            "tags": []
          }
        },
        {
          "output_type": "display_data",
          "data": {
            "text/html": [
              "<pre style=\"white-space:pre;overflow-x:auto;line-height:normal;font-family:Menlo,'DejaVu Sans Mono',consolas,'Courier New',monospace\">Iterations: <span style=\"color: #008080; text-decoration-color: #008080; font-weight: bold\">83</span>, Cells: <span style=\"color: #008080; text-decoration-color: #008080; font-weight: bold\">167</span>, Frames: <span style=\"color: #008080; text-decoration-color: #008080; font-weight: bold\">2539</span>, Max Reward: <span style=\"color: #008080; text-decoration-color: #008080; font-weight: bold\">0</span>\n",
              "</pre>\n"
            ],
            "text/plain": [
              "Iterations: \u001b[1;36m83\u001b[0m, Cells: \u001b[1;36m167\u001b[0m, Frames: \u001b[1;36m2539\u001b[0m, Max Reward: \u001b[1;36m0\u001b[0m\n"
            ]
          },
          "metadata": {
            "tags": []
          }
        },
        {
          "output_type": "display_data",
          "data": {
            "text/html": [
              "<pre style=\"white-space:pre;overflow-x:auto;line-height:normal;font-family:Menlo,'DejaVu Sans Mono',consolas,'Courier New',monospace\">Iterations: <span style=\"color: #008080; text-decoration-color: #008080; font-weight: bold\">84</span>, Cells: <span style=\"color: #008080; text-decoration-color: #008080; font-weight: bold\">169</span>, Frames: <span style=\"color: #008080; text-decoration-color: #008080; font-weight: bold\">2553</span>, Max Reward: <span style=\"color: #008080; text-decoration-color: #008080; font-weight: bold\">0</span>\n",
              "</pre>\n"
            ],
            "text/plain": [
              "Iterations: \u001b[1;36m84\u001b[0m, Cells: \u001b[1;36m169\u001b[0m, Frames: \u001b[1;36m2553\u001b[0m, Max Reward: \u001b[1;36m0\u001b[0m\n"
            ]
          },
          "metadata": {
            "tags": []
          }
        },
        {
          "output_type": "display_data",
          "data": {
            "text/html": [
              "<pre style=\"white-space:pre;overflow-x:auto;line-height:normal;font-family:Menlo,'DejaVu Sans Mono',consolas,'Courier New',monospace\">Iterations: <span style=\"color: #008080; text-decoration-color: #008080; font-weight: bold\">85</span>, Cells: <span style=\"color: #008080; text-decoration-color: #008080; font-weight: bold\">169</span>, Frames: <span style=\"color: #008080; text-decoration-color: #008080; font-weight: bold\">2558</span>, Max Reward: <span style=\"color: #008080; text-decoration-color: #008080; font-weight: bold\">0</span>\n",
              "</pre>\n"
            ],
            "text/plain": [
              "Iterations: \u001b[1;36m85\u001b[0m, Cells: \u001b[1;36m169\u001b[0m, Frames: \u001b[1;36m2558\u001b[0m, Max Reward: \u001b[1;36m0\u001b[0m\n"
            ]
          },
          "metadata": {
            "tags": []
          }
        },
        {
          "output_type": "display_data",
          "data": {
            "text/html": [
              "<pre style=\"white-space:pre;overflow-x:auto;line-height:normal;font-family:Menlo,'DejaVu Sans Mono',consolas,'Courier New',monospace\">Iterations: <span style=\"color: #008080; text-decoration-color: #008080; font-weight: bold\">86</span>, Cells: <span style=\"color: #008080; text-decoration-color: #008080; font-weight: bold\">172</span>, Frames: <span style=\"color: #008080; text-decoration-color: #008080; font-weight: bold\">2599</span>, Max Reward: <span style=\"color: #008080; text-decoration-color: #008080; font-weight: bold\">0</span>\n",
              "</pre>\n"
            ],
            "text/plain": [
              "Iterations: \u001b[1;36m86\u001b[0m, Cells: \u001b[1;36m172\u001b[0m, Frames: \u001b[1;36m2599\u001b[0m, Max Reward: \u001b[1;36m0\u001b[0m\n"
            ]
          },
          "metadata": {
            "tags": []
          }
        },
        {
          "output_type": "display_data",
          "data": {
            "text/html": [
              "<pre style=\"white-space:pre;overflow-x:auto;line-height:normal;font-family:Menlo,'DejaVu Sans Mono',consolas,'Courier New',monospace\">Iterations: <span style=\"color: #008080; text-decoration-color: #008080; font-weight: bold\">87</span>, Cells: <span style=\"color: #008080; text-decoration-color: #008080; font-weight: bold\">172</span>, Frames: <span style=\"color: #008080; text-decoration-color: #008080; font-weight: bold\">2606</span>, Max Reward: <span style=\"color: #008080; text-decoration-color: #008080; font-weight: bold\">0</span>\n",
              "</pre>\n"
            ],
            "text/plain": [
              "Iterations: \u001b[1;36m87\u001b[0m, Cells: \u001b[1;36m172\u001b[0m, Frames: \u001b[1;36m2606\u001b[0m, Max Reward: \u001b[1;36m0\u001b[0m\n"
            ]
          },
          "metadata": {
            "tags": []
          }
        },
        {
          "output_type": "display_data",
          "data": {
            "text/html": [
              "<pre style=\"white-space:pre;overflow-x:auto;line-height:normal;font-family:Menlo,'DejaVu Sans Mono',consolas,'Courier New',monospace\">Iterations: <span style=\"color: #008080; text-decoration-color: #008080; font-weight: bold\">88</span>, Cells: <span style=\"color: #008080; text-decoration-color: #008080; font-weight: bold\">172</span>, Frames: <span style=\"color: #008080; text-decoration-color: #008080; font-weight: bold\">2609</span>, Max Reward: <span style=\"color: #008080; text-decoration-color: #008080; font-weight: bold\">0</span>\n",
              "</pre>\n"
            ],
            "text/plain": [
              "Iterations: \u001b[1;36m88\u001b[0m, Cells: \u001b[1;36m172\u001b[0m, Frames: \u001b[1;36m2609\u001b[0m, Max Reward: \u001b[1;36m0\u001b[0m\n"
            ]
          },
          "metadata": {
            "tags": []
          }
        },
        {
          "output_type": "display_data",
          "data": {
            "text/html": [
              "<pre style=\"white-space:pre;overflow-x:auto;line-height:normal;font-family:Menlo,'DejaVu Sans Mono',consolas,'Courier New',monospace\">Iterations: <span style=\"color: #008080; text-decoration-color: #008080; font-weight: bold\">90</span>, Cells: <span style=\"color: #008080; text-decoration-color: #008080; font-weight: bold\">173</span>, Frames: <span style=\"color: #008080; text-decoration-color: #008080; font-weight: bold\">2634</span>, Max Reward: <span style=\"color: #008080; text-decoration-color: #008080; font-weight: bold\">0</span>\n",
              "</pre>\n"
            ],
            "text/plain": [
              "Iterations: \u001b[1;36m90\u001b[0m, Cells: \u001b[1;36m173\u001b[0m, Frames: \u001b[1;36m2634\u001b[0m, Max Reward: \u001b[1;36m0\u001b[0m\n"
            ]
          },
          "metadata": {
            "tags": []
          }
        },
        {
          "output_type": "display_data",
          "data": {
            "text/html": [
              "<pre style=\"white-space:pre;overflow-x:auto;line-height:normal;font-family:Menlo,'DejaVu Sans Mono',consolas,'Courier New',monospace\">Iterations: <span style=\"color: #008080; text-decoration-color: #008080; font-weight: bold\">91</span>, Cells: <span style=\"color: #008080; text-decoration-color: #008080; font-weight: bold\">173</span>, Frames: <span style=\"color: #008080; text-decoration-color: #008080; font-weight: bold\">2643</span>, Max Reward: <span style=\"color: #008080; text-decoration-color: #008080; font-weight: bold\">0</span>\n",
              "</pre>\n"
            ],
            "text/plain": [
              "Iterations: \u001b[1;36m91\u001b[0m, Cells: \u001b[1;36m173\u001b[0m, Frames: \u001b[1;36m2643\u001b[0m, Max Reward: \u001b[1;36m0\u001b[0m\n"
            ]
          },
          "metadata": {
            "tags": []
          }
        },
        {
          "output_type": "display_data",
          "data": {
            "text/html": [
              "<pre style=\"white-space:pre;overflow-x:auto;line-height:normal;font-family:Menlo,'DejaVu Sans Mono',consolas,'Courier New',monospace\">Iterations: <span style=\"color: #008080; text-decoration-color: #008080; font-weight: bold\">92</span>, Cells: <span style=\"color: #008080; text-decoration-color: #008080; font-weight: bold\">173</span>, Frames: <span style=\"color: #008080; text-decoration-color: #008080; font-weight: bold\">2649</span>, Max Reward: <span style=\"color: #008080; text-decoration-color: #008080; font-weight: bold\">0</span>\n",
              "</pre>\n"
            ],
            "text/plain": [
              "Iterations: \u001b[1;36m92\u001b[0m, Cells: \u001b[1;36m173\u001b[0m, Frames: \u001b[1;36m2649\u001b[0m, Max Reward: \u001b[1;36m0\u001b[0m\n"
            ]
          },
          "metadata": {
            "tags": []
          }
        },
        {
          "output_type": "display_data",
          "data": {
            "text/html": [
              "<pre style=\"white-space:pre;overflow-x:auto;line-height:normal;font-family:Menlo,'DejaVu Sans Mono',consolas,'Courier New',monospace\">Iterations: <span style=\"color: #008080; text-decoration-color: #008080; font-weight: bold\">93</span>, Cells: <span style=\"color: #008080; text-decoration-color: #008080; font-weight: bold\">173</span>, Frames: <span style=\"color: #008080; text-decoration-color: #008080; font-weight: bold\">2661</span>, Max Reward: <span style=\"color: #008080; text-decoration-color: #008080; font-weight: bold\">0</span>\n",
              "</pre>\n"
            ],
            "text/plain": [
              "Iterations: \u001b[1;36m93\u001b[0m, Cells: \u001b[1;36m173\u001b[0m, Frames: \u001b[1;36m2661\u001b[0m, Max Reward: \u001b[1;36m0\u001b[0m\n"
            ]
          },
          "metadata": {
            "tags": []
          }
        },
        {
          "output_type": "display_data",
          "data": {
            "text/html": [
              "<pre style=\"white-space:pre;overflow-x:auto;line-height:normal;font-family:Menlo,'DejaVu Sans Mono',consolas,'Courier New',monospace\">Iterations: <span style=\"color: #008080; text-decoration-color: #008080; font-weight: bold\">95</span>, Cells: <span style=\"color: #008080; text-decoration-color: #008080; font-weight: bold\">173</span>, Frames: <span style=\"color: #008080; text-decoration-color: #008080; font-weight: bold\">2669</span>, Max Reward: <span style=\"color: #008080; text-decoration-color: #008080; font-weight: bold\">0</span>\n",
              "</pre>\n"
            ],
            "text/plain": [
              "Iterations: \u001b[1;36m95\u001b[0m, Cells: \u001b[1;36m173\u001b[0m, Frames: \u001b[1;36m2669\u001b[0m, Max Reward: \u001b[1;36m0\u001b[0m\n"
            ]
          },
          "metadata": {
            "tags": []
          }
        },
        {
          "output_type": "display_data",
          "data": {
            "text/html": [
              "<pre style=\"white-space:pre;overflow-x:auto;line-height:normal;font-family:Menlo,'DejaVu Sans Mono',consolas,'Courier New',monospace\">Iterations: <span style=\"color: #008080; text-decoration-color: #008080; font-weight: bold\">96</span>, Cells: <span style=\"color: #008080; text-decoration-color: #008080; font-weight: bold\">174</span>, Frames: <span style=\"color: #008080; text-decoration-color: #008080; font-weight: bold\">2678</span>, Max Reward: <span style=\"color: #008080; text-decoration-color: #008080; font-weight: bold\">0</span>\n",
              "</pre>\n"
            ],
            "text/plain": [
              "Iterations: \u001b[1;36m96\u001b[0m, Cells: \u001b[1;36m174\u001b[0m, Frames: \u001b[1;36m2678\u001b[0m, Max Reward: \u001b[1;36m0\u001b[0m\n"
            ]
          },
          "metadata": {
            "tags": []
          }
        },
        {
          "output_type": "display_data",
          "data": {
            "text/html": [
              "<pre style=\"white-space:pre;overflow-x:auto;line-height:normal;font-family:Menlo,'DejaVu Sans Mono',consolas,'Courier New',monospace\">Iterations: <span style=\"color: #008080; text-decoration-color: #008080; font-weight: bold\">97</span>, Cells: <span style=\"color: #008080; text-decoration-color: #008080; font-weight: bold\">174</span>, Frames: <span style=\"color: #008080; text-decoration-color: #008080; font-weight: bold\">2684</span>, Max Reward: <span style=\"color: #008080; text-decoration-color: #008080; font-weight: bold\">0</span>\n",
              "</pre>\n"
            ],
            "text/plain": [
              "Iterations: \u001b[1;36m97\u001b[0m, Cells: \u001b[1;36m174\u001b[0m, Frames: \u001b[1;36m2684\u001b[0m, Max Reward: \u001b[1;36m0\u001b[0m\n"
            ]
          },
          "metadata": {
            "tags": []
          }
        },
        {
          "output_type": "display_data",
          "data": {
            "text/html": [
              "<pre style=\"white-space:pre;overflow-x:auto;line-height:normal;font-family:Menlo,'DejaVu Sans Mono',consolas,'Courier New',monospace\">Iterations: <span style=\"color: #008080; text-decoration-color: #008080; font-weight: bold\">98</span>, Cells: <span style=\"color: #008080; text-decoration-color: #008080; font-weight: bold\">177</span>, Frames: <span style=\"color: #008080; text-decoration-color: #008080; font-weight: bold\">2745</span>, Max Reward: <span style=\"color: #008080; text-decoration-color: #008080; font-weight: bold\">0</span>\n",
              "</pre>\n"
            ],
            "text/plain": [
              "Iterations: \u001b[1;36m98\u001b[0m, Cells: \u001b[1;36m177\u001b[0m, Frames: \u001b[1;36m2745\u001b[0m, Max Reward: \u001b[1;36m0\u001b[0m\n"
            ]
          },
          "metadata": {
            "tags": []
          }
        },
        {
          "output_type": "display_data",
          "data": {
            "text/html": [
              "<pre style=\"white-space:pre;overflow-x:auto;line-height:normal;font-family:Menlo,'DejaVu Sans Mono',consolas,'Courier New',monospace\">Iterations: <span style=\"color: #008080; text-decoration-color: #008080; font-weight: bold\">99</span>, Cells: <span style=\"color: #008080; text-decoration-color: #008080; font-weight: bold\">177</span>, Frames: <span style=\"color: #008080; text-decoration-color: #008080; font-weight: bold\">2751</span>, Max Reward: <span style=\"color: #008080; text-decoration-color: #008080; font-weight: bold\">0</span>\n",
              "</pre>\n"
            ],
            "text/plain": [
              "Iterations: \u001b[1;36m99\u001b[0m, Cells: \u001b[1;36m177\u001b[0m, Frames: \u001b[1;36m2751\u001b[0m, Max Reward: \u001b[1;36m0\u001b[0m\n"
            ]
          },
          "metadata": {
            "tags": []
          }
        },
        {
          "output_type": "display_data",
          "data": {
            "text/html": [
              "<pre style=\"white-space:pre;overflow-x:auto;line-height:normal;font-family:Menlo,'DejaVu Sans Mono',consolas,'Courier New',monospace\">Iterations: <span style=\"color: #008080; text-decoration-color: #008080; font-weight: bold\">100</span>, Cells: <span style=\"color: #008080; text-decoration-color: #008080; font-weight: bold\">177</span>, Frames: <span style=\"color: #008080; text-decoration-color: #008080; font-weight: bold\">2756</span>, Max Reward: <span style=\"color: #008080; text-decoration-color: #008080; font-weight: bold\">0</span>\n",
              "</pre>\n"
            ],
            "text/plain": [
              "Iterations: \u001b[1;36m100\u001b[0m, Cells: \u001b[1;36m177\u001b[0m, Frames: \u001b[1;36m2756\u001b[0m, Max Reward: \u001b[1;36m0\u001b[0m\n"
            ]
          },
          "metadata": {
            "tags": []
          }
        },
        {
          "output_type": "display_data",
          "data": {
            "text/html": [
              "<pre style=\"white-space:pre;overflow-x:auto;line-height:normal;font-family:Menlo,'DejaVu Sans Mono',consolas,'Courier New',monospace\">Iterations: <span style=\"color: #008080; text-decoration-color: #008080; font-weight: bold\">102</span>, Cells: <span style=\"color: #008080; text-decoration-color: #008080; font-weight: bold\">177</span>, Frames: <span style=\"color: #008080; text-decoration-color: #008080; font-weight: bold\">2766</span>, Max Reward: <span style=\"color: #008080; text-decoration-color: #008080; font-weight: bold\">0</span>\n",
              "</pre>\n"
            ],
            "text/plain": [
              "Iterations: \u001b[1;36m102\u001b[0m, Cells: \u001b[1;36m177\u001b[0m, Frames: \u001b[1;36m2766\u001b[0m, Max Reward: \u001b[1;36m0\u001b[0m\n"
            ]
          },
          "metadata": {
            "tags": []
          }
        },
        {
          "output_type": "display_data",
          "data": {
            "text/html": [
              "<pre style=\"white-space:pre;overflow-x:auto;line-height:normal;font-family:Menlo,'DejaVu Sans Mono',consolas,'Courier New',monospace\">Iterations: <span style=\"color: #008080; text-decoration-color: #008080; font-weight: bold\">104</span>, Cells: <span style=\"color: #008080; text-decoration-color: #008080; font-weight: bold\">178</span>, Frames: <span style=\"color: #008080; text-decoration-color: #008080; font-weight: bold\">2786</span>, Max Reward: <span style=\"color: #008080; text-decoration-color: #008080; font-weight: bold\">0</span>\n",
              "</pre>\n"
            ],
            "text/plain": [
              "Iterations: \u001b[1;36m104\u001b[0m, Cells: \u001b[1;36m178\u001b[0m, Frames: \u001b[1;36m2786\u001b[0m, Max Reward: \u001b[1;36m0\u001b[0m\n"
            ]
          },
          "metadata": {
            "tags": []
          }
        },
        {
          "output_type": "display_data",
          "data": {
            "text/html": [
              "<pre style=\"white-space:pre;overflow-x:auto;line-height:normal;font-family:Menlo,'DejaVu Sans Mono',consolas,'Courier New',monospace\">Iterations: <span style=\"color: #008080; text-decoration-color: #008080; font-weight: bold\">105</span>, Cells: <span style=\"color: #008080; text-decoration-color: #008080; font-weight: bold\">178</span>, Frames: <span style=\"color: #008080; text-decoration-color: #008080; font-weight: bold\">2800</span>, Max Reward: <span style=\"color: #008080; text-decoration-color: #008080; font-weight: bold\">0</span>\n",
              "</pre>\n"
            ],
            "text/plain": [
              "Iterations: \u001b[1;36m105\u001b[0m, Cells: \u001b[1;36m178\u001b[0m, Frames: \u001b[1;36m2800\u001b[0m, Max Reward: \u001b[1;36m0\u001b[0m\n"
            ]
          },
          "metadata": {
            "tags": []
          }
        },
        {
          "output_type": "display_data",
          "data": {
            "text/html": [
              "<pre style=\"white-space:pre;overflow-x:auto;line-height:normal;font-family:Menlo,'DejaVu Sans Mono',consolas,'Courier New',monospace\">Iterations: <span style=\"color: #008080; text-decoration-color: #008080; font-weight: bold\">106</span>, Cells: <span style=\"color: #008080; text-decoration-color: #008080; font-weight: bold\">180</span>, Frames: <span style=\"color: #008080; text-decoration-color: #008080; font-weight: bold\">2820</span>, Max Reward: <span style=\"color: #008080; text-decoration-color: #008080; font-weight: bold\">0</span>\n",
              "</pre>\n"
            ],
            "text/plain": [
              "Iterations: \u001b[1;36m106\u001b[0m, Cells: \u001b[1;36m180\u001b[0m, Frames: \u001b[1;36m2820\u001b[0m, Max Reward: \u001b[1;36m0\u001b[0m\n"
            ]
          },
          "metadata": {
            "tags": []
          }
        },
        {
          "output_type": "display_data",
          "data": {
            "text/html": [
              "<pre style=\"white-space:pre;overflow-x:auto;line-height:normal;font-family:Menlo,'DejaVu Sans Mono',consolas,'Courier New',monospace\">Iterations: <span style=\"color: #008080; text-decoration-color: #008080; font-weight: bold\">107</span>, Cells: <span style=\"color: #008080; text-decoration-color: #008080; font-weight: bold\">180</span>, Frames: <span style=\"color: #008080; text-decoration-color: #008080; font-weight: bold\">2834</span>, Max Reward: <span style=\"color: #008080; text-decoration-color: #008080; font-weight: bold\">0</span>\n",
              "</pre>\n"
            ],
            "text/plain": [
              "Iterations: \u001b[1;36m107\u001b[0m, Cells: \u001b[1;36m180\u001b[0m, Frames: \u001b[1;36m2834\u001b[0m, Max Reward: \u001b[1;36m0\u001b[0m\n"
            ]
          },
          "metadata": {
            "tags": []
          }
        },
        {
          "output_type": "display_data",
          "data": {
            "text/html": [
              "<pre style=\"white-space:pre;overflow-x:auto;line-height:normal;font-family:Menlo,'DejaVu Sans Mono',consolas,'Courier New',monospace\">Iterations: <span style=\"color: #008080; text-decoration-color: #008080; font-weight: bold\">108</span>, Cells: <span style=\"color: #008080; text-decoration-color: #008080; font-weight: bold\">180</span>, Frames: <span style=\"color: #008080; text-decoration-color: #008080; font-weight: bold\">2908</span>, Max Reward: <span style=\"color: #008080; text-decoration-color: #008080; font-weight: bold\">0</span>\n",
              "</pre>\n"
            ],
            "text/plain": [
              "Iterations: \u001b[1;36m108\u001b[0m, Cells: \u001b[1;36m180\u001b[0m, Frames: \u001b[1;36m2908\u001b[0m, Max Reward: \u001b[1;36m0\u001b[0m\n"
            ]
          },
          "metadata": {
            "tags": []
          }
        },
        {
          "output_type": "display_data",
          "data": {
            "text/html": [
              "<pre style=\"white-space:pre;overflow-x:auto;line-height:normal;font-family:Menlo,'DejaVu Sans Mono',consolas,'Courier New',monospace\">Iterations: <span style=\"color: #008080; text-decoration-color: #008080; font-weight: bold\">109</span>, Cells: <span style=\"color: #008080; text-decoration-color: #008080; font-weight: bold\">181</span>, Frames: <span style=\"color: #008080; text-decoration-color: #008080; font-weight: bold\">2935</span>, Max Reward: <span style=\"color: #008080; text-decoration-color: #008080; font-weight: bold\">0</span>\n",
              "</pre>\n"
            ],
            "text/plain": [
              "Iterations: \u001b[1;36m109\u001b[0m, Cells: \u001b[1;36m181\u001b[0m, Frames: \u001b[1;36m2935\u001b[0m, Max Reward: \u001b[1;36m0\u001b[0m\n"
            ]
          },
          "metadata": {
            "tags": []
          }
        },
        {
          "output_type": "display_data",
          "data": {
            "text/html": [
              "<pre style=\"white-space:pre;overflow-x:auto;line-height:normal;font-family:Menlo,'DejaVu Sans Mono',consolas,'Courier New',monospace\">Iterations: <span style=\"color: #008080; text-decoration-color: #008080; font-weight: bold\">110</span>, Cells: <span style=\"color: #008080; text-decoration-color: #008080; font-weight: bold\">181</span>, Frames: <span style=\"color: #008080; text-decoration-color: #008080; font-weight: bold\">2947</span>, Max Reward: <span style=\"color: #008080; text-decoration-color: #008080; font-weight: bold\">0</span>\n",
              "</pre>\n"
            ],
            "text/plain": [
              "Iterations: \u001b[1;36m110\u001b[0m, Cells: \u001b[1;36m181\u001b[0m, Frames: \u001b[1;36m2947\u001b[0m, Max Reward: \u001b[1;36m0\u001b[0m\n"
            ]
          },
          "metadata": {
            "tags": []
          }
        },
        {
          "output_type": "display_data",
          "data": {
            "text/html": [
              "<pre style=\"white-space:pre;overflow-x:auto;line-height:normal;font-family:Menlo,'DejaVu Sans Mono',consolas,'Courier New',monospace\">Iterations: <span style=\"color: #008080; text-decoration-color: #008080; font-weight: bold\">111</span>, Cells: <span style=\"color: #008080; text-decoration-color: #008080; font-weight: bold\">181</span>, Frames: <span style=\"color: #008080; text-decoration-color: #008080; font-weight: bold\">2955</span>, Max Reward: <span style=\"color: #008080; text-decoration-color: #008080; font-weight: bold\">0</span>\n",
              "</pre>\n"
            ],
            "text/plain": [
              "Iterations: \u001b[1;36m111\u001b[0m, Cells: \u001b[1;36m181\u001b[0m, Frames: \u001b[1;36m2955\u001b[0m, Max Reward: \u001b[1;36m0\u001b[0m\n"
            ]
          },
          "metadata": {
            "tags": []
          }
        },
        {
          "output_type": "display_data",
          "data": {
            "text/html": [
              "<pre style=\"white-space:pre;overflow-x:auto;line-height:normal;font-family:Menlo,'DejaVu Sans Mono',consolas,'Courier New',monospace\">Iterations: <span style=\"color: #008080; text-decoration-color: #008080; font-weight: bold\">112</span>, Cells: <span style=\"color: #008080; text-decoration-color: #008080; font-weight: bold\">181</span>, Frames: <span style=\"color: #008080; text-decoration-color: #008080; font-weight: bold\">2961</span>, Max Reward: <span style=\"color: #008080; text-decoration-color: #008080; font-weight: bold\">0</span>\n",
              "</pre>\n"
            ],
            "text/plain": [
              "Iterations: \u001b[1;36m112\u001b[0m, Cells: \u001b[1;36m181\u001b[0m, Frames: \u001b[1;36m2961\u001b[0m, Max Reward: \u001b[1;36m0\u001b[0m\n"
            ]
          },
          "metadata": {
            "tags": []
          }
        },
        {
          "output_type": "display_data",
          "data": {
            "text/html": [
              "<pre style=\"white-space:pre;overflow-x:auto;line-height:normal;font-family:Menlo,'DejaVu Sans Mono',consolas,'Courier New',monospace\">Iterations: <span style=\"color: #008080; text-decoration-color: #008080; font-weight: bold\">113</span>, Cells: <span style=\"color: #008080; text-decoration-color: #008080; font-weight: bold\">183</span>, Frames: <span style=\"color: #008080; text-decoration-color: #008080; font-weight: bold\">2989</span>, Max Reward: <span style=\"color: #008080; text-decoration-color: #008080; font-weight: bold\">0</span>\n",
              "</pre>\n"
            ],
            "text/plain": [
              "Iterations: \u001b[1;36m113\u001b[0m, Cells: \u001b[1;36m183\u001b[0m, Frames: \u001b[1;36m2989\u001b[0m, Max Reward: \u001b[1;36m0\u001b[0m\n"
            ]
          },
          "metadata": {
            "tags": []
          }
        },
        {
          "output_type": "display_data",
          "data": {
            "text/html": [
              "<pre style=\"white-space:pre;overflow-x:auto;line-height:normal;font-family:Menlo,'DejaVu Sans Mono',consolas,'Courier New',monospace\">Iterations: <span style=\"color: #008080; text-decoration-color: #008080; font-weight: bold\">114</span>, Cells: <span style=\"color: #008080; text-decoration-color: #008080; font-weight: bold\">183</span>, Frames: <span style=\"color: #008080; text-decoration-color: #008080; font-weight: bold\">2992</span>, Max Reward: <span style=\"color: #008080; text-decoration-color: #008080; font-weight: bold\">0</span>\n",
              "</pre>\n"
            ],
            "text/plain": [
              "Iterations: \u001b[1;36m114\u001b[0m, Cells: \u001b[1;36m183\u001b[0m, Frames: \u001b[1;36m2992\u001b[0m, Max Reward: \u001b[1;36m0\u001b[0m\n"
            ]
          },
          "metadata": {
            "tags": []
          }
        },
        {
          "output_type": "display_data",
          "data": {
            "text/html": [
              "<pre style=\"white-space:pre;overflow-x:auto;line-height:normal;font-family:Menlo,'DejaVu Sans Mono',consolas,'Courier New',monospace\">Iterations: <span style=\"color: #008080; text-decoration-color: #008080; font-weight: bold\">115</span>, Cells: <span style=\"color: #008080; text-decoration-color: #008080; font-weight: bold\">184</span>, Frames: <span style=\"color: #008080; text-decoration-color: #008080; font-weight: bold\">3018</span>, Max Reward: <span style=\"color: #008080; text-decoration-color: #008080; font-weight: bold\">0</span>\n",
              "</pre>\n"
            ],
            "text/plain": [
              "Iterations: \u001b[1;36m115\u001b[0m, Cells: \u001b[1;36m184\u001b[0m, Frames: \u001b[1;36m3018\u001b[0m, Max Reward: \u001b[1;36m0\u001b[0m\n"
            ]
          },
          "metadata": {
            "tags": []
          }
        },
        {
          "output_type": "display_data",
          "data": {
            "text/html": [
              "<pre style=\"white-space:pre;overflow-x:auto;line-height:normal;font-family:Menlo,'DejaVu Sans Mono',consolas,'Courier New',monospace\">Iterations: <span style=\"color: #008080; text-decoration-color: #008080; font-weight: bold\">116</span>, Cells: <span style=\"color: #008080; text-decoration-color: #008080; font-weight: bold\">184</span>, Frames: <span style=\"color: #008080; text-decoration-color: #008080; font-weight: bold\">3023</span>, Max Reward: <span style=\"color: #008080; text-decoration-color: #008080; font-weight: bold\">0</span>\n",
              "</pre>\n"
            ],
            "text/plain": [
              "Iterations: \u001b[1;36m116\u001b[0m, Cells: \u001b[1;36m184\u001b[0m, Frames: \u001b[1;36m3023\u001b[0m, Max Reward: \u001b[1;36m0\u001b[0m\n"
            ]
          },
          "metadata": {
            "tags": []
          }
        },
        {
          "output_type": "display_data",
          "data": {
            "text/html": [
              "<pre style=\"white-space:pre;overflow-x:auto;line-height:normal;font-family:Menlo,'DejaVu Sans Mono',consolas,'Courier New',monospace\">Iterations: <span style=\"color: #008080; text-decoration-color: #008080; font-weight: bold\">117</span>, Cells: <span style=\"color: #008080; text-decoration-color: #008080; font-weight: bold\">186</span>, Frames: <span style=\"color: #008080; text-decoration-color: #008080; font-weight: bold\">3065</span>, Max Reward: <span style=\"color: #008080; text-decoration-color: #008080; font-weight: bold\">0</span>\n",
              "</pre>\n"
            ],
            "text/plain": [
              "Iterations: \u001b[1;36m117\u001b[0m, Cells: \u001b[1;36m186\u001b[0m, Frames: \u001b[1;36m3065\u001b[0m, Max Reward: \u001b[1;36m0\u001b[0m\n"
            ]
          },
          "metadata": {
            "tags": []
          }
        },
        {
          "output_type": "display_data",
          "data": {
            "text/html": [
              "<pre style=\"white-space:pre;overflow-x:auto;line-height:normal;font-family:Menlo,'DejaVu Sans Mono',consolas,'Courier New',monospace\">Iterations: <span style=\"color: #008080; text-decoration-color: #008080; font-weight: bold\">118</span>, Cells: <span style=\"color: #008080; text-decoration-color: #008080; font-weight: bold\">192</span>, Frames: <span style=\"color: #008080; text-decoration-color: #008080; font-weight: bold\">3120</span>, Max Reward: <span style=\"color: #008080; text-decoration-color: #008080; font-weight: bold\">0</span>\n",
              "</pre>\n"
            ],
            "text/plain": [
              "Iterations: \u001b[1;36m118\u001b[0m, Cells: \u001b[1;36m192\u001b[0m, Frames: \u001b[1;36m3120\u001b[0m, Max Reward: \u001b[1;36m0\u001b[0m\n"
            ]
          },
          "metadata": {
            "tags": []
          }
        },
        {
          "output_type": "display_data",
          "data": {
            "text/html": [
              "<pre style=\"white-space:pre;overflow-x:auto;line-height:normal;font-family:Menlo,'DejaVu Sans Mono',consolas,'Courier New',monospace\">Iterations: <span style=\"color: #008080; text-decoration-color: #008080; font-weight: bold\">119</span>, Cells: <span style=\"color: #008080; text-decoration-color: #008080; font-weight: bold\">192</span>, Frames: <span style=\"color: #008080; text-decoration-color: #008080; font-weight: bold\">3176</span>, Max Reward: <span style=\"color: #008080; text-decoration-color: #008080; font-weight: bold\">0</span>\n",
              "</pre>\n"
            ],
            "text/plain": [
              "Iterations: \u001b[1;36m119\u001b[0m, Cells: \u001b[1;36m192\u001b[0m, Frames: \u001b[1;36m3176\u001b[0m, Max Reward: \u001b[1;36m0\u001b[0m\n"
            ]
          },
          "metadata": {
            "tags": []
          }
        },
        {
          "output_type": "display_data",
          "data": {
            "text/html": [
              "<pre style=\"white-space:pre;overflow-x:auto;line-height:normal;font-family:Menlo,'DejaVu Sans Mono',consolas,'Courier New',monospace\">Iterations: <span style=\"color: #008080; text-decoration-color: #008080; font-weight: bold\">120</span>, Cells: <span style=\"color: #008080; text-decoration-color: #008080; font-weight: bold\">195</span>, Frames: <span style=\"color: #008080; text-decoration-color: #008080; font-weight: bold\">3228</span>, Max Reward: <span style=\"color: #008080; text-decoration-color: #008080; font-weight: bold\">0</span>\n",
              "</pre>\n"
            ],
            "text/plain": [
              "Iterations: \u001b[1;36m120\u001b[0m, Cells: \u001b[1;36m195\u001b[0m, Frames: \u001b[1;36m3228\u001b[0m, Max Reward: \u001b[1;36m0\u001b[0m\n"
            ]
          },
          "metadata": {
            "tags": []
          }
        },
        {
          "output_type": "display_data",
          "data": {
            "text/html": [
              "<pre style=\"white-space:pre;overflow-x:auto;line-height:normal;font-family:Menlo,'DejaVu Sans Mono',consolas,'Courier New',monospace\">Iterations: <span style=\"color: #008080; text-decoration-color: #008080; font-weight: bold\">121</span>, Cells: <span style=\"color: #008080; text-decoration-color: #008080; font-weight: bold\">195</span>, Frames: <span style=\"color: #008080; text-decoration-color: #008080; font-weight: bold\">3231</span>, Max Reward: <span style=\"color: #008080; text-decoration-color: #008080; font-weight: bold\">0</span>\n",
              "</pre>\n"
            ],
            "text/plain": [
              "Iterations: \u001b[1;36m121\u001b[0m, Cells: \u001b[1;36m195\u001b[0m, Frames: \u001b[1;36m3231\u001b[0m, Max Reward: \u001b[1;36m0\u001b[0m\n"
            ]
          },
          "metadata": {
            "tags": []
          }
        },
        {
          "output_type": "display_data",
          "data": {
            "text/html": [
              "<pre style=\"white-space:pre;overflow-x:auto;line-height:normal;font-family:Menlo,'DejaVu Sans Mono',consolas,'Courier New',monospace\">Iterations: <span style=\"color: #008080; text-decoration-color: #008080; font-weight: bold\">122</span>, Cells: <span style=\"color: #008080; text-decoration-color: #008080; font-weight: bold\">197</span>, Frames: <span style=\"color: #008080; text-decoration-color: #008080; font-weight: bold\">3239</span>, Max Reward: <span style=\"color: #008080; text-decoration-color: #008080; font-weight: bold\">0</span>\n",
              "</pre>\n"
            ],
            "text/plain": [
              "Iterations: \u001b[1;36m122\u001b[0m, Cells: \u001b[1;36m197\u001b[0m, Frames: \u001b[1;36m3239\u001b[0m, Max Reward: \u001b[1;36m0\u001b[0m\n"
            ]
          },
          "metadata": {
            "tags": []
          }
        },
        {
          "output_type": "display_data",
          "data": {
            "text/html": [
              "<pre style=\"white-space:pre;overflow-x:auto;line-height:normal;font-family:Menlo,'DejaVu Sans Mono',consolas,'Courier New',monospace\">Iterations: <span style=\"color: #008080; text-decoration-color: #008080; font-weight: bold\">123</span>, Cells: <span style=\"color: #008080; text-decoration-color: #008080; font-weight: bold\">198</span>, Frames: <span style=\"color: #008080; text-decoration-color: #008080; font-weight: bold\">3250</span>, Max Reward: <span style=\"color: #008080; text-decoration-color: #008080; font-weight: bold\">0</span>\n",
              "</pre>\n"
            ],
            "text/plain": [
              "Iterations: \u001b[1;36m123\u001b[0m, Cells: \u001b[1;36m198\u001b[0m, Frames: \u001b[1;36m3250\u001b[0m, Max Reward: \u001b[1;36m0\u001b[0m\n"
            ]
          },
          "metadata": {
            "tags": []
          }
        },
        {
          "output_type": "display_data",
          "data": {
            "text/html": [
              "<pre style=\"white-space:pre;overflow-x:auto;line-height:normal;font-family:Menlo,'DejaVu Sans Mono',consolas,'Courier New',monospace\">Iterations: <span style=\"color: #008080; text-decoration-color: #008080; font-weight: bold\">124</span>, Cells: <span style=\"color: #008080; text-decoration-color: #008080; font-weight: bold\">198</span>, Frames: <span style=\"color: #008080; text-decoration-color: #008080; font-weight: bold\">3337</span>, Max Reward: <span style=\"color: #008080; text-decoration-color: #008080; font-weight: bold\">0</span>\n",
              "</pre>\n"
            ],
            "text/plain": [
              "Iterations: \u001b[1;36m124\u001b[0m, Cells: \u001b[1;36m198\u001b[0m, Frames: \u001b[1;36m3337\u001b[0m, Max Reward: \u001b[1;36m0\u001b[0m\n"
            ]
          },
          "metadata": {
            "tags": []
          }
        },
        {
          "output_type": "display_data",
          "data": {
            "text/html": [
              "<pre style=\"white-space:pre;overflow-x:auto;line-height:normal;font-family:Menlo,'DejaVu Sans Mono',consolas,'Courier New',monospace\">Iterations: <span style=\"color: #008080; text-decoration-color: #008080; font-weight: bold\">125</span>, Cells: <span style=\"color: #008080; text-decoration-color: #008080; font-weight: bold\">198</span>, Frames: <span style=\"color: #008080; text-decoration-color: #008080; font-weight: bold\">3437</span>, Max Reward: <span style=\"color: #008080; text-decoration-color: #008080; font-weight: bold\">0</span>\n",
              "</pre>\n"
            ],
            "text/plain": [
              "Iterations: \u001b[1;36m125\u001b[0m, Cells: \u001b[1;36m198\u001b[0m, Frames: \u001b[1;36m3437\u001b[0m, Max Reward: \u001b[1;36m0\u001b[0m\n"
            ]
          },
          "metadata": {
            "tags": []
          }
        },
        {
          "output_type": "display_data",
          "data": {
            "text/html": [
              "<pre style=\"white-space:pre;overflow-x:auto;line-height:normal;font-family:Menlo,'DejaVu Sans Mono',consolas,'Courier New',monospace\">Iterations: <span style=\"color: #008080; text-decoration-color: #008080; font-weight: bold\">126</span>, Cells: <span style=\"color: #008080; text-decoration-color: #008080; font-weight: bold\">198</span>, Frames: <span style=\"color: #008080; text-decoration-color: #008080; font-weight: bold\">3466</span>, Max Reward: <span style=\"color: #008080; text-decoration-color: #008080; font-weight: bold\">0</span>\n",
              "</pre>\n"
            ],
            "text/plain": [
              "Iterations: \u001b[1;36m126\u001b[0m, Cells: \u001b[1;36m198\u001b[0m, Frames: \u001b[1;36m3466\u001b[0m, Max Reward: \u001b[1;36m0\u001b[0m\n"
            ]
          },
          "metadata": {
            "tags": []
          }
        },
        {
          "output_type": "display_data",
          "data": {
            "text/html": [
              "<pre style=\"white-space:pre;overflow-x:auto;line-height:normal;font-family:Menlo,'DejaVu Sans Mono',consolas,'Courier New',monospace\">Iterations: <span style=\"color: #008080; text-decoration-color: #008080; font-weight: bold\">127</span>, Cells: <span style=\"color: #008080; text-decoration-color: #008080; font-weight: bold\">199</span>, Frames: <span style=\"color: #008080; text-decoration-color: #008080; font-weight: bold\">3488</span>, Max Reward: <span style=\"color: #008080; text-decoration-color: #008080; font-weight: bold\">0</span>\n",
              "</pre>\n"
            ],
            "text/plain": [
              "Iterations: \u001b[1;36m127\u001b[0m, Cells: \u001b[1;36m199\u001b[0m, Frames: \u001b[1;36m3488\u001b[0m, Max Reward: \u001b[1;36m0\u001b[0m\n"
            ]
          },
          "metadata": {
            "tags": []
          }
        },
        {
          "output_type": "display_data",
          "data": {
            "text/html": [
              "<pre style=\"white-space:pre;overflow-x:auto;line-height:normal;font-family:Menlo,'DejaVu Sans Mono',consolas,'Courier New',monospace\">Iterations: <span style=\"color: #008080; text-decoration-color: #008080; font-weight: bold\">128</span>, Cells: <span style=\"color: #008080; text-decoration-color: #008080; font-weight: bold\">199</span>, Frames: <span style=\"color: #008080; text-decoration-color: #008080; font-weight: bold\">3588</span>, Max Reward: <span style=\"color: #008080; text-decoration-color: #008080; font-weight: bold\">0</span>\n",
              "</pre>\n"
            ],
            "text/plain": [
              "Iterations: \u001b[1;36m128\u001b[0m, Cells: \u001b[1;36m199\u001b[0m, Frames: \u001b[1;36m3588\u001b[0m, Max Reward: \u001b[1;36m0\u001b[0m\n"
            ]
          },
          "metadata": {
            "tags": []
          }
        },
        {
          "output_type": "display_data",
          "data": {
            "text/html": [
              "<pre style=\"white-space:pre;overflow-x:auto;line-height:normal;font-family:Menlo,'DejaVu Sans Mono',consolas,'Courier New',monospace\">Iterations: <span style=\"color: #008080; text-decoration-color: #008080; font-weight: bold\">129</span>, Cells: <span style=\"color: #008080; text-decoration-color: #008080; font-weight: bold\">199</span>, Frames: <span style=\"color: #008080; text-decoration-color: #008080; font-weight: bold\">3590</span>, Max Reward: <span style=\"color: #008080; text-decoration-color: #008080; font-weight: bold\">0</span>\n",
              "</pre>\n"
            ],
            "text/plain": [
              "Iterations: \u001b[1;36m129\u001b[0m, Cells: \u001b[1;36m199\u001b[0m, Frames: \u001b[1;36m3590\u001b[0m, Max Reward: \u001b[1;36m0\u001b[0m\n"
            ]
          },
          "metadata": {
            "tags": []
          }
        },
        {
          "output_type": "display_data",
          "data": {
            "text/html": [
              "<pre style=\"white-space:pre;overflow-x:auto;line-height:normal;font-family:Menlo,'DejaVu Sans Mono',consolas,'Courier New',monospace\">Iterations: <span style=\"color: #008080; text-decoration-color: #008080; font-weight: bold\">130</span>, Cells: <span style=\"color: #008080; text-decoration-color: #008080; font-weight: bold\">201</span>, Frames: <span style=\"color: #008080; text-decoration-color: #008080; font-weight: bold\">3665</span>, Max Reward: <span style=\"color: #008080; text-decoration-color: #008080; font-weight: bold\">0</span>\n",
              "</pre>\n"
            ],
            "text/plain": [
              "Iterations: \u001b[1;36m130\u001b[0m, Cells: \u001b[1;36m201\u001b[0m, Frames: \u001b[1;36m3665\u001b[0m, Max Reward: \u001b[1;36m0\u001b[0m\n"
            ]
          },
          "metadata": {
            "tags": []
          }
        },
        {
          "output_type": "display_data",
          "data": {
            "text/html": [
              "<pre style=\"white-space:pre;overflow-x:auto;line-height:normal;font-family:Menlo,'DejaVu Sans Mono',consolas,'Courier New',monospace\">Iterations: <span style=\"color: #008080; text-decoration-color: #008080; font-weight: bold\">131</span>, Cells: <span style=\"color: #008080; text-decoration-color: #008080; font-weight: bold\">201</span>, Frames: <span style=\"color: #008080; text-decoration-color: #008080; font-weight: bold\">3667</span>, Max Reward: <span style=\"color: #008080; text-decoration-color: #008080; font-weight: bold\">0</span>\n",
              "</pre>\n"
            ],
            "text/plain": [
              "Iterations: \u001b[1;36m131\u001b[0m, Cells: \u001b[1;36m201\u001b[0m, Frames: \u001b[1;36m3667\u001b[0m, Max Reward: \u001b[1;36m0\u001b[0m\n"
            ]
          },
          "metadata": {
            "tags": []
          }
        },
        {
          "output_type": "display_data",
          "data": {
            "text/html": [
              "<pre style=\"white-space:pre;overflow-x:auto;line-height:normal;font-family:Menlo,'DejaVu Sans Mono',consolas,'Courier New',monospace\">Iterations: <span style=\"color: #008080; text-decoration-color: #008080; font-weight: bold\">132</span>, Cells: <span style=\"color: #008080; text-decoration-color: #008080; font-weight: bold\">203</span>, Frames: <span style=\"color: #008080; text-decoration-color: #008080; font-weight: bold\">3767</span>, Max Reward: <span style=\"color: #008080; text-decoration-color: #008080; font-weight: bold\">0</span>\n",
              "</pre>\n"
            ],
            "text/plain": [
              "Iterations: \u001b[1;36m132\u001b[0m, Cells: \u001b[1;36m203\u001b[0m, Frames: \u001b[1;36m3767\u001b[0m, Max Reward: \u001b[1;36m0\u001b[0m\n"
            ]
          },
          "metadata": {
            "tags": []
          }
        },
        {
          "output_type": "display_data",
          "data": {
            "text/html": [
              "<pre style=\"white-space:pre;overflow-x:auto;line-height:normal;font-family:Menlo,'DejaVu Sans Mono',consolas,'Courier New',monospace\">Iterations: <span style=\"color: #008080; text-decoration-color: #008080; font-weight: bold\">133</span>, Cells: <span style=\"color: #008080; text-decoration-color: #008080; font-weight: bold\">204</span>, Frames: <span style=\"color: #008080; text-decoration-color: #008080; font-weight: bold\">3848</span>, Max Reward: <span style=\"color: #008080; text-decoration-color: #008080; font-weight: bold\">0</span>\n",
              "</pre>\n"
            ],
            "text/plain": [
              "Iterations: \u001b[1;36m133\u001b[0m, Cells: \u001b[1;36m204\u001b[0m, Frames: \u001b[1;36m3848\u001b[0m, Max Reward: \u001b[1;36m0\u001b[0m\n"
            ]
          },
          "metadata": {
            "tags": []
          }
        },
        {
          "output_type": "display_data",
          "data": {
            "text/html": [
              "<pre style=\"white-space:pre;overflow-x:auto;line-height:normal;font-family:Menlo,'DejaVu Sans Mono',consolas,'Courier New',monospace\">Iterations: <span style=\"color: #008080; text-decoration-color: #008080; font-weight: bold\">134</span>, Cells: <span style=\"color: #008080; text-decoration-color: #008080; font-weight: bold\">205</span>, Frames: <span style=\"color: #008080; text-decoration-color: #008080; font-weight: bold\">3865</span>, Max Reward: <span style=\"color: #008080; text-decoration-color: #008080; font-weight: bold\">0</span>\n",
              "</pre>\n"
            ],
            "text/plain": [
              "Iterations: \u001b[1;36m134\u001b[0m, Cells: \u001b[1;36m205\u001b[0m, Frames: \u001b[1;36m3865\u001b[0m, Max Reward: \u001b[1;36m0\u001b[0m\n"
            ]
          },
          "metadata": {
            "tags": []
          }
        },
        {
          "output_type": "display_data",
          "data": {
            "text/html": [
              "<pre style=\"white-space:pre;overflow-x:auto;line-height:normal;font-family:Menlo,'DejaVu Sans Mono',consolas,'Courier New',monospace\">Iterations: <span style=\"color: #008080; text-decoration-color: #008080; font-weight: bold\">135</span>, Cells: <span style=\"color: #008080; text-decoration-color: #008080; font-weight: bold\">206</span>, Frames: <span style=\"color: #008080; text-decoration-color: #008080; font-weight: bold\">3892</span>, Max Reward: <span style=\"color: #008080; text-decoration-color: #008080; font-weight: bold\">0</span>\n",
              "</pre>\n"
            ],
            "text/plain": [
              "Iterations: \u001b[1;36m135\u001b[0m, Cells: \u001b[1;36m206\u001b[0m, Frames: \u001b[1;36m3892\u001b[0m, Max Reward: \u001b[1;36m0\u001b[0m\n"
            ]
          },
          "metadata": {
            "tags": []
          }
        },
        {
          "output_type": "display_data",
          "data": {
            "text/html": [
              "<pre style=\"white-space:pre;overflow-x:auto;line-height:normal;font-family:Menlo,'DejaVu Sans Mono',consolas,'Courier New',monospace\">Iterations: <span style=\"color: #008080; text-decoration-color: #008080; font-weight: bold\">136</span>, Cells: <span style=\"color: #008080; text-decoration-color: #008080; font-weight: bold\">206</span>, Frames: <span style=\"color: #008080; text-decoration-color: #008080; font-weight: bold\">3904</span>, Max Reward: <span style=\"color: #008080; text-decoration-color: #008080; font-weight: bold\">0</span>\n",
              "</pre>\n"
            ],
            "text/plain": [
              "Iterations: \u001b[1;36m136\u001b[0m, Cells: \u001b[1;36m206\u001b[0m, Frames: \u001b[1;36m3904\u001b[0m, Max Reward: \u001b[1;36m0\u001b[0m\n"
            ]
          },
          "metadata": {
            "tags": []
          }
        },
        {
          "output_type": "display_data",
          "data": {
            "text/html": [
              "<pre style=\"white-space:pre;overflow-x:auto;line-height:normal;font-family:Menlo,'DejaVu Sans Mono',consolas,'Courier New',monospace\">Iterations: <span style=\"color: #008080; text-decoration-color: #008080; font-weight: bold\">137</span>, Cells: <span style=\"color: #008080; text-decoration-color: #008080; font-weight: bold\">206</span>, Frames: <span style=\"color: #008080; text-decoration-color: #008080; font-weight: bold\">3913</span>, Max Reward: <span style=\"color: #008080; text-decoration-color: #008080; font-weight: bold\">0</span>\n",
              "</pre>\n"
            ],
            "text/plain": [
              "Iterations: \u001b[1;36m137\u001b[0m, Cells: \u001b[1;36m206\u001b[0m, Frames: \u001b[1;36m3913\u001b[0m, Max Reward: \u001b[1;36m0\u001b[0m\n"
            ]
          },
          "metadata": {
            "tags": []
          }
        },
        {
          "output_type": "display_data",
          "data": {
            "text/html": [
              "<pre style=\"white-space:pre;overflow-x:auto;line-height:normal;font-family:Menlo,'DejaVu Sans Mono',consolas,'Courier New',monospace\">Iterations: <span style=\"color: #008080; text-decoration-color: #008080; font-weight: bold\">138</span>, Cells: <span style=\"color: #008080; text-decoration-color: #008080; font-weight: bold\">206</span>, Frames: <span style=\"color: #008080; text-decoration-color: #008080; font-weight: bold\">3918</span>, Max Reward: <span style=\"color: #008080; text-decoration-color: #008080; font-weight: bold\">0</span>\n",
              "</pre>\n"
            ],
            "text/plain": [
              "Iterations: \u001b[1;36m138\u001b[0m, Cells: \u001b[1;36m206\u001b[0m, Frames: \u001b[1;36m3918\u001b[0m, Max Reward: \u001b[1;36m0\u001b[0m\n"
            ]
          },
          "metadata": {
            "tags": []
          }
        },
        {
          "output_type": "display_data",
          "data": {
            "text/html": [
              "<pre style=\"white-space:pre;overflow-x:auto;line-height:normal;font-family:Menlo,'DejaVu Sans Mono',consolas,'Courier New',monospace\">Iterations: <span style=\"color: #008080; text-decoration-color: #008080; font-weight: bold\">139</span>, Cells: <span style=\"color: #008080; text-decoration-color: #008080; font-weight: bold\">207</span>, Frames: <span style=\"color: #008080; text-decoration-color: #008080; font-weight: bold\">3994</span>, Max Reward: <span style=\"color: #008080; text-decoration-color: #008080; font-weight: bold\">0</span>\n",
              "</pre>\n"
            ],
            "text/plain": [
              "Iterations: \u001b[1;36m139\u001b[0m, Cells: \u001b[1;36m207\u001b[0m, Frames: \u001b[1;36m3994\u001b[0m, Max Reward: \u001b[1;36m0\u001b[0m\n"
            ]
          },
          "metadata": {
            "tags": []
          }
        },
        {
          "output_type": "display_data",
          "data": {
            "text/html": [
              "<pre style=\"white-space:pre;overflow-x:auto;line-height:normal;font-family:Menlo,'DejaVu Sans Mono',consolas,'Courier New',monospace\">Iterations: <span style=\"color: #008080; text-decoration-color: #008080; font-weight: bold\">140</span>, Cells: <span style=\"color: #008080; text-decoration-color: #008080; font-weight: bold\">207</span>, Frames: <span style=\"color: #008080; text-decoration-color: #008080; font-weight: bold\">4027</span>, Max Reward: <span style=\"color: #008080; text-decoration-color: #008080; font-weight: bold\">0</span>\n",
              "</pre>\n"
            ],
            "text/plain": [
              "Iterations: \u001b[1;36m140\u001b[0m, Cells: \u001b[1;36m207\u001b[0m, Frames: \u001b[1;36m4027\u001b[0m, Max Reward: \u001b[1;36m0\u001b[0m\n"
            ]
          },
          "metadata": {
            "tags": []
          }
        },
        {
          "output_type": "display_data",
          "data": {
            "text/html": [
              "<pre style=\"white-space:pre;overflow-x:auto;line-height:normal;font-family:Menlo,'DejaVu Sans Mono',consolas,'Courier New',monospace\">Iterations: <span style=\"color: #008080; text-decoration-color: #008080; font-weight: bold\">141</span>, Cells: <span style=\"color: #008080; text-decoration-color: #008080; font-weight: bold\">208</span>, Frames: <span style=\"color: #008080; text-decoration-color: #008080; font-weight: bold\">4127</span>, Max Reward: <span style=\"color: #008080; text-decoration-color: #008080; font-weight: bold\">0</span>\n",
              "</pre>\n"
            ],
            "text/plain": [
              "Iterations: \u001b[1;36m141\u001b[0m, Cells: \u001b[1;36m208\u001b[0m, Frames: \u001b[1;36m4127\u001b[0m, Max Reward: \u001b[1;36m0\u001b[0m\n"
            ]
          },
          "metadata": {
            "tags": []
          }
        },
        {
          "output_type": "display_data",
          "data": {
            "text/html": [
              "<pre style=\"white-space:pre;overflow-x:auto;line-height:normal;font-family:Menlo,'DejaVu Sans Mono',consolas,'Courier New',monospace\">Iterations: <span style=\"color: #008080; text-decoration-color: #008080; font-weight: bold\">142</span>, Cells: <span style=\"color: #008080; text-decoration-color: #008080; font-weight: bold\">208</span>, Frames: <span style=\"color: #008080; text-decoration-color: #008080; font-weight: bold\">4133</span>, Max Reward: <span style=\"color: #008080; text-decoration-color: #008080; font-weight: bold\">0</span>\n",
              "</pre>\n"
            ],
            "text/plain": [
              "Iterations: \u001b[1;36m142\u001b[0m, Cells: \u001b[1;36m208\u001b[0m, Frames: \u001b[1;36m4133\u001b[0m, Max Reward: \u001b[1;36m0\u001b[0m\n"
            ]
          },
          "metadata": {
            "tags": []
          }
        },
        {
          "output_type": "display_data",
          "data": {
            "text/html": [
              "<pre style=\"white-space:pre;overflow-x:auto;line-height:normal;font-family:Menlo,'DejaVu Sans Mono',consolas,'Courier New',monospace\">Iterations: <span style=\"color: #008080; text-decoration-color: #008080; font-weight: bold\">143</span>, Cells: <span style=\"color: #008080; text-decoration-color: #008080; font-weight: bold\">208</span>, Frames: <span style=\"color: #008080; text-decoration-color: #008080; font-weight: bold\">4135</span>, Max Reward: <span style=\"color: #008080; text-decoration-color: #008080; font-weight: bold\">0</span>\n",
              "</pre>\n"
            ],
            "text/plain": [
              "Iterations: \u001b[1;36m143\u001b[0m, Cells: \u001b[1;36m208\u001b[0m, Frames: \u001b[1;36m4135\u001b[0m, Max Reward: \u001b[1;36m0\u001b[0m\n"
            ]
          },
          "metadata": {
            "tags": []
          }
        },
        {
          "output_type": "display_data",
          "data": {
            "text/html": [
              "<pre style=\"white-space:pre;overflow-x:auto;line-height:normal;font-family:Menlo,'DejaVu Sans Mono',consolas,'Courier New',monospace\">Iterations: <span style=\"color: #008080; text-decoration-color: #008080; font-weight: bold\">144</span>, Cells: <span style=\"color: #008080; text-decoration-color: #008080; font-weight: bold\">210</span>, Frames: <span style=\"color: #008080; text-decoration-color: #008080; font-weight: bold\">4199</span>, Max Reward: <span style=\"color: #008080; text-decoration-color: #008080; font-weight: bold\">0</span>\n",
              "</pre>\n"
            ],
            "text/plain": [
              "Iterations: \u001b[1;36m144\u001b[0m, Cells: \u001b[1;36m210\u001b[0m, Frames: \u001b[1;36m4199\u001b[0m, Max Reward: \u001b[1;36m0\u001b[0m\n"
            ]
          },
          "metadata": {
            "tags": []
          }
        },
        {
          "output_type": "display_data",
          "data": {
            "text/html": [
              "<pre style=\"white-space:pre;overflow-x:auto;line-height:normal;font-family:Menlo,'DejaVu Sans Mono',consolas,'Courier New',monospace\">Iterations: <span style=\"color: #008080; text-decoration-color: #008080; font-weight: bold\">145</span>, Cells: <span style=\"color: #008080; text-decoration-color: #008080; font-weight: bold\">210</span>, Frames: <span style=\"color: #008080; text-decoration-color: #008080; font-weight: bold\">4205</span>, Max Reward: <span style=\"color: #008080; text-decoration-color: #008080; font-weight: bold\">0</span>\n",
              "</pre>\n"
            ],
            "text/plain": [
              "Iterations: \u001b[1;36m145\u001b[0m, Cells: \u001b[1;36m210\u001b[0m, Frames: \u001b[1;36m4205\u001b[0m, Max Reward: \u001b[1;36m0\u001b[0m\n"
            ]
          },
          "metadata": {
            "tags": []
          }
        },
        {
          "output_type": "display_data",
          "data": {
            "text/html": [
              "<pre style=\"white-space:pre;overflow-x:auto;line-height:normal;font-family:Menlo,'DejaVu Sans Mono',consolas,'Courier New',monospace\">Iterations: <span style=\"color: #008080; text-decoration-color: #008080; font-weight: bold\">146</span>, Cells: <span style=\"color: #008080; text-decoration-color: #008080; font-weight: bold\">210</span>, Frames: <span style=\"color: #008080; text-decoration-color: #008080; font-weight: bold\">4207</span>, Max Reward: <span style=\"color: #008080; text-decoration-color: #008080; font-weight: bold\">0</span>\n",
              "</pre>\n"
            ],
            "text/plain": [
              "Iterations: \u001b[1;36m146\u001b[0m, Cells: \u001b[1;36m210\u001b[0m, Frames: \u001b[1;36m4207\u001b[0m, Max Reward: \u001b[1;36m0\u001b[0m\n"
            ]
          },
          "metadata": {
            "tags": []
          }
        },
        {
          "output_type": "display_data",
          "data": {
            "text/html": [
              "<pre style=\"white-space:pre;overflow-x:auto;line-height:normal;font-family:Menlo,'DejaVu Sans Mono',consolas,'Courier New',monospace\">Iterations: <span style=\"color: #008080; text-decoration-color: #008080; font-weight: bold\">147</span>, Cells: <span style=\"color: #008080; text-decoration-color: #008080; font-weight: bold\">210</span>, Frames: <span style=\"color: #008080; text-decoration-color: #008080; font-weight: bold\">4231</span>, Max Reward: <span style=\"color: #008080; text-decoration-color: #008080; font-weight: bold\">0</span>\n",
              "</pre>\n"
            ],
            "text/plain": [
              "Iterations: \u001b[1;36m147\u001b[0m, Cells: \u001b[1;36m210\u001b[0m, Frames: \u001b[1;36m4231\u001b[0m, Max Reward: \u001b[1;36m0\u001b[0m\n"
            ]
          },
          "metadata": {
            "tags": []
          }
        },
        {
          "output_type": "display_data",
          "data": {
            "text/html": [
              "<pre style=\"white-space:pre;overflow-x:auto;line-height:normal;font-family:Menlo,'DejaVu Sans Mono',consolas,'Courier New',monospace\">Iterations: <span style=\"color: #008080; text-decoration-color: #008080; font-weight: bold\">148</span>, Cells: <span style=\"color: #008080; text-decoration-color: #008080; font-weight: bold\">210</span>, Frames: <span style=\"color: #008080; text-decoration-color: #008080; font-weight: bold\">4236</span>, Max Reward: <span style=\"color: #008080; text-decoration-color: #008080; font-weight: bold\">0</span>\n",
              "</pre>\n"
            ],
            "text/plain": [
              "Iterations: \u001b[1;36m148\u001b[0m, Cells: \u001b[1;36m210\u001b[0m, Frames: \u001b[1;36m4236\u001b[0m, Max Reward: \u001b[1;36m0\u001b[0m\n"
            ]
          },
          "metadata": {
            "tags": []
          }
        },
        {
          "output_type": "display_data",
          "data": {
            "text/html": [
              "<pre style=\"white-space:pre;overflow-x:auto;line-height:normal;font-family:Menlo,'DejaVu Sans Mono',consolas,'Courier New',monospace\">Iterations: <span style=\"color: #008080; text-decoration-color: #008080; font-weight: bold\">149</span>, Cells: <span style=\"color: #008080; text-decoration-color: #008080; font-weight: bold\">210</span>, Frames: <span style=\"color: #008080; text-decoration-color: #008080; font-weight: bold\">4240</span>, Max Reward: <span style=\"color: #008080; text-decoration-color: #008080; font-weight: bold\">0</span>\n",
              "</pre>\n"
            ],
            "text/plain": [
              "Iterations: \u001b[1;36m149\u001b[0m, Cells: \u001b[1;36m210\u001b[0m, Frames: \u001b[1;36m4240\u001b[0m, Max Reward: \u001b[1;36m0\u001b[0m\n"
            ]
          },
          "metadata": {
            "tags": []
          }
        },
        {
          "output_type": "display_data",
          "data": {
            "text/html": [
              "<pre style=\"white-space:pre;overflow-x:auto;line-height:normal;font-family:Menlo,'DejaVu Sans Mono',consolas,'Courier New',monospace\">Iterations: <span style=\"color: #008080; text-decoration-color: #008080; font-weight: bold\">150</span>, Cells: <span style=\"color: #008080; text-decoration-color: #008080; font-weight: bold\">214</span>, Frames: <span style=\"color: #008080; text-decoration-color: #008080; font-weight: bold\">4267</span>, Max Reward: <span style=\"color: #008080; text-decoration-color: #008080; font-weight: bold\">0</span>\n",
              "</pre>\n"
            ],
            "text/plain": [
              "Iterations: \u001b[1;36m150\u001b[0m, Cells: \u001b[1;36m214\u001b[0m, Frames: \u001b[1;36m4267\u001b[0m, Max Reward: \u001b[1;36m0\u001b[0m\n"
            ]
          },
          "metadata": {
            "tags": []
          }
        },
        {
          "output_type": "display_data",
          "data": {
            "text/html": [
              "<pre style=\"white-space:pre;overflow-x:auto;line-height:normal;font-family:Menlo,'DejaVu Sans Mono',consolas,'Courier New',monospace\">Iterations: <span style=\"color: #008080; text-decoration-color: #008080; font-weight: bold\">151</span>, Cells: <span style=\"color: #008080; text-decoration-color: #008080; font-weight: bold\">214</span>, Frames: <span style=\"color: #008080; text-decoration-color: #008080; font-weight: bold\">4367</span>, Max Reward: <span style=\"color: #008080; text-decoration-color: #008080; font-weight: bold\">0</span>\n",
              "</pre>\n"
            ],
            "text/plain": [
              "Iterations: \u001b[1;36m151\u001b[0m, Cells: \u001b[1;36m214\u001b[0m, Frames: \u001b[1;36m4367\u001b[0m, Max Reward: \u001b[1;36m0\u001b[0m\n"
            ]
          },
          "metadata": {
            "tags": []
          }
        },
        {
          "output_type": "display_data",
          "data": {
            "text/html": [
              "<pre style=\"white-space:pre;overflow-x:auto;line-height:normal;font-family:Menlo,'DejaVu Sans Mono',consolas,'Courier New',monospace\">Iterations: <span style=\"color: #008080; text-decoration-color: #008080; font-weight: bold\">152</span>, Cells: <span style=\"color: #008080; text-decoration-color: #008080; font-weight: bold\">214</span>, Frames: <span style=\"color: #008080; text-decoration-color: #008080; font-weight: bold\">4377</span>, Max Reward: <span style=\"color: #008080; text-decoration-color: #008080; font-weight: bold\">0</span>\n",
              "</pre>\n"
            ],
            "text/plain": [
              "Iterations: \u001b[1;36m152\u001b[0m, Cells: \u001b[1;36m214\u001b[0m, Frames: \u001b[1;36m4377\u001b[0m, Max Reward: \u001b[1;36m0\u001b[0m\n"
            ]
          },
          "metadata": {
            "tags": []
          }
        },
        {
          "output_type": "display_data",
          "data": {
            "text/html": [
              "<pre style=\"white-space:pre;overflow-x:auto;line-height:normal;font-family:Menlo,'DejaVu Sans Mono',consolas,'Courier New',monospace\">Iterations: <span style=\"color: #008080; text-decoration-color: #008080; font-weight: bold\">153</span>, Cells: <span style=\"color: #008080; text-decoration-color: #008080; font-weight: bold\">214</span>, Frames: <span style=\"color: #008080; text-decoration-color: #008080; font-weight: bold\">4387</span>, Max Reward: <span style=\"color: #008080; text-decoration-color: #008080; font-weight: bold\">0</span>\n",
              "</pre>\n"
            ],
            "text/plain": [
              "Iterations: \u001b[1;36m153\u001b[0m, Cells: \u001b[1;36m214\u001b[0m, Frames: \u001b[1;36m4387\u001b[0m, Max Reward: \u001b[1;36m0\u001b[0m\n"
            ]
          },
          "metadata": {
            "tags": []
          }
        },
        {
          "output_type": "display_data",
          "data": {
            "text/html": [
              "<pre style=\"white-space:pre;overflow-x:auto;line-height:normal;font-family:Menlo,'DejaVu Sans Mono',consolas,'Courier New',monospace\">Iterations: <span style=\"color: #008080; text-decoration-color: #008080; font-weight: bold\">154</span>, Cells: <span style=\"color: #008080; text-decoration-color: #008080; font-weight: bold\">215</span>, Frames: <span style=\"color: #008080; text-decoration-color: #008080; font-weight: bold\">4458</span>, Max Reward: <span style=\"color: #008080; text-decoration-color: #008080; font-weight: bold\">0</span>\n",
              "</pre>\n"
            ],
            "text/plain": [
              "Iterations: \u001b[1;36m154\u001b[0m, Cells: \u001b[1;36m215\u001b[0m, Frames: \u001b[1;36m4458\u001b[0m, Max Reward: \u001b[1;36m0\u001b[0m\n"
            ]
          },
          "metadata": {
            "tags": []
          }
        },
        {
          "output_type": "display_data",
          "data": {
            "text/html": [
              "<pre style=\"white-space:pre;overflow-x:auto;line-height:normal;font-family:Menlo,'DejaVu Sans Mono',consolas,'Courier New',monospace\">Iterations: <span style=\"color: #008080; text-decoration-color: #008080; font-weight: bold\">155</span>, Cells: <span style=\"color: #008080; text-decoration-color: #008080; font-weight: bold\">218</span>, Frames: <span style=\"color: #008080; text-decoration-color: #008080; font-weight: bold\">4478</span>, Max Reward: <span style=\"color: #008080; text-decoration-color: #008080; font-weight: bold\">0</span>\n",
              "</pre>\n"
            ],
            "text/plain": [
              "Iterations: \u001b[1;36m155\u001b[0m, Cells: \u001b[1;36m218\u001b[0m, Frames: \u001b[1;36m4478\u001b[0m, Max Reward: \u001b[1;36m0\u001b[0m\n"
            ]
          },
          "metadata": {
            "tags": []
          }
        },
        {
          "output_type": "display_data",
          "data": {
            "text/html": [
              "<pre style=\"white-space:pre;overflow-x:auto;line-height:normal;font-family:Menlo,'DejaVu Sans Mono',consolas,'Courier New',monospace\">Iterations: <span style=\"color: #008080; text-decoration-color: #008080; font-weight: bold\">156</span>, Cells: <span style=\"color: #008080; text-decoration-color: #008080; font-weight: bold\">218</span>, Frames: <span style=\"color: #008080; text-decoration-color: #008080; font-weight: bold\">4481</span>, Max Reward: <span style=\"color: #008080; text-decoration-color: #008080; font-weight: bold\">0</span>\n",
              "</pre>\n"
            ],
            "text/plain": [
              "Iterations: \u001b[1;36m156\u001b[0m, Cells: \u001b[1;36m218\u001b[0m, Frames: \u001b[1;36m4481\u001b[0m, Max Reward: \u001b[1;36m0\u001b[0m\n"
            ]
          },
          "metadata": {
            "tags": []
          }
        },
        {
          "output_type": "display_data",
          "data": {
            "text/html": [
              "<pre style=\"white-space:pre;overflow-x:auto;line-height:normal;font-family:Menlo,'DejaVu Sans Mono',consolas,'Courier New',monospace\">Iterations: <span style=\"color: #008080; text-decoration-color: #008080; font-weight: bold\">157</span>, Cells: <span style=\"color: #008080; text-decoration-color: #008080; font-weight: bold\">218</span>, Frames: <span style=\"color: #008080; text-decoration-color: #008080; font-weight: bold\">4484</span>, Max Reward: <span style=\"color: #008080; text-decoration-color: #008080; font-weight: bold\">0</span>\n",
              "</pre>\n"
            ],
            "text/plain": [
              "Iterations: \u001b[1;36m157\u001b[0m, Cells: \u001b[1;36m218\u001b[0m, Frames: \u001b[1;36m4484\u001b[0m, Max Reward: \u001b[1;36m0\u001b[0m\n"
            ]
          },
          "metadata": {
            "tags": []
          }
        },
        {
          "output_type": "display_data",
          "data": {
            "text/html": [
              "<pre style=\"white-space:pre;overflow-x:auto;line-height:normal;font-family:Menlo,'DejaVu Sans Mono',consolas,'Courier New',monospace\">Iterations: <span style=\"color: #008080; text-decoration-color: #008080; font-weight: bold\">158</span>, Cells: <span style=\"color: #008080; text-decoration-color: #008080; font-weight: bold\">220</span>, Frames: <span style=\"color: #008080; text-decoration-color: #008080; font-weight: bold\">4584</span>, Max Reward: <span style=\"color: #008080; text-decoration-color: #008080; font-weight: bold\">0</span>\n",
              "</pre>\n"
            ],
            "text/plain": [
              "Iterations: \u001b[1;36m158\u001b[0m, Cells: \u001b[1;36m220\u001b[0m, Frames: \u001b[1;36m4584\u001b[0m, Max Reward: \u001b[1;36m0\u001b[0m\n"
            ]
          },
          "metadata": {
            "tags": []
          }
        },
        {
          "output_type": "display_data",
          "data": {
            "text/html": [
              "<pre style=\"white-space:pre;overflow-x:auto;line-height:normal;font-family:Menlo,'DejaVu Sans Mono',consolas,'Courier New',monospace\">Iterations: <span style=\"color: #008080; text-decoration-color: #008080; font-weight: bold\">159</span>, Cells: <span style=\"color: #008080; text-decoration-color: #008080; font-weight: bold\">221</span>, Frames: <span style=\"color: #008080; text-decoration-color: #008080; font-weight: bold\">4590</span>, Max Reward: <span style=\"color: #008080; text-decoration-color: #008080; font-weight: bold\">0</span>\n",
              "</pre>\n"
            ],
            "text/plain": [
              "Iterations: \u001b[1;36m159\u001b[0m, Cells: \u001b[1;36m221\u001b[0m, Frames: \u001b[1;36m4590\u001b[0m, Max Reward: \u001b[1;36m0\u001b[0m\n"
            ]
          },
          "metadata": {
            "tags": []
          }
        },
        {
          "output_type": "display_data",
          "data": {
            "text/html": [
              "<pre style=\"white-space:pre;overflow-x:auto;line-height:normal;font-family:Menlo,'DejaVu Sans Mono',consolas,'Courier New',monospace\">Iterations: <span style=\"color: #008080; text-decoration-color: #008080; font-weight: bold\">160</span>, Cells: <span style=\"color: #008080; text-decoration-color: #008080; font-weight: bold\">221</span>, Frames: <span style=\"color: #008080; text-decoration-color: #008080; font-weight: bold\">4592</span>, Max Reward: <span style=\"color: #008080; text-decoration-color: #008080; font-weight: bold\">0</span>\n",
              "</pre>\n"
            ],
            "text/plain": [
              "Iterations: \u001b[1;36m160\u001b[0m, Cells: \u001b[1;36m221\u001b[0m, Frames: \u001b[1;36m4592\u001b[0m, Max Reward: \u001b[1;36m0\u001b[0m\n"
            ]
          },
          "metadata": {
            "tags": []
          }
        },
        {
          "output_type": "display_data",
          "data": {
            "text/html": [
              "<pre style=\"white-space:pre;overflow-x:auto;line-height:normal;font-family:Menlo,'DejaVu Sans Mono',consolas,'Courier New',monospace\">Iterations: <span style=\"color: #008080; text-decoration-color: #008080; font-weight: bold\">161</span>, Cells: <span style=\"color: #008080; text-decoration-color: #008080; font-weight: bold\">221</span>, Frames: <span style=\"color: #008080; text-decoration-color: #008080; font-weight: bold\">4597</span>, Max Reward: <span style=\"color: #008080; text-decoration-color: #008080; font-weight: bold\">0</span>\n",
              "</pre>\n"
            ],
            "text/plain": [
              "Iterations: \u001b[1;36m161\u001b[0m, Cells: \u001b[1;36m221\u001b[0m, Frames: \u001b[1;36m4597\u001b[0m, Max Reward: \u001b[1;36m0\u001b[0m\n"
            ]
          },
          "metadata": {
            "tags": []
          }
        },
        {
          "output_type": "display_data",
          "data": {
            "text/html": [
              "<pre style=\"white-space:pre;overflow-x:auto;line-height:normal;font-family:Menlo,'DejaVu Sans Mono',consolas,'Courier New',monospace\">Iterations: <span style=\"color: #008080; text-decoration-color: #008080; font-weight: bold\">163</span>, Cells: <span style=\"color: #008080; text-decoration-color: #008080; font-weight: bold\">221</span>, Frames: <span style=\"color: #008080; text-decoration-color: #008080; font-weight: bold\">4609</span>, Max Reward: <span style=\"color: #008080; text-decoration-color: #008080; font-weight: bold\">0</span>\n",
              "</pre>\n"
            ],
            "text/plain": [
              "Iterations: \u001b[1;36m163\u001b[0m, Cells: \u001b[1;36m221\u001b[0m, Frames: \u001b[1;36m4609\u001b[0m, Max Reward: \u001b[1;36m0\u001b[0m\n"
            ]
          },
          "metadata": {
            "tags": []
          }
        },
        {
          "output_type": "display_data",
          "data": {
            "text/html": [
              "<pre style=\"white-space:pre;overflow-x:auto;line-height:normal;font-family:Menlo,'DejaVu Sans Mono',consolas,'Courier New',monospace\">Iterations: <span style=\"color: #008080; text-decoration-color: #008080; font-weight: bold\">164</span>, Cells: <span style=\"color: #008080; text-decoration-color: #008080; font-weight: bold\">226</span>, Frames: <span style=\"color: #008080; text-decoration-color: #008080; font-weight: bold\">4657</span>, Max Reward: <span style=\"color: #008080; text-decoration-color: #008080; font-weight: bold\">0</span>\n",
              "</pre>\n"
            ],
            "text/plain": [
              "Iterations: \u001b[1;36m164\u001b[0m, Cells: \u001b[1;36m226\u001b[0m, Frames: \u001b[1;36m4657\u001b[0m, Max Reward: \u001b[1;36m0\u001b[0m\n"
            ]
          },
          "metadata": {
            "tags": []
          }
        },
        {
          "output_type": "display_data",
          "data": {
            "text/html": [
              "<pre style=\"white-space:pre;overflow-x:auto;line-height:normal;font-family:Menlo,'DejaVu Sans Mono',consolas,'Courier New',monospace\">Iterations: <span style=\"color: #008080; text-decoration-color: #008080; font-weight: bold\">165</span>, Cells: <span style=\"color: #008080; text-decoration-color: #008080; font-weight: bold\">230</span>, Frames: <span style=\"color: #008080; text-decoration-color: #008080; font-weight: bold\">4690</span>, Max Reward: <span style=\"color: #008080; text-decoration-color: #008080; font-weight: bold\">0</span>\n",
              "</pre>\n"
            ],
            "text/plain": [
              "Iterations: \u001b[1;36m165\u001b[0m, Cells: \u001b[1;36m230\u001b[0m, Frames: \u001b[1;36m4690\u001b[0m, Max Reward: \u001b[1;36m0\u001b[0m\n"
            ]
          },
          "metadata": {
            "tags": []
          }
        },
        {
          "output_type": "display_data",
          "data": {
            "text/html": [
              "<pre style=\"white-space:pre;overflow-x:auto;line-height:normal;font-family:Menlo,'DejaVu Sans Mono',consolas,'Courier New',monospace\">Iterations: <span style=\"color: #008080; text-decoration-color: #008080; font-weight: bold\">166</span>, Cells: <span style=\"color: #008080; text-decoration-color: #008080; font-weight: bold\">230</span>, Frames: <span style=\"color: #008080; text-decoration-color: #008080; font-weight: bold\">4697</span>, Max Reward: <span style=\"color: #008080; text-decoration-color: #008080; font-weight: bold\">0</span>\n",
              "</pre>\n"
            ],
            "text/plain": [
              "Iterations: \u001b[1;36m166\u001b[0m, Cells: \u001b[1;36m230\u001b[0m, Frames: \u001b[1;36m4697\u001b[0m, Max Reward: \u001b[1;36m0\u001b[0m\n"
            ]
          },
          "metadata": {
            "tags": []
          }
        },
        {
          "output_type": "display_data",
          "data": {
            "text/html": [
              "<pre style=\"white-space:pre;overflow-x:auto;line-height:normal;font-family:Menlo,'DejaVu Sans Mono',consolas,'Courier New',monospace\">Iterations: <span style=\"color: #008080; text-decoration-color: #008080; font-weight: bold\">167</span>, Cells: <span style=\"color: #008080; text-decoration-color: #008080; font-weight: bold\">231</span>, Frames: <span style=\"color: #008080; text-decoration-color: #008080; font-weight: bold\">4708</span>, Max Reward: <span style=\"color: #008080; text-decoration-color: #008080; font-weight: bold\">0</span>\n",
              "</pre>\n"
            ],
            "text/plain": [
              "Iterations: \u001b[1;36m167\u001b[0m, Cells: \u001b[1;36m231\u001b[0m, Frames: \u001b[1;36m4708\u001b[0m, Max Reward: \u001b[1;36m0\u001b[0m\n"
            ]
          },
          "metadata": {
            "tags": []
          }
        },
        {
          "output_type": "display_data",
          "data": {
            "text/html": [
              "<pre style=\"white-space:pre;overflow-x:auto;line-height:normal;font-family:Menlo,'DejaVu Sans Mono',consolas,'Courier New',monospace\">Iterations: <span style=\"color: #008080; text-decoration-color: #008080; font-weight: bold\">168</span>, Cells: <span style=\"color: #008080; text-decoration-color: #008080; font-weight: bold\">231</span>, Frames: <span style=\"color: #008080; text-decoration-color: #008080; font-weight: bold\">4722</span>, Max Reward: <span style=\"color: #008080; text-decoration-color: #008080; font-weight: bold\">0</span>\n",
              "</pre>\n"
            ],
            "text/plain": [
              "Iterations: \u001b[1;36m168\u001b[0m, Cells: \u001b[1;36m231\u001b[0m, Frames: \u001b[1;36m4722\u001b[0m, Max Reward: \u001b[1;36m0\u001b[0m\n"
            ]
          },
          "metadata": {
            "tags": []
          }
        },
        {
          "output_type": "display_data",
          "data": {
            "text/html": [
              "<pre style=\"white-space:pre;overflow-x:auto;line-height:normal;font-family:Menlo,'DejaVu Sans Mono',consolas,'Courier New',monospace\">Iterations: <span style=\"color: #008080; text-decoration-color: #008080; font-weight: bold\">169</span>, Cells: <span style=\"color: #008080; text-decoration-color: #008080; font-weight: bold\">231</span>, Frames: <span style=\"color: #008080; text-decoration-color: #008080; font-weight: bold\">4734</span>, Max Reward: <span style=\"color: #008080; text-decoration-color: #008080; font-weight: bold\">0</span>\n",
              "</pre>\n"
            ],
            "text/plain": [
              "Iterations: \u001b[1;36m169\u001b[0m, Cells: \u001b[1;36m231\u001b[0m, Frames: \u001b[1;36m4734\u001b[0m, Max Reward: \u001b[1;36m0\u001b[0m\n"
            ]
          },
          "metadata": {
            "tags": []
          }
        },
        {
          "output_type": "display_data",
          "data": {
            "text/html": [
              "<pre style=\"white-space:pre;overflow-x:auto;line-height:normal;font-family:Menlo,'DejaVu Sans Mono',consolas,'Courier New',monospace\">Iterations: <span style=\"color: #008080; text-decoration-color: #008080; font-weight: bold\">170</span>, Cells: <span style=\"color: #008080; text-decoration-color: #008080; font-weight: bold\">231</span>, Frames: <span style=\"color: #008080; text-decoration-color: #008080; font-weight: bold\">4834</span>, Max Reward: <span style=\"color: #008080; text-decoration-color: #008080; font-weight: bold\">0</span>\n",
              "</pre>\n"
            ],
            "text/plain": [
              "Iterations: \u001b[1;36m170\u001b[0m, Cells: \u001b[1;36m231\u001b[0m, Frames: \u001b[1;36m4834\u001b[0m, Max Reward: \u001b[1;36m0\u001b[0m\n"
            ]
          },
          "metadata": {
            "tags": []
          }
        },
        {
          "output_type": "display_data",
          "data": {
            "text/html": [
              "<pre style=\"white-space:pre;overflow-x:auto;line-height:normal;font-family:Menlo,'DejaVu Sans Mono',consolas,'Courier New',monospace\">Iterations: <span style=\"color: #008080; text-decoration-color: #008080; font-weight: bold\">171</span>, Cells: <span style=\"color: #008080; text-decoration-color: #008080; font-weight: bold\">232</span>, Frames: <span style=\"color: #008080; text-decoration-color: #008080; font-weight: bold\">4924</span>, Max Reward: <span style=\"color: #008080; text-decoration-color: #008080; font-weight: bold\">0</span>\n",
              "</pre>\n"
            ],
            "text/plain": [
              "Iterations: \u001b[1;36m171\u001b[0m, Cells: \u001b[1;36m232\u001b[0m, Frames: \u001b[1;36m4924\u001b[0m, Max Reward: \u001b[1;36m0\u001b[0m\n"
            ]
          },
          "metadata": {
            "tags": []
          }
        },
        {
          "output_type": "display_data",
          "data": {
            "text/html": [
              "<pre style=\"white-space:pre;overflow-x:auto;line-height:normal;font-family:Menlo,'DejaVu Sans Mono',consolas,'Courier New',monospace\">Iterations: <span style=\"color: #008080; text-decoration-color: #008080; font-weight: bold\">172</span>, Cells: <span style=\"color: #008080; text-decoration-color: #008080; font-weight: bold\">234</span>, Frames: <span style=\"color: #008080; text-decoration-color: #008080; font-weight: bold\">5023</span>, Max Reward: <span style=\"color: #008080; text-decoration-color: #008080; font-weight: bold\">0</span>\n",
              "</pre>\n"
            ],
            "text/plain": [
              "Iterations: \u001b[1;36m172\u001b[0m, Cells: \u001b[1;36m234\u001b[0m, Frames: \u001b[1;36m5023\u001b[0m, Max Reward: \u001b[1;36m0\u001b[0m\n"
            ]
          },
          "metadata": {
            "tags": []
          }
        },
        {
          "output_type": "display_data",
          "data": {
            "text/html": [
              "<pre style=\"white-space:pre;overflow-x:auto;line-height:normal;font-family:Menlo,'DejaVu Sans Mono',consolas,'Courier New',monospace\">Iterations: <span style=\"color: #008080; text-decoration-color: #008080; font-weight: bold\">173</span>, Cells: <span style=\"color: #008080; text-decoration-color: #008080; font-weight: bold\">235</span>, Frames: <span style=\"color: #008080; text-decoration-color: #008080; font-weight: bold\">5085</span>, Max Reward: <span style=\"color: #008080; text-decoration-color: #008080; font-weight: bold\">0</span>\n",
              "</pre>\n"
            ],
            "text/plain": [
              "Iterations: \u001b[1;36m173\u001b[0m, Cells: \u001b[1;36m235\u001b[0m, Frames: \u001b[1;36m5085\u001b[0m, Max Reward: \u001b[1;36m0\u001b[0m\n"
            ]
          },
          "metadata": {
            "tags": []
          }
        },
        {
          "output_type": "display_data",
          "data": {
            "text/html": [
              "<pre style=\"white-space:pre;overflow-x:auto;line-height:normal;font-family:Menlo,'DejaVu Sans Mono',consolas,'Courier New',monospace\">Iterations: <span style=\"color: #008080; text-decoration-color: #008080; font-weight: bold\">174</span>, Cells: <span style=\"color: #008080; text-decoration-color: #008080; font-weight: bold\">238</span>, Frames: <span style=\"color: #008080; text-decoration-color: #008080; font-weight: bold\">5103</span>, Max Reward: <span style=\"color: #008080; text-decoration-color: #008080; font-weight: bold\">0</span>\n",
              "</pre>\n"
            ],
            "text/plain": [
              "Iterations: \u001b[1;36m174\u001b[0m, Cells: \u001b[1;36m238\u001b[0m, Frames: \u001b[1;36m5103\u001b[0m, Max Reward: \u001b[1;36m0\u001b[0m\n"
            ]
          },
          "metadata": {
            "tags": []
          }
        },
        {
          "output_type": "display_data",
          "data": {
            "text/html": [
              "<pre style=\"white-space:pre;overflow-x:auto;line-height:normal;font-family:Menlo,'DejaVu Sans Mono',consolas,'Courier New',monospace\">Iterations: <span style=\"color: #008080; text-decoration-color: #008080; font-weight: bold\">175</span>, Cells: <span style=\"color: #008080; text-decoration-color: #008080; font-weight: bold\">238</span>, Frames: <span style=\"color: #008080; text-decoration-color: #008080; font-weight: bold\">5107</span>, Max Reward: <span style=\"color: #008080; text-decoration-color: #008080; font-weight: bold\">0</span>\n",
              "</pre>\n"
            ],
            "text/plain": [
              "Iterations: \u001b[1;36m175\u001b[0m, Cells: \u001b[1;36m238\u001b[0m, Frames: \u001b[1;36m5107\u001b[0m, Max Reward: \u001b[1;36m0\u001b[0m\n"
            ]
          },
          "metadata": {
            "tags": []
          }
        },
        {
          "output_type": "display_data",
          "data": {
            "text/html": [
              "<pre style=\"white-space:pre;overflow-x:auto;line-height:normal;font-family:Menlo,'DejaVu Sans Mono',consolas,'Courier New',monospace\">Iterations: <span style=\"color: #008080; text-decoration-color: #008080; font-weight: bold\">176</span>, Cells: <span style=\"color: #008080; text-decoration-color: #008080; font-weight: bold\">239</span>, Frames: <span style=\"color: #008080; text-decoration-color: #008080; font-weight: bold\">5118</span>, Max Reward: <span style=\"color: #008080; text-decoration-color: #008080; font-weight: bold\">0</span>\n",
              "</pre>\n"
            ],
            "text/plain": [
              "Iterations: \u001b[1;36m176\u001b[0m, Cells: \u001b[1;36m239\u001b[0m, Frames: \u001b[1;36m5118\u001b[0m, Max Reward: \u001b[1;36m0\u001b[0m\n"
            ]
          },
          "metadata": {
            "tags": []
          }
        },
        {
          "output_type": "display_data",
          "data": {
            "text/html": [
              "<pre style=\"white-space:pre;overflow-x:auto;line-height:normal;font-family:Menlo,'DejaVu Sans Mono',consolas,'Courier New',monospace\">Iterations: <span style=\"color: #008080; text-decoration-color: #008080; font-weight: bold\">178</span>, Cells: <span style=\"color: #008080; text-decoration-color: #008080; font-weight: bold\">239</span>, Frames: <span style=\"color: #008080; text-decoration-color: #008080; font-weight: bold\">5150</span>, Max Reward: <span style=\"color: #008080; text-decoration-color: #008080; font-weight: bold\">0</span>\n",
              "</pre>\n"
            ],
            "text/plain": [
              "Iterations: \u001b[1;36m178\u001b[0m, Cells: \u001b[1;36m239\u001b[0m, Frames: \u001b[1;36m5150\u001b[0m, Max Reward: \u001b[1;36m0\u001b[0m\n"
            ]
          },
          "metadata": {
            "tags": []
          }
        },
        {
          "output_type": "display_data",
          "data": {
            "text/html": [
              "<pre style=\"white-space:pre;overflow-x:auto;line-height:normal;font-family:Menlo,'DejaVu Sans Mono',consolas,'Courier New',monospace\">Iterations: <span style=\"color: #008080; text-decoration-color: #008080; font-weight: bold\">179</span>, Cells: <span style=\"color: #008080; text-decoration-color: #008080; font-weight: bold\">239</span>, Frames: <span style=\"color: #008080; text-decoration-color: #008080; font-weight: bold\">5151</span>, Max Reward: <span style=\"color: #008080; text-decoration-color: #008080; font-weight: bold\">0</span>\n",
              "</pre>\n"
            ],
            "text/plain": [
              "Iterations: \u001b[1;36m179\u001b[0m, Cells: \u001b[1;36m239\u001b[0m, Frames: \u001b[1;36m5151\u001b[0m, Max Reward: \u001b[1;36m0\u001b[0m\n"
            ]
          },
          "metadata": {
            "tags": []
          }
        },
        {
          "output_type": "display_data",
          "data": {
            "text/html": [
              "<pre style=\"white-space:pre;overflow-x:auto;line-height:normal;font-family:Menlo,'DejaVu Sans Mono',consolas,'Courier New',monospace\">Iterations: <span style=\"color: #008080; text-decoration-color: #008080; font-weight: bold\">180</span>, Cells: <span style=\"color: #008080; text-decoration-color: #008080; font-weight: bold\">239</span>, Frames: <span style=\"color: #008080; text-decoration-color: #008080; font-weight: bold\">5156</span>, Max Reward: <span style=\"color: #008080; text-decoration-color: #008080; font-weight: bold\">0</span>\n",
              "</pre>\n"
            ],
            "text/plain": [
              "Iterations: \u001b[1;36m180\u001b[0m, Cells: \u001b[1;36m239\u001b[0m, Frames: \u001b[1;36m5156\u001b[0m, Max Reward: \u001b[1;36m0\u001b[0m\n"
            ]
          },
          "metadata": {
            "tags": []
          }
        },
        {
          "output_type": "display_data",
          "data": {
            "text/html": [
              "<pre style=\"white-space:pre;overflow-x:auto;line-height:normal;font-family:Menlo,'DejaVu Sans Mono',consolas,'Courier New',monospace\">Iterations: <span style=\"color: #008080; text-decoration-color: #008080; font-weight: bold\">181</span>, Cells: <span style=\"color: #008080; text-decoration-color: #008080; font-weight: bold\">239</span>, Frames: <span style=\"color: #008080; text-decoration-color: #008080; font-weight: bold\">5256</span>, Max Reward: <span style=\"color: #008080; text-decoration-color: #008080; font-weight: bold\">0</span>\n",
              "</pre>\n"
            ],
            "text/plain": [
              "Iterations: \u001b[1;36m181\u001b[0m, Cells: \u001b[1;36m239\u001b[0m, Frames: \u001b[1;36m5256\u001b[0m, Max Reward: \u001b[1;36m0\u001b[0m\n"
            ]
          },
          "metadata": {
            "tags": []
          }
        },
        {
          "output_type": "display_data",
          "data": {
            "text/html": [
              "<pre style=\"white-space:pre;overflow-x:auto;line-height:normal;font-family:Menlo,'DejaVu Sans Mono',consolas,'Courier New',monospace\">Iterations: <span style=\"color: #008080; text-decoration-color: #008080; font-weight: bold\">182</span>, Cells: <span style=\"color: #008080; text-decoration-color: #008080; font-weight: bold\">239</span>, Frames: <span style=\"color: #008080; text-decoration-color: #008080; font-weight: bold\">5271</span>, Max Reward: <span style=\"color: #008080; text-decoration-color: #008080; font-weight: bold\">0</span>\n",
              "</pre>\n"
            ],
            "text/plain": [
              "Iterations: \u001b[1;36m182\u001b[0m, Cells: \u001b[1;36m239\u001b[0m, Frames: \u001b[1;36m5271\u001b[0m, Max Reward: \u001b[1;36m0\u001b[0m\n"
            ]
          },
          "metadata": {
            "tags": []
          }
        },
        {
          "output_type": "display_data",
          "data": {
            "text/html": [
              "<pre style=\"white-space:pre;overflow-x:auto;line-height:normal;font-family:Menlo,'DejaVu Sans Mono',consolas,'Courier New',monospace\">Iterations: <span style=\"color: #008080; text-decoration-color: #008080; font-weight: bold\">184</span>, Cells: <span style=\"color: #008080; text-decoration-color: #008080; font-weight: bold\">239</span>, Frames: <span style=\"color: #008080; text-decoration-color: #008080; font-weight: bold\">5290</span>, Max Reward: <span style=\"color: #008080; text-decoration-color: #008080; font-weight: bold\">0</span>\n",
              "</pre>\n"
            ],
            "text/plain": [
              "Iterations: \u001b[1;36m184\u001b[0m, Cells: \u001b[1;36m239\u001b[0m, Frames: \u001b[1;36m5290\u001b[0m, Max Reward: \u001b[1;36m0\u001b[0m\n"
            ]
          },
          "metadata": {
            "tags": []
          }
        },
        {
          "output_type": "display_data",
          "data": {
            "text/html": [
              "<pre style=\"white-space:pre;overflow-x:auto;line-height:normal;font-family:Menlo,'DejaVu Sans Mono',consolas,'Courier New',monospace\">Iterations: <span style=\"color: #008080; text-decoration-color: #008080; font-weight: bold\">185</span>, Cells: <span style=\"color: #008080; text-decoration-color: #008080; font-weight: bold\">239</span>, Frames: <span style=\"color: #008080; text-decoration-color: #008080; font-weight: bold\">5294</span>, Max Reward: <span style=\"color: #008080; text-decoration-color: #008080; font-weight: bold\">0</span>\n",
              "</pre>\n"
            ],
            "text/plain": [
              "Iterations: \u001b[1;36m185\u001b[0m, Cells: \u001b[1;36m239\u001b[0m, Frames: \u001b[1;36m5294\u001b[0m, Max Reward: \u001b[1;36m0\u001b[0m\n"
            ]
          },
          "metadata": {
            "tags": []
          }
        },
        {
          "output_type": "display_data",
          "data": {
            "text/html": [
              "<pre style=\"white-space:pre;overflow-x:auto;line-height:normal;font-family:Menlo,'DejaVu Sans Mono',consolas,'Courier New',monospace\">Iterations: <span style=\"color: #008080; text-decoration-color: #008080; font-weight: bold\">186</span>, Cells: <span style=\"color: #008080; text-decoration-color: #008080; font-weight: bold\">241</span>, Frames: <span style=\"color: #008080; text-decoration-color: #008080; font-weight: bold\">5394</span>, Max Reward: <span style=\"color: #008080; text-decoration-color: #008080; font-weight: bold\">0</span>\n",
              "</pre>\n"
            ],
            "text/plain": [
              "Iterations: \u001b[1;36m186\u001b[0m, Cells: \u001b[1;36m241\u001b[0m, Frames: \u001b[1;36m5394\u001b[0m, Max Reward: \u001b[1;36m0\u001b[0m\n"
            ]
          },
          "metadata": {
            "tags": []
          }
        },
        {
          "output_type": "display_data",
          "data": {
            "text/html": [
              "<pre style=\"white-space:pre;overflow-x:auto;line-height:normal;font-family:Menlo,'DejaVu Sans Mono',consolas,'Courier New',monospace\">Iterations: <span style=\"color: #008080; text-decoration-color: #008080; font-weight: bold\">188</span>, Cells: <span style=\"color: #008080; text-decoration-color: #008080; font-weight: bold\">241</span>, Frames: <span style=\"color: #008080; text-decoration-color: #008080; font-weight: bold\">5504</span>, Max Reward: <span style=\"color: #008080; text-decoration-color: #008080; font-weight: bold\">0</span>\n",
              "</pre>\n"
            ],
            "text/plain": [
              "Iterations: \u001b[1;36m188\u001b[0m, Cells: \u001b[1;36m241\u001b[0m, Frames: \u001b[1;36m5504\u001b[0m, Max Reward: \u001b[1;36m0\u001b[0m\n"
            ]
          },
          "metadata": {
            "tags": []
          }
        },
        {
          "output_type": "display_data",
          "data": {
            "text/html": [
              "<pre style=\"white-space:pre;overflow-x:auto;line-height:normal;font-family:Menlo,'DejaVu Sans Mono',consolas,'Courier New',monospace\">Iterations: <span style=\"color: #008080; text-decoration-color: #008080; font-weight: bold\">189</span>, Cells: <span style=\"color: #008080; text-decoration-color: #008080; font-weight: bold\">242</span>, Frames: <span style=\"color: #008080; text-decoration-color: #008080; font-weight: bold\">5582</span>, Max Reward: <span style=\"color: #008080; text-decoration-color: #008080; font-weight: bold\">0</span>\n",
              "</pre>\n"
            ],
            "text/plain": [
              "Iterations: \u001b[1;36m189\u001b[0m, Cells: \u001b[1;36m242\u001b[0m, Frames: \u001b[1;36m5582\u001b[0m, Max Reward: \u001b[1;36m0\u001b[0m\n"
            ]
          },
          "metadata": {
            "tags": []
          }
        },
        {
          "output_type": "display_data",
          "data": {
            "text/html": [
              "<pre style=\"white-space:pre;overflow-x:auto;line-height:normal;font-family:Menlo,'DejaVu Sans Mono',consolas,'Courier New',monospace\">Iterations: <span style=\"color: #008080; text-decoration-color: #008080; font-weight: bold\">190</span>, Cells: <span style=\"color: #008080; text-decoration-color: #008080; font-weight: bold\">243</span>, Frames: <span style=\"color: #008080; text-decoration-color: #008080; font-weight: bold\">5598</span>, Max Reward: <span style=\"color: #008080; text-decoration-color: #008080; font-weight: bold\">0</span>\n",
              "</pre>\n"
            ],
            "text/plain": [
              "Iterations: \u001b[1;36m190\u001b[0m, Cells: \u001b[1;36m243\u001b[0m, Frames: \u001b[1;36m5598\u001b[0m, Max Reward: \u001b[1;36m0\u001b[0m\n"
            ]
          },
          "metadata": {
            "tags": []
          }
        },
        {
          "output_type": "display_data",
          "data": {
            "text/html": [
              "<pre style=\"white-space:pre;overflow-x:auto;line-height:normal;font-family:Menlo,'DejaVu Sans Mono',consolas,'Courier New',monospace\">Iterations: <span style=\"color: #008080; text-decoration-color: #008080; font-weight: bold\">191</span>, Cells: <span style=\"color: #008080; text-decoration-color: #008080; font-weight: bold\">244</span>, Frames: <span style=\"color: #008080; text-decoration-color: #008080; font-weight: bold\">5606</span>, Max Reward: <span style=\"color: #008080; text-decoration-color: #008080; font-weight: bold\">0</span>\n",
              "</pre>\n"
            ],
            "text/plain": [
              "Iterations: \u001b[1;36m191\u001b[0m, Cells: \u001b[1;36m244\u001b[0m, Frames: \u001b[1;36m5606\u001b[0m, Max Reward: \u001b[1;36m0\u001b[0m\n"
            ]
          },
          "metadata": {
            "tags": []
          }
        },
        {
          "output_type": "display_data",
          "data": {
            "text/html": [
              "<pre style=\"white-space:pre;overflow-x:auto;line-height:normal;font-family:Menlo,'DejaVu Sans Mono',consolas,'Courier New',monospace\">Iterations: <span style=\"color: #008080; text-decoration-color: #008080; font-weight: bold\">192</span>, Cells: <span style=\"color: #008080; text-decoration-color: #008080; font-weight: bold\">244</span>, Frames: <span style=\"color: #008080; text-decoration-color: #008080; font-weight: bold\">5706</span>, Max Reward: <span style=\"color: #008080; text-decoration-color: #008080; font-weight: bold\">0</span>\n",
              "</pre>\n"
            ],
            "text/plain": [
              "Iterations: \u001b[1;36m192\u001b[0m, Cells: \u001b[1;36m244\u001b[0m, Frames: \u001b[1;36m5706\u001b[0m, Max Reward: \u001b[1;36m0\u001b[0m\n"
            ]
          },
          "metadata": {
            "tags": []
          }
        },
        {
          "output_type": "display_data",
          "data": {
            "text/html": [
              "<pre style=\"white-space:pre;overflow-x:auto;line-height:normal;font-family:Menlo,'DejaVu Sans Mono',consolas,'Courier New',monospace\">Iterations: <span style=\"color: #008080; text-decoration-color: #008080; font-weight: bold\">193</span>, Cells: <span style=\"color: #008080; text-decoration-color: #008080; font-weight: bold\">244</span>, Frames: <span style=\"color: #008080; text-decoration-color: #008080; font-weight: bold\">5720</span>, Max Reward: <span style=\"color: #008080; text-decoration-color: #008080; font-weight: bold\">0</span>\n",
              "</pre>\n"
            ],
            "text/plain": [
              "Iterations: \u001b[1;36m193\u001b[0m, Cells: \u001b[1;36m244\u001b[0m, Frames: \u001b[1;36m5720\u001b[0m, Max Reward: \u001b[1;36m0\u001b[0m\n"
            ]
          },
          "metadata": {
            "tags": []
          }
        },
        {
          "output_type": "display_data",
          "data": {
            "text/html": [
              "<pre style=\"white-space:pre;overflow-x:auto;line-height:normal;font-family:Menlo,'DejaVu Sans Mono',consolas,'Courier New',monospace\">Iterations: <span style=\"color: #008080; text-decoration-color: #008080; font-weight: bold\">194</span>, Cells: <span style=\"color: #008080; text-decoration-color: #008080; font-weight: bold\">249</span>, Frames: <span style=\"color: #008080; text-decoration-color: #008080; font-weight: bold\">5760</span>, Max Reward: <span style=\"color: #008080; text-decoration-color: #008080; font-weight: bold\">0</span>\n",
              "</pre>\n"
            ],
            "text/plain": [
              "Iterations: \u001b[1;36m194\u001b[0m, Cells: \u001b[1;36m249\u001b[0m, Frames: \u001b[1;36m5760\u001b[0m, Max Reward: \u001b[1;36m0\u001b[0m\n"
            ]
          },
          "metadata": {
            "tags": []
          }
        },
        {
          "output_type": "display_data",
          "data": {
            "text/html": [
              "<pre style=\"white-space:pre;overflow-x:auto;line-height:normal;font-family:Menlo,'DejaVu Sans Mono',consolas,'Courier New',monospace\">Iterations: <span style=\"color: #008080; text-decoration-color: #008080; font-weight: bold\">195</span>, Cells: <span style=\"color: #008080; text-decoration-color: #008080; font-weight: bold\">249</span>, Frames: <span style=\"color: #008080; text-decoration-color: #008080; font-weight: bold\">5860</span>, Max Reward: <span style=\"color: #008080; text-decoration-color: #008080; font-weight: bold\">0</span>\n",
              "</pre>\n"
            ],
            "text/plain": [
              "Iterations: \u001b[1;36m195\u001b[0m, Cells: \u001b[1;36m249\u001b[0m, Frames: \u001b[1;36m5860\u001b[0m, Max Reward: \u001b[1;36m0\u001b[0m\n"
            ]
          },
          "metadata": {
            "tags": []
          }
        },
        {
          "output_type": "display_data",
          "data": {
            "text/html": [
              "<pre style=\"white-space:pre;overflow-x:auto;line-height:normal;font-family:Menlo,'DejaVu Sans Mono',consolas,'Courier New',monospace\">Iterations: <span style=\"color: #008080; text-decoration-color: #008080; font-weight: bold\">196</span>, Cells: <span style=\"color: #008080; text-decoration-color: #008080; font-weight: bold\">250</span>, Frames: <span style=\"color: #008080; text-decoration-color: #008080; font-weight: bold\">5921</span>, Max Reward: <span style=\"color: #008080; text-decoration-color: #008080; font-weight: bold\">0</span>\n",
              "</pre>\n"
            ],
            "text/plain": [
              "Iterations: \u001b[1;36m196\u001b[0m, Cells: \u001b[1;36m250\u001b[0m, Frames: \u001b[1;36m5921\u001b[0m, Max Reward: \u001b[1;36m0\u001b[0m\n"
            ]
          },
          "metadata": {
            "tags": []
          }
        },
        {
          "output_type": "display_data",
          "data": {
            "text/html": [
              "<pre style=\"white-space:pre;overflow-x:auto;line-height:normal;font-family:Menlo,'DejaVu Sans Mono',consolas,'Courier New',monospace\">Iterations: <span style=\"color: #008080; text-decoration-color: #008080; font-weight: bold\">197</span>, Cells: <span style=\"color: #008080; text-decoration-color: #008080; font-weight: bold\">251</span>, Frames: <span style=\"color: #008080; text-decoration-color: #008080; font-weight: bold\">5929</span>, Max Reward: <span style=\"color: #008080; text-decoration-color: #008080; font-weight: bold\">0</span>\n",
              "</pre>\n"
            ],
            "text/plain": [
              "Iterations: \u001b[1;36m197\u001b[0m, Cells: \u001b[1;36m251\u001b[0m, Frames: \u001b[1;36m5929\u001b[0m, Max Reward: \u001b[1;36m0\u001b[0m\n"
            ]
          },
          "metadata": {
            "tags": []
          }
        },
        {
          "output_type": "display_data",
          "data": {
            "text/html": [
              "<pre style=\"white-space:pre;overflow-x:auto;line-height:normal;font-family:Menlo,'DejaVu Sans Mono',consolas,'Courier New',monospace\">Iterations: <span style=\"color: #008080; text-decoration-color: #008080; font-weight: bold\">198</span>, Cells: <span style=\"color: #008080; text-decoration-color: #008080; font-weight: bold\">251</span>, Frames: <span style=\"color: #008080; text-decoration-color: #008080; font-weight: bold\">5991</span>, Max Reward: <span style=\"color: #008080; text-decoration-color: #008080; font-weight: bold\">0</span>\n",
              "</pre>\n"
            ],
            "text/plain": [
              "Iterations: \u001b[1;36m198\u001b[0m, Cells: \u001b[1;36m251\u001b[0m, Frames: \u001b[1;36m5991\u001b[0m, Max Reward: \u001b[1;36m0\u001b[0m\n"
            ]
          },
          "metadata": {
            "tags": []
          }
        },
        {
          "output_type": "display_data",
          "data": {
            "text/html": [
              "<pre style=\"white-space:pre;overflow-x:auto;line-height:normal;font-family:Menlo,'DejaVu Sans Mono',consolas,'Courier New',monospace\">Iterations: <span style=\"color: #008080; text-decoration-color: #008080; font-weight: bold\">199</span>, Cells: <span style=\"color: #008080; text-decoration-color: #008080; font-weight: bold\">251</span>, Frames: <span style=\"color: #008080; text-decoration-color: #008080; font-weight: bold\">6000</span>, Max Reward: <span style=\"color: #008080; text-decoration-color: #008080; font-weight: bold\">0</span>\n",
              "</pre>\n"
            ],
            "text/plain": [
              "Iterations: \u001b[1;36m199\u001b[0m, Cells: \u001b[1;36m251\u001b[0m, Frames: \u001b[1;36m6000\u001b[0m, Max Reward: \u001b[1;36m0\u001b[0m\n"
            ]
          },
          "metadata": {
            "tags": []
          }
        },
        {
          "output_type": "display_data",
          "data": {
            "text/html": [
              "<pre style=\"white-space:pre;overflow-x:auto;line-height:normal;font-family:Menlo,'DejaVu Sans Mono',consolas,'Courier New',monospace\">Iterations: <span style=\"color: #008080; text-decoration-color: #008080; font-weight: bold\">200</span>, Cells: <span style=\"color: #008080; text-decoration-color: #008080; font-weight: bold\">251</span>, Frames: <span style=\"color: #008080; text-decoration-color: #008080; font-weight: bold\">6013</span>, Max Reward: <span style=\"color: #008080; text-decoration-color: #008080; font-weight: bold\">0</span>\n",
              "</pre>\n"
            ],
            "text/plain": [
              "Iterations: \u001b[1;36m200\u001b[0m, Cells: \u001b[1;36m251\u001b[0m, Frames: \u001b[1;36m6013\u001b[0m, Max Reward: \u001b[1;36m0\u001b[0m\n"
            ]
          },
          "metadata": {
            "tags": []
          }
        },
        {
          "output_type": "display_data",
          "data": {
            "text/html": [
              "<pre style=\"white-space:pre;overflow-x:auto;line-height:normal;font-family:Menlo,'DejaVu Sans Mono',consolas,'Courier New',monospace\">Iterations: <span style=\"color: #008080; text-decoration-color: #008080; font-weight: bold\">201</span>, Cells: <span style=\"color: #008080; text-decoration-color: #008080; font-weight: bold\">251</span>, Frames: <span style=\"color: #008080; text-decoration-color: #008080; font-weight: bold\">6028</span>, Max Reward: <span style=\"color: #008080; text-decoration-color: #008080; font-weight: bold\">0</span>\n",
              "</pre>\n"
            ],
            "text/plain": [
              "Iterations: \u001b[1;36m201\u001b[0m, Cells: \u001b[1;36m251\u001b[0m, Frames: \u001b[1;36m6028\u001b[0m, Max Reward: \u001b[1;36m0\u001b[0m\n"
            ]
          },
          "metadata": {
            "tags": []
          }
        },
        {
          "output_type": "display_data",
          "data": {
            "text/html": [
              "<pre style=\"white-space:pre;overflow-x:auto;line-height:normal;font-family:Menlo,'DejaVu Sans Mono',consolas,'Courier New',monospace\">Iterations: <span style=\"color: #008080; text-decoration-color: #008080; font-weight: bold\">202</span>, Cells: <span style=\"color: #008080; text-decoration-color: #008080; font-weight: bold\">253</span>, Frames: <span style=\"color: #008080; text-decoration-color: #008080; font-weight: bold\">6046</span>, Max Reward: <span style=\"color: #008080; text-decoration-color: #008080; font-weight: bold\">0</span>\n",
              "</pre>\n"
            ],
            "text/plain": [
              "Iterations: \u001b[1;36m202\u001b[0m, Cells: \u001b[1;36m253\u001b[0m, Frames: \u001b[1;36m6046\u001b[0m, Max Reward: \u001b[1;36m0\u001b[0m\n"
            ]
          },
          "metadata": {
            "tags": []
          }
        },
        {
          "output_type": "display_data",
          "data": {
            "text/html": [
              "<pre style=\"white-space:pre;overflow-x:auto;line-height:normal;font-family:Menlo,'DejaVu Sans Mono',consolas,'Courier New',monospace\">Iterations: <span style=\"color: #008080; text-decoration-color: #008080; font-weight: bold\">203</span>, Cells: <span style=\"color: #008080; text-decoration-color: #008080; font-weight: bold\">255</span>, Frames: <span style=\"color: #008080; text-decoration-color: #008080; font-weight: bold\">6069</span>, Max Reward: <span style=\"color: #008080; text-decoration-color: #008080; font-weight: bold\">0</span>\n",
              "</pre>\n"
            ],
            "text/plain": [
              "Iterations: \u001b[1;36m203\u001b[0m, Cells: \u001b[1;36m255\u001b[0m, Frames: \u001b[1;36m6069\u001b[0m, Max Reward: \u001b[1;36m0\u001b[0m\n"
            ]
          },
          "metadata": {
            "tags": []
          }
        },
        {
          "output_type": "display_data",
          "data": {
            "text/html": [
              "<pre style=\"white-space:pre;overflow-x:auto;line-height:normal;font-family:Menlo,'DejaVu Sans Mono',consolas,'Courier New',monospace\">Iterations: <span style=\"color: #008080; text-decoration-color: #008080; font-weight: bold\">204</span>, Cells: <span style=\"color: #008080; text-decoration-color: #008080; font-weight: bold\">255</span>, Frames: <span style=\"color: #008080; text-decoration-color: #008080; font-weight: bold\">6096</span>, Max Reward: <span style=\"color: #008080; text-decoration-color: #008080; font-weight: bold\">0</span>\n",
              "</pre>\n"
            ],
            "text/plain": [
              "Iterations: \u001b[1;36m204\u001b[0m, Cells: \u001b[1;36m255\u001b[0m, Frames: \u001b[1;36m6096\u001b[0m, Max Reward: \u001b[1;36m0\u001b[0m\n"
            ]
          },
          "metadata": {
            "tags": []
          }
        },
        {
          "output_type": "display_data",
          "data": {
            "text/html": [
              "<pre style=\"white-space:pre;overflow-x:auto;line-height:normal;font-family:Menlo,'DejaVu Sans Mono',consolas,'Courier New',monospace\">Iterations: <span style=\"color: #008080; text-decoration-color: #008080; font-weight: bold\">205</span>, Cells: <span style=\"color: #008080; text-decoration-color: #008080; font-weight: bold\">255</span>, Frames: <span style=\"color: #008080; text-decoration-color: #008080; font-weight: bold\">6105</span>, Max Reward: <span style=\"color: #008080; text-decoration-color: #008080; font-weight: bold\">0</span>\n",
              "</pre>\n"
            ],
            "text/plain": [
              "Iterations: \u001b[1;36m205\u001b[0m, Cells: \u001b[1;36m255\u001b[0m, Frames: \u001b[1;36m6105\u001b[0m, Max Reward: \u001b[1;36m0\u001b[0m\n"
            ]
          },
          "metadata": {
            "tags": []
          }
        },
        {
          "output_type": "display_data",
          "data": {
            "text/html": [
              "<pre style=\"white-space:pre;overflow-x:auto;line-height:normal;font-family:Menlo,'DejaVu Sans Mono',consolas,'Courier New',monospace\">Iterations: <span style=\"color: #008080; text-decoration-color: #008080; font-weight: bold\">206</span>, Cells: <span style=\"color: #008080; text-decoration-color: #008080; font-weight: bold\">255</span>, Frames: <span style=\"color: #008080; text-decoration-color: #008080; font-weight: bold\">6115</span>, Max Reward: <span style=\"color: #008080; text-decoration-color: #008080; font-weight: bold\">0</span>\n",
              "</pre>\n"
            ],
            "text/plain": [
              "Iterations: \u001b[1;36m206\u001b[0m, Cells: \u001b[1;36m255\u001b[0m, Frames: \u001b[1;36m6115\u001b[0m, Max Reward: \u001b[1;36m0\u001b[0m\n"
            ]
          },
          "metadata": {
            "tags": []
          }
        },
        {
          "output_type": "display_data",
          "data": {
            "text/html": [
              "<pre style=\"white-space:pre;overflow-x:auto;line-height:normal;font-family:Menlo,'DejaVu Sans Mono',consolas,'Courier New',monospace\">Iterations: <span style=\"color: #008080; text-decoration-color: #008080; font-weight: bold\">207</span>, Cells: <span style=\"color: #008080; text-decoration-color: #008080; font-weight: bold\">259</span>, Frames: <span style=\"color: #008080; text-decoration-color: #008080; font-weight: bold\">6131</span>, Max Reward: <span style=\"color: #008080; text-decoration-color: #008080; font-weight: bold\">0</span>\n",
              "</pre>\n"
            ],
            "text/plain": [
              "Iterations: \u001b[1;36m207\u001b[0m, Cells: \u001b[1;36m259\u001b[0m, Frames: \u001b[1;36m6131\u001b[0m, Max Reward: \u001b[1;36m0\u001b[0m\n"
            ]
          },
          "metadata": {
            "tags": []
          }
        },
        {
          "output_type": "display_data",
          "data": {
            "text/html": [
              "<pre style=\"white-space:pre;overflow-x:auto;line-height:normal;font-family:Menlo,'DejaVu Sans Mono',consolas,'Courier New',monospace\">Iterations: <span style=\"color: #008080; text-decoration-color: #008080; font-weight: bold\">208</span>, Cells: <span style=\"color: #008080; text-decoration-color: #008080; font-weight: bold\">259</span>, Frames: <span style=\"color: #008080; text-decoration-color: #008080; font-weight: bold\">6133</span>, Max Reward: <span style=\"color: #008080; text-decoration-color: #008080; font-weight: bold\">0</span>\n",
              "</pre>\n"
            ],
            "text/plain": [
              "Iterations: \u001b[1;36m208\u001b[0m, Cells: \u001b[1;36m259\u001b[0m, Frames: \u001b[1;36m6133\u001b[0m, Max Reward: \u001b[1;36m0\u001b[0m\n"
            ]
          },
          "metadata": {
            "tags": []
          }
        },
        {
          "output_type": "display_data",
          "data": {
            "text/html": [
              "<pre style=\"white-space:pre;overflow-x:auto;line-height:normal;font-family:Menlo,'DejaVu Sans Mono',consolas,'Courier New',monospace\">Iterations: <span style=\"color: #008080; text-decoration-color: #008080; font-weight: bold\">209</span>, Cells: <span style=\"color: #008080; text-decoration-color: #008080; font-weight: bold\">260</span>, Frames: <span style=\"color: #008080; text-decoration-color: #008080; font-weight: bold\">6233</span>, Max Reward: <span style=\"color: #008080; text-decoration-color: #008080; font-weight: bold\">0</span>\n",
              "</pre>\n"
            ],
            "text/plain": [
              "Iterations: \u001b[1;36m209\u001b[0m, Cells: \u001b[1;36m260\u001b[0m, Frames: \u001b[1;36m6233\u001b[0m, Max Reward: \u001b[1;36m0\u001b[0m\n"
            ]
          },
          "metadata": {
            "tags": []
          }
        },
        {
          "output_type": "display_data",
          "data": {
            "text/html": [
              "<pre style=\"white-space:pre;overflow-x:auto;line-height:normal;font-family:Menlo,'DejaVu Sans Mono',consolas,'Courier New',monospace\">Iterations: <span style=\"color: #008080; text-decoration-color: #008080; font-weight: bold\">210</span>, Cells: <span style=\"color: #008080; text-decoration-color: #008080; font-weight: bold\">260</span>, Frames: <span style=\"color: #008080; text-decoration-color: #008080; font-weight: bold\">6236</span>, Max Reward: <span style=\"color: #008080; text-decoration-color: #008080; font-weight: bold\">0</span>\n",
              "</pre>\n"
            ],
            "text/plain": [
              "Iterations: \u001b[1;36m210\u001b[0m, Cells: \u001b[1;36m260\u001b[0m, Frames: \u001b[1;36m6236\u001b[0m, Max Reward: \u001b[1;36m0\u001b[0m\n"
            ]
          },
          "metadata": {
            "tags": []
          }
        },
        {
          "output_type": "display_data",
          "data": {
            "text/html": [
              "<pre style=\"white-space:pre;overflow-x:auto;line-height:normal;font-family:Menlo,'DejaVu Sans Mono',consolas,'Courier New',monospace\">Iterations: <span style=\"color: #008080; text-decoration-color: #008080; font-weight: bold\">211</span>, Cells: <span style=\"color: #008080; text-decoration-color: #008080; font-weight: bold\">260</span>, Frames: <span style=\"color: #008080; text-decoration-color: #008080; font-weight: bold\">6239</span>, Max Reward: <span style=\"color: #008080; text-decoration-color: #008080; font-weight: bold\">0</span>\n",
              "</pre>\n"
            ],
            "text/plain": [
              "Iterations: \u001b[1;36m211\u001b[0m, Cells: \u001b[1;36m260\u001b[0m, Frames: \u001b[1;36m6239\u001b[0m, Max Reward: \u001b[1;36m0\u001b[0m\n"
            ]
          },
          "metadata": {
            "tags": []
          }
        },
        {
          "output_type": "display_data",
          "data": {
            "text/html": [
              "<pre style=\"white-space:pre;overflow-x:auto;line-height:normal;font-family:Menlo,'DejaVu Sans Mono',consolas,'Courier New',monospace\">Iterations: <span style=\"color: #008080; text-decoration-color: #008080; font-weight: bold\">212</span>, Cells: <span style=\"color: #008080; text-decoration-color: #008080; font-weight: bold\">261</span>, Frames: <span style=\"color: #008080; text-decoration-color: #008080; font-weight: bold\">6321</span>, Max Reward: <span style=\"color: #008080; text-decoration-color: #008080; font-weight: bold\">0</span>\n",
              "</pre>\n"
            ],
            "text/plain": [
              "Iterations: \u001b[1;36m212\u001b[0m, Cells: \u001b[1;36m261\u001b[0m, Frames: \u001b[1;36m6321\u001b[0m, Max Reward: \u001b[1;36m0\u001b[0m\n"
            ]
          },
          "metadata": {
            "tags": []
          }
        },
        {
          "output_type": "display_data",
          "data": {
            "text/html": [
              "<pre style=\"white-space:pre;overflow-x:auto;line-height:normal;font-family:Menlo,'DejaVu Sans Mono',consolas,'Courier New',monospace\">Iterations: <span style=\"color: #008080; text-decoration-color: #008080; font-weight: bold\">213</span>, Cells: <span style=\"color: #008080; text-decoration-color: #008080; font-weight: bold\">261</span>, Frames: <span style=\"color: #008080; text-decoration-color: #008080; font-weight: bold\">6329</span>, Max Reward: <span style=\"color: #008080; text-decoration-color: #008080; font-weight: bold\">0</span>\n",
              "</pre>\n"
            ],
            "text/plain": [
              "Iterations: \u001b[1;36m213\u001b[0m, Cells: \u001b[1;36m261\u001b[0m, Frames: \u001b[1;36m6329\u001b[0m, Max Reward: \u001b[1;36m0\u001b[0m\n"
            ]
          },
          "metadata": {
            "tags": []
          }
        },
        {
          "output_type": "display_data",
          "data": {
            "text/html": [
              "<pre style=\"white-space:pre;overflow-x:auto;line-height:normal;font-family:Menlo,'DejaVu Sans Mono',consolas,'Courier New',monospace\">Iterations: <span style=\"color: #008080; text-decoration-color: #008080; font-weight: bold\">214</span>, Cells: <span style=\"color: #008080; text-decoration-color: #008080; font-weight: bold\">261</span>, Frames: <span style=\"color: #008080; text-decoration-color: #008080; font-weight: bold\">6334</span>, Max Reward: <span style=\"color: #008080; text-decoration-color: #008080; font-weight: bold\">0</span>\n",
              "</pre>\n"
            ],
            "text/plain": [
              "Iterations: \u001b[1;36m214\u001b[0m, Cells: \u001b[1;36m261\u001b[0m, Frames: \u001b[1;36m6334\u001b[0m, Max Reward: \u001b[1;36m0\u001b[0m\n"
            ]
          },
          "metadata": {
            "tags": []
          }
        },
        {
          "output_type": "display_data",
          "data": {
            "text/html": [
              "<pre style=\"white-space:pre;overflow-x:auto;line-height:normal;font-family:Menlo,'DejaVu Sans Mono',consolas,'Courier New',monospace\">Iterations: <span style=\"color: #008080; text-decoration-color: #008080; font-weight: bold\">215</span>, Cells: <span style=\"color: #008080; text-decoration-color: #008080; font-weight: bold\">261</span>, Frames: <span style=\"color: #008080; text-decoration-color: #008080; font-weight: bold\">6434</span>, Max Reward: <span style=\"color: #008080; text-decoration-color: #008080; font-weight: bold\">0</span>\n",
              "</pre>\n"
            ],
            "text/plain": [
              "Iterations: \u001b[1;36m215\u001b[0m, Cells: \u001b[1;36m261\u001b[0m, Frames: \u001b[1;36m6434\u001b[0m, Max Reward: \u001b[1;36m0\u001b[0m\n"
            ]
          },
          "metadata": {
            "tags": []
          }
        },
        {
          "output_type": "display_data",
          "data": {
            "text/html": [
              "<pre style=\"white-space:pre;overflow-x:auto;line-height:normal;font-family:Menlo,'DejaVu Sans Mono',consolas,'Courier New',monospace\">Iterations: <span style=\"color: #008080; text-decoration-color: #008080; font-weight: bold\">217</span>, Cells: <span style=\"color: #008080; text-decoration-color: #008080; font-weight: bold\">261</span>, Frames: <span style=\"color: #008080; text-decoration-color: #008080; font-weight: bold\">6443</span>, Max Reward: <span style=\"color: #008080; text-decoration-color: #008080; font-weight: bold\">0</span>\n",
              "</pre>\n"
            ],
            "text/plain": [
              "Iterations: \u001b[1;36m217\u001b[0m, Cells: \u001b[1;36m261\u001b[0m, Frames: \u001b[1;36m6443\u001b[0m, Max Reward: \u001b[1;36m0\u001b[0m\n"
            ]
          },
          "metadata": {
            "tags": []
          }
        },
        {
          "output_type": "display_data",
          "data": {
            "text/html": [
              "<pre style=\"white-space:pre;overflow-x:auto;line-height:normal;font-family:Menlo,'DejaVu Sans Mono',consolas,'Courier New',monospace\">Iterations: <span style=\"color: #008080; text-decoration-color: #008080; font-weight: bold\">218</span>, Cells: <span style=\"color: #008080; text-decoration-color: #008080; font-weight: bold\">269</span>, Frames: <span style=\"color: #008080; text-decoration-color: #008080; font-weight: bold\">6543</span>, Max Reward: <span style=\"color: #008080; text-decoration-color: #008080; font-weight: bold\">0</span>\n",
              "</pre>\n"
            ],
            "text/plain": [
              "Iterations: \u001b[1;36m218\u001b[0m, Cells: \u001b[1;36m269\u001b[0m, Frames: \u001b[1;36m6543\u001b[0m, Max Reward: \u001b[1;36m0\u001b[0m\n"
            ]
          },
          "metadata": {
            "tags": []
          }
        },
        {
          "output_type": "display_data",
          "data": {
            "text/html": [
              "<pre style=\"white-space:pre;overflow-x:auto;line-height:normal;font-family:Menlo,'DejaVu Sans Mono',consolas,'Courier New',monospace\">Iterations: <span style=\"color: #008080; text-decoration-color: #008080; font-weight: bold\">219</span>, Cells: <span style=\"color: #008080; text-decoration-color: #008080; font-weight: bold\">269</span>, Frames: <span style=\"color: #008080; text-decoration-color: #008080; font-weight: bold\">6553</span>, Max Reward: <span style=\"color: #008080; text-decoration-color: #008080; font-weight: bold\">0</span>\n",
              "</pre>\n"
            ],
            "text/plain": [
              "Iterations: \u001b[1;36m219\u001b[0m, Cells: \u001b[1;36m269\u001b[0m, Frames: \u001b[1;36m6553\u001b[0m, Max Reward: \u001b[1;36m0\u001b[0m\n"
            ]
          },
          "metadata": {
            "tags": []
          }
        },
        {
          "output_type": "display_data",
          "data": {
            "text/html": [
              "<pre style=\"white-space:pre;overflow-x:auto;line-height:normal;font-family:Menlo,'DejaVu Sans Mono',consolas,'Courier New',monospace\">Iterations: <span style=\"color: #008080; text-decoration-color: #008080; font-weight: bold\">220</span>, Cells: <span style=\"color: #008080; text-decoration-color: #008080; font-weight: bold\">269</span>, Frames: <span style=\"color: #008080; text-decoration-color: #008080; font-weight: bold\">6563</span>, Max Reward: <span style=\"color: #008080; text-decoration-color: #008080; font-weight: bold\">0</span>\n",
              "</pre>\n"
            ],
            "text/plain": [
              "Iterations: \u001b[1;36m220\u001b[0m, Cells: \u001b[1;36m269\u001b[0m, Frames: \u001b[1;36m6563\u001b[0m, Max Reward: \u001b[1;36m0\u001b[0m\n"
            ]
          },
          "metadata": {
            "tags": []
          }
        },
        {
          "output_type": "display_data",
          "data": {
            "text/html": [
              "<pre style=\"white-space:pre;overflow-x:auto;line-height:normal;font-family:Menlo,'DejaVu Sans Mono',consolas,'Courier New',monospace\">Iterations: <span style=\"color: #008080; text-decoration-color: #008080; font-weight: bold\">221</span>, Cells: <span style=\"color: #008080; text-decoration-color: #008080; font-weight: bold\">270</span>, Frames: <span style=\"color: #008080; text-decoration-color: #008080; font-weight: bold\">6663</span>, Max Reward: <span style=\"color: #008080; text-decoration-color: #008080; font-weight: bold\">0</span>\n",
              "</pre>\n"
            ],
            "text/plain": [
              "Iterations: \u001b[1;36m221\u001b[0m, Cells: \u001b[1;36m270\u001b[0m, Frames: \u001b[1;36m6663\u001b[0m, Max Reward: \u001b[1;36m0\u001b[0m\n"
            ]
          },
          "metadata": {
            "tags": []
          }
        },
        {
          "output_type": "display_data",
          "data": {
            "text/html": [
              "<pre style=\"white-space:pre;overflow-x:auto;line-height:normal;font-family:Menlo,'DejaVu Sans Mono',consolas,'Courier New',monospace\">Iterations: <span style=\"color: #008080; text-decoration-color: #008080; font-weight: bold\">222</span>, Cells: <span style=\"color: #008080; text-decoration-color: #008080; font-weight: bold\">270</span>, Frames: <span style=\"color: #008080; text-decoration-color: #008080; font-weight: bold\">6692</span>, Max Reward: <span style=\"color: #008080; text-decoration-color: #008080; font-weight: bold\">0</span>\n",
              "</pre>\n"
            ],
            "text/plain": [
              "Iterations: \u001b[1;36m222\u001b[0m, Cells: \u001b[1;36m270\u001b[0m, Frames: \u001b[1;36m6692\u001b[0m, Max Reward: \u001b[1;36m0\u001b[0m\n"
            ]
          },
          "metadata": {
            "tags": []
          }
        },
        {
          "output_type": "display_data",
          "data": {
            "text/html": [
              "<pre style=\"white-space:pre;overflow-x:auto;line-height:normal;font-family:Menlo,'DejaVu Sans Mono',consolas,'Courier New',monospace\">Iterations: <span style=\"color: #008080; text-decoration-color: #008080; font-weight: bold\">223</span>, Cells: <span style=\"color: #008080; text-decoration-color: #008080; font-weight: bold\">273</span>, Frames: <span style=\"color: #008080; text-decoration-color: #008080; font-weight: bold\">6709</span>, Max Reward: <span style=\"color: #008080; text-decoration-color: #008080; font-weight: bold\">0</span>\n",
              "</pre>\n"
            ],
            "text/plain": [
              "Iterations: \u001b[1;36m223\u001b[0m, Cells: \u001b[1;36m273\u001b[0m, Frames: \u001b[1;36m6709\u001b[0m, Max Reward: \u001b[1;36m0\u001b[0m\n"
            ]
          },
          "metadata": {
            "tags": []
          }
        },
        {
          "output_type": "display_data",
          "data": {
            "text/html": [
              "<pre style=\"white-space:pre;overflow-x:auto;line-height:normal;font-family:Menlo,'DejaVu Sans Mono',consolas,'Courier New',monospace\">Iterations: <span style=\"color: #008080; text-decoration-color: #008080; font-weight: bold\">225</span>, Cells: <span style=\"color: #008080; text-decoration-color: #008080; font-weight: bold\">273</span>, Frames: <span style=\"color: #008080; text-decoration-color: #008080; font-weight: bold\">6739</span>, Max Reward: <span style=\"color: #008080; text-decoration-color: #008080; font-weight: bold\">0</span>\n",
              "</pre>\n"
            ],
            "text/plain": [
              "Iterations: \u001b[1;36m225\u001b[0m, Cells: \u001b[1;36m273\u001b[0m, Frames: \u001b[1;36m6739\u001b[0m, Max Reward: \u001b[1;36m0\u001b[0m\n"
            ]
          },
          "metadata": {
            "tags": []
          }
        },
        {
          "output_type": "display_data",
          "data": {
            "text/html": [
              "<pre style=\"white-space:pre;overflow-x:auto;line-height:normal;font-family:Menlo,'DejaVu Sans Mono',consolas,'Courier New',monospace\">Iterations: <span style=\"color: #008080; text-decoration-color: #008080; font-weight: bold\">226</span>, Cells: <span style=\"color: #008080; text-decoration-color: #008080; font-weight: bold\">273</span>, Frames: <span style=\"color: #008080; text-decoration-color: #008080; font-weight: bold\">6742</span>, Max Reward: <span style=\"color: #008080; text-decoration-color: #008080; font-weight: bold\">0</span>\n",
              "</pre>\n"
            ],
            "text/plain": [
              "Iterations: \u001b[1;36m226\u001b[0m, Cells: \u001b[1;36m273\u001b[0m, Frames: \u001b[1;36m6742\u001b[0m, Max Reward: \u001b[1;36m0\u001b[0m\n"
            ]
          },
          "metadata": {
            "tags": []
          }
        },
        {
          "output_type": "display_data",
          "data": {
            "text/html": [
              "<pre style=\"white-space:pre;overflow-x:auto;line-height:normal;font-family:Menlo,'DejaVu Sans Mono',consolas,'Courier New',monospace\">Iterations: <span style=\"color: #008080; text-decoration-color: #008080; font-weight: bold\">227</span>, Cells: <span style=\"color: #008080; text-decoration-color: #008080; font-weight: bold\">275</span>, Frames: <span style=\"color: #008080; text-decoration-color: #008080; font-weight: bold\">6792</span>, Max Reward: <span style=\"color: #008080; text-decoration-color: #008080; font-weight: bold\">0</span>\n",
              "</pre>\n"
            ],
            "text/plain": [
              "Iterations: \u001b[1;36m227\u001b[0m, Cells: \u001b[1;36m275\u001b[0m, Frames: \u001b[1;36m6792\u001b[0m, Max Reward: \u001b[1;36m0\u001b[0m\n"
            ]
          },
          "metadata": {
            "tags": []
          }
        },
        {
          "output_type": "display_data",
          "data": {
            "text/html": [
              "<pre style=\"white-space:pre;overflow-x:auto;line-height:normal;font-family:Menlo,'DejaVu Sans Mono',consolas,'Courier New',monospace\">Iterations: <span style=\"color: #008080; text-decoration-color: #008080; font-weight: bold\">228</span>, Cells: <span style=\"color: #008080; text-decoration-color: #008080; font-weight: bold\">275</span>, Frames: <span style=\"color: #008080; text-decoration-color: #008080; font-weight: bold\">6800</span>, Max Reward: <span style=\"color: #008080; text-decoration-color: #008080; font-weight: bold\">0</span>\n",
              "</pre>\n"
            ],
            "text/plain": [
              "Iterations: \u001b[1;36m228\u001b[0m, Cells: \u001b[1;36m275\u001b[0m, Frames: \u001b[1;36m6800\u001b[0m, Max Reward: \u001b[1;36m0\u001b[0m\n"
            ]
          },
          "metadata": {
            "tags": []
          }
        },
        {
          "output_type": "display_data",
          "data": {
            "text/html": [
              "<pre style=\"white-space:pre;overflow-x:auto;line-height:normal;font-family:Menlo,'DejaVu Sans Mono',consolas,'Courier New',monospace\">Iterations: <span style=\"color: #008080; text-decoration-color: #008080; font-weight: bold\">229</span>, Cells: <span style=\"color: #008080; text-decoration-color: #008080; font-weight: bold\">276</span>, Frames: <span style=\"color: #008080; text-decoration-color: #008080; font-weight: bold\">6812</span>, Max Reward: <span style=\"color: #008080; text-decoration-color: #008080; font-weight: bold\">0</span>\n",
              "</pre>\n"
            ],
            "text/plain": [
              "Iterations: \u001b[1;36m229\u001b[0m, Cells: \u001b[1;36m276\u001b[0m, Frames: \u001b[1;36m6812\u001b[0m, Max Reward: \u001b[1;36m0\u001b[0m\n"
            ]
          },
          "metadata": {
            "tags": []
          }
        },
        {
          "output_type": "display_data",
          "data": {
            "text/html": [
              "<pre style=\"white-space:pre;overflow-x:auto;line-height:normal;font-family:Menlo,'DejaVu Sans Mono',consolas,'Courier New',monospace\">Iterations: <span style=\"color: #008080; text-decoration-color: #008080; font-weight: bold\">230</span>, Cells: <span style=\"color: #008080; text-decoration-color: #008080; font-weight: bold\">278</span>, Frames: <span style=\"color: #008080; text-decoration-color: #008080; font-weight: bold\">6823</span>, Max Reward: <span style=\"color: #008080; text-decoration-color: #008080; font-weight: bold\">0</span>\n",
              "</pre>\n"
            ],
            "text/plain": [
              "Iterations: \u001b[1;36m230\u001b[0m, Cells: \u001b[1;36m278\u001b[0m, Frames: \u001b[1;36m6823\u001b[0m, Max Reward: \u001b[1;36m0\u001b[0m\n"
            ]
          },
          "metadata": {
            "tags": []
          }
        },
        {
          "output_type": "display_data",
          "data": {
            "text/html": [
              "<pre style=\"white-space:pre;overflow-x:auto;line-height:normal;font-family:Menlo,'DejaVu Sans Mono',consolas,'Courier New',monospace\">Iterations: <span style=\"color: #008080; text-decoration-color: #008080; font-weight: bold\">231</span>, Cells: <span style=\"color: #008080; text-decoration-color: #008080; font-weight: bold\">279</span>, Frames: <span style=\"color: #008080; text-decoration-color: #008080; font-weight: bold\">6866</span>, Max Reward: <span style=\"color: #008080; text-decoration-color: #008080; font-weight: bold\">0</span>\n",
              "</pre>\n"
            ],
            "text/plain": [
              "Iterations: \u001b[1;36m231\u001b[0m, Cells: \u001b[1;36m279\u001b[0m, Frames: \u001b[1;36m6866\u001b[0m, Max Reward: \u001b[1;36m0\u001b[0m\n"
            ]
          },
          "metadata": {
            "tags": []
          }
        },
        {
          "output_type": "display_data",
          "data": {
            "text/html": [
              "<pre style=\"white-space:pre;overflow-x:auto;line-height:normal;font-family:Menlo,'DejaVu Sans Mono',consolas,'Courier New',monospace\">Iterations: <span style=\"color: #008080; text-decoration-color: #008080; font-weight: bold\">232</span>, Cells: <span style=\"color: #008080; text-decoration-color: #008080; font-weight: bold\">280</span>, Frames: <span style=\"color: #008080; text-decoration-color: #008080; font-weight: bold\">6882</span>, Max Reward: <span style=\"color: #008080; text-decoration-color: #008080; font-weight: bold\">0</span>\n",
              "</pre>\n"
            ],
            "text/plain": [
              "Iterations: \u001b[1;36m232\u001b[0m, Cells: \u001b[1;36m280\u001b[0m, Frames: \u001b[1;36m6882\u001b[0m, Max Reward: \u001b[1;36m0\u001b[0m\n"
            ]
          },
          "metadata": {
            "tags": []
          }
        },
        {
          "output_type": "display_data",
          "data": {
            "text/html": [
              "<pre style=\"white-space:pre;overflow-x:auto;line-height:normal;font-family:Menlo,'DejaVu Sans Mono',consolas,'Courier New',monospace\">Iterations: <span style=\"color: #008080; text-decoration-color: #008080; font-weight: bold\">233</span>, Cells: <span style=\"color: #008080; text-decoration-color: #008080; font-weight: bold\">280</span>, Frames: <span style=\"color: #008080; text-decoration-color: #008080; font-weight: bold\">6902</span>, Max Reward: <span style=\"color: #008080; text-decoration-color: #008080; font-weight: bold\">0</span>\n",
              "</pre>\n"
            ],
            "text/plain": [
              "Iterations: \u001b[1;36m233\u001b[0m, Cells: \u001b[1;36m280\u001b[0m, Frames: \u001b[1;36m6902\u001b[0m, Max Reward: \u001b[1;36m0\u001b[0m\n"
            ]
          },
          "metadata": {
            "tags": []
          }
        },
        {
          "output_type": "display_data",
          "data": {
            "text/html": [
              "<pre style=\"white-space:pre;overflow-x:auto;line-height:normal;font-family:Menlo,'DejaVu Sans Mono',consolas,'Courier New',monospace\">Iterations: <span style=\"color: #008080; text-decoration-color: #008080; font-weight: bold\">234</span>, Cells: <span style=\"color: #008080; text-decoration-color: #008080; font-weight: bold\">280</span>, Frames: <span style=\"color: #008080; text-decoration-color: #008080; font-weight: bold\">6934</span>, Max Reward: <span style=\"color: #008080; text-decoration-color: #008080; font-weight: bold\">0</span>\n",
              "</pre>\n"
            ],
            "text/plain": [
              "Iterations: \u001b[1;36m234\u001b[0m, Cells: \u001b[1;36m280\u001b[0m, Frames: \u001b[1;36m6934\u001b[0m, Max Reward: \u001b[1;36m0\u001b[0m\n"
            ]
          },
          "metadata": {
            "tags": []
          }
        },
        {
          "output_type": "display_data",
          "data": {
            "text/html": [
              "<pre style=\"white-space:pre;overflow-x:auto;line-height:normal;font-family:Menlo,'DejaVu Sans Mono',consolas,'Courier New',monospace\">Iterations: <span style=\"color: #008080; text-decoration-color: #008080; font-weight: bold\">235</span>, Cells: <span style=\"color: #008080; text-decoration-color: #008080; font-weight: bold\">281</span>, Frames: <span style=\"color: #008080; text-decoration-color: #008080; font-weight: bold\">6946</span>, Max Reward: <span style=\"color: #008080; text-decoration-color: #008080; font-weight: bold\">0</span>\n",
              "</pre>\n"
            ],
            "text/plain": [
              "Iterations: \u001b[1;36m235\u001b[0m, Cells: \u001b[1;36m281\u001b[0m, Frames: \u001b[1;36m6946\u001b[0m, Max Reward: \u001b[1;36m0\u001b[0m\n"
            ]
          },
          "metadata": {
            "tags": []
          }
        },
        {
          "output_type": "display_data",
          "data": {
            "text/html": [
              "<pre style=\"white-space:pre;overflow-x:auto;line-height:normal;font-family:Menlo,'DejaVu Sans Mono',consolas,'Courier New',monospace\">Iterations: <span style=\"color: #008080; text-decoration-color: #008080; font-weight: bold\">236</span>, Cells: <span style=\"color: #008080; text-decoration-color: #008080; font-weight: bold\">281</span>, Frames: <span style=\"color: #008080; text-decoration-color: #008080; font-weight: bold\">6960</span>, Max Reward: <span style=\"color: #008080; text-decoration-color: #008080; font-weight: bold\">0</span>\n",
              "</pre>\n"
            ],
            "text/plain": [
              "Iterations: \u001b[1;36m236\u001b[0m, Cells: \u001b[1;36m281\u001b[0m, Frames: \u001b[1;36m6960\u001b[0m, Max Reward: \u001b[1;36m0\u001b[0m\n"
            ]
          },
          "metadata": {
            "tags": []
          }
        },
        {
          "output_type": "display_data",
          "data": {
            "text/html": [
              "<pre style=\"white-space:pre;overflow-x:auto;line-height:normal;font-family:Menlo,'DejaVu Sans Mono',consolas,'Courier New',monospace\">Iterations: <span style=\"color: #008080; text-decoration-color: #008080; font-weight: bold\">237</span>, Cells: <span style=\"color: #008080; text-decoration-color: #008080; font-weight: bold\">281</span>, Frames: <span style=\"color: #008080; text-decoration-color: #008080; font-weight: bold\">6962</span>, Max Reward: <span style=\"color: #008080; text-decoration-color: #008080; font-weight: bold\">0</span>\n",
              "</pre>\n"
            ],
            "text/plain": [
              "Iterations: \u001b[1;36m237\u001b[0m, Cells: \u001b[1;36m281\u001b[0m, Frames: \u001b[1;36m6962\u001b[0m, Max Reward: \u001b[1;36m0\u001b[0m\n"
            ]
          },
          "metadata": {
            "tags": []
          }
        },
        {
          "output_type": "display_data",
          "data": {
            "text/html": [
              "<pre style=\"white-space:pre;overflow-x:auto;line-height:normal;font-family:Menlo,'DejaVu Sans Mono',consolas,'Courier New',monospace\">Iterations: <span style=\"color: #008080; text-decoration-color: #008080; font-weight: bold\">238</span>, Cells: <span style=\"color: #008080; text-decoration-color: #008080; font-weight: bold\">282</span>, Frames: <span style=\"color: #008080; text-decoration-color: #008080; font-weight: bold\">7050</span>, Max Reward: <span style=\"color: #008080; text-decoration-color: #008080; font-weight: bold\">0</span>\n",
              "</pre>\n"
            ],
            "text/plain": [
              "Iterations: \u001b[1;36m238\u001b[0m, Cells: \u001b[1;36m282\u001b[0m, Frames: \u001b[1;36m7050\u001b[0m, Max Reward: \u001b[1;36m0\u001b[0m\n"
            ]
          },
          "metadata": {
            "tags": []
          }
        },
        {
          "output_type": "display_data",
          "data": {
            "text/html": [
              "<pre style=\"white-space:pre;overflow-x:auto;line-height:normal;font-family:Menlo,'DejaVu Sans Mono',consolas,'Courier New',monospace\">Iterations: <span style=\"color: #008080; text-decoration-color: #008080; font-weight: bold\">239</span>, Cells: <span style=\"color: #008080; text-decoration-color: #008080; font-weight: bold\">282</span>, Frames: <span style=\"color: #008080; text-decoration-color: #008080; font-weight: bold\">7054</span>, Max Reward: <span style=\"color: #008080; text-decoration-color: #008080; font-weight: bold\">0</span>\n",
              "</pre>\n"
            ],
            "text/plain": [
              "Iterations: \u001b[1;36m239\u001b[0m, Cells: \u001b[1;36m282\u001b[0m, Frames: \u001b[1;36m7054\u001b[0m, Max Reward: \u001b[1;36m0\u001b[0m\n"
            ]
          },
          "metadata": {
            "tags": []
          }
        },
        {
          "output_type": "display_data",
          "data": {
            "text/html": [
              "<pre style=\"white-space:pre;overflow-x:auto;line-height:normal;font-family:Menlo,'DejaVu Sans Mono',consolas,'Courier New',monospace\">Iterations: <span style=\"color: #008080; text-decoration-color: #008080; font-weight: bold\">240</span>, Cells: <span style=\"color: #008080; text-decoration-color: #008080; font-weight: bold\">282</span>, Frames: <span style=\"color: #008080; text-decoration-color: #008080; font-weight: bold\">7058</span>, Max Reward: <span style=\"color: #008080; text-decoration-color: #008080; font-weight: bold\">0</span>\n",
              "</pre>\n"
            ],
            "text/plain": [
              "Iterations: \u001b[1;36m240\u001b[0m, Cells: \u001b[1;36m282\u001b[0m, Frames: \u001b[1;36m7058\u001b[0m, Max Reward: \u001b[1;36m0\u001b[0m\n"
            ]
          },
          "metadata": {
            "tags": []
          }
        },
        {
          "output_type": "display_data",
          "data": {
            "text/html": [
              "<pre style=\"white-space:pre;overflow-x:auto;line-height:normal;font-family:Menlo,'DejaVu Sans Mono',consolas,'Courier New',monospace\">Iterations: <span style=\"color: #008080; text-decoration-color: #008080; font-weight: bold\">241</span>, Cells: <span style=\"color: #008080; text-decoration-color: #008080; font-weight: bold\">282</span>, Frames: <span style=\"color: #008080; text-decoration-color: #008080; font-weight: bold\">7064</span>, Max Reward: <span style=\"color: #008080; text-decoration-color: #008080; font-weight: bold\">0</span>\n",
              "</pre>\n"
            ],
            "text/plain": [
              "Iterations: \u001b[1;36m241\u001b[0m, Cells: \u001b[1;36m282\u001b[0m, Frames: \u001b[1;36m7064\u001b[0m, Max Reward: \u001b[1;36m0\u001b[0m\n"
            ]
          },
          "metadata": {
            "tags": []
          }
        },
        {
          "output_type": "display_data",
          "data": {
            "text/html": [
              "<pre style=\"white-space:pre;overflow-x:auto;line-height:normal;font-family:Menlo,'DejaVu Sans Mono',consolas,'Courier New',monospace\">Iterations: <span style=\"color: #008080; text-decoration-color: #008080; font-weight: bold\">242</span>, Cells: <span style=\"color: #008080; text-decoration-color: #008080; font-weight: bold\">282</span>, Frames: <span style=\"color: #008080; text-decoration-color: #008080; font-weight: bold\">7071</span>, Max Reward: <span style=\"color: #008080; text-decoration-color: #008080; font-weight: bold\">0</span>\n",
              "</pre>\n"
            ],
            "text/plain": [
              "Iterations: \u001b[1;36m242\u001b[0m, Cells: \u001b[1;36m282\u001b[0m, Frames: \u001b[1;36m7071\u001b[0m, Max Reward: \u001b[1;36m0\u001b[0m\n"
            ]
          },
          "metadata": {
            "tags": []
          }
        },
        {
          "output_type": "display_data",
          "data": {
            "text/html": [
              "<pre style=\"white-space:pre;overflow-x:auto;line-height:normal;font-family:Menlo,'DejaVu Sans Mono',consolas,'Courier New',monospace\">Iterations: <span style=\"color: #008080; text-decoration-color: #008080; font-weight: bold\">243</span>, Cells: <span style=\"color: #008080; text-decoration-color: #008080; font-weight: bold\">282</span>, Frames: <span style=\"color: #008080; text-decoration-color: #008080; font-weight: bold\">7077</span>, Max Reward: <span style=\"color: #008080; text-decoration-color: #008080; font-weight: bold\">0</span>\n",
              "</pre>\n"
            ],
            "text/plain": [
              "Iterations: \u001b[1;36m243\u001b[0m, Cells: \u001b[1;36m282\u001b[0m, Frames: \u001b[1;36m7077\u001b[0m, Max Reward: \u001b[1;36m0\u001b[0m\n"
            ]
          },
          "metadata": {
            "tags": []
          }
        },
        {
          "output_type": "display_data",
          "data": {
            "text/html": [
              "<pre style=\"white-space:pre;overflow-x:auto;line-height:normal;font-family:Menlo,'DejaVu Sans Mono',consolas,'Courier New',monospace\">Iterations: <span style=\"color: #008080; text-decoration-color: #008080; font-weight: bold\">244</span>, Cells: <span style=\"color: #008080; text-decoration-color: #008080; font-weight: bold\">284</span>, Frames: <span style=\"color: #008080; text-decoration-color: #008080; font-weight: bold\">7132</span>, Max Reward: <span style=\"color: #008080; text-decoration-color: #008080; font-weight: bold\">0</span>\n",
              "</pre>\n"
            ],
            "text/plain": [
              "Iterations: \u001b[1;36m244\u001b[0m, Cells: \u001b[1;36m284\u001b[0m, Frames: \u001b[1;36m7132\u001b[0m, Max Reward: \u001b[1;36m0\u001b[0m\n"
            ]
          },
          "metadata": {
            "tags": []
          }
        },
        {
          "output_type": "display_data",
          "data": {
            "text/html": [
              "<pre style=\"white-space:pre;overflow-x:auto;line-height:normal;font-family:Menlo,'DejaVu Sans Mono',consolas,'Courier New',monospace\">Iterations: <span style=\"color: #008080; text-decoration-color: #008080; font-weight: bold\">245</span>, Cells: <span style=\"color: #008080; text-decoration-color: #008080; font-weight: bold\">284</span>, Frames: <span style=\"color: #008080; text-decoration-color: #008080; font-weight: bold\">7137</span>, Max Reward: <span style=\"color: #008080; text-decoration-color: #008080; font-weight: bold\">0</span>\n",
              "</pre>\n"
            ],
            "text/plain": [
              "Iterations: \u001b[1;36m245\u001b[0m, Cells: \u001b[1;36m284\u001b[0m, Frames: \u001b[1;36m7137\u001b[0m, Max Reward: \u001b[1;36m0\u001b[0m\n"
            ]
          },
          "metadata": {
            "tags": []
          }
        },
        {
          "output_type": "display_data",
          "data": {
            "text/html": [
              "<pre style=\"white-space:pre;overflow-x:auto;line-height:normal;font-family:Menlo,'DejaVu Sans Mono',consolas,'Courier New',monospace\">Iterations: <span style=\"color: #008080; text-decoration-color: #008080; font-weight: bold\">246</span>, Cells: <span style=\"color: #008080; text-decoration-color: #008080; font-weight: bold\">284</span>, Frames: <span style=\"color: #008080; text-decoration-color: #008080; font-weight: bold\">7145</span>, Max Reward: <span style=\"color: #008080; text-decoration-color: #008080; font-weight: bold\">0</span>\n",
              "</pre>\n"
            ],
            "text/plain": [
              "Iterations: \u001b[1;36m246\u001b[0m, Cells: \u001b[1;36m284\u001b[0m, Frames: \u001b[1;36m7145\u001b[0m, Max Reward: \u001b[1;36m0\u001b[0m\n"
            ]
          },
          "metadata": {
            "tags": []
          }
        },
        {
          "output_type": "display_data",
          "data": {
            "text/html": [
              "<pre style=\"white-space:pre;overflow-x:auto;line-height:normal;font-family:Menlo,'DejaVu Sans Mono',consolas,'Courier New',monospace\">Iterations: <span style=\"color: #008080; text-decoration-color: #008080; font-weight: bold\">247</span>, Cells: <span style=\"color: #008080; text-decoration-color: #008080; font-weight: bold\">284</span>, Frames: <span style=\"color: #008080; text-decoration-color: #008080; font-weight: bold\">7155</span>, Max Reward: <span style=\"color: #008080; text-decoration-color: #008080; font-weight: bold\">0</span>\n",
              "</pre>\n"
            ],
            "text/plain": [
              "Iterations: \u001b[1;36m247\u001b[0m, Cells: \u001b[1;36m284\u001b[0m, Frames: \u001b[1;36m7155\u001b[0m, Max Reward: \u001b[1;36m0\u001b[0m\n"
            ]
          },
          "metadata": {
            "tags": []
          }
        },
        {
          "output_type": "display_data",
          "data": {
            "text/html": [
              "<pre style=\"white-space:pre;overflow-x:auto;line-height:normal;font-family:Menlo,'DejaVu Sans Mono',consolas,'Courier New',monospace\">Iterations: <span style=\"color: #008080; text-decoration-color: #008080; font-weight: bold\">249</span>, Cells: <span style=\"color: #008080; text-decoration-color: #008080; font-weight: bold\">284</span>, Frames: <span style=\"color: #008080; text-decoration-color: #008080; font-weight: bold\">7209</span>, Max Reward: <span style=\"color: #008080; text-decoration-color: #008080; font-weight: bold\">0</span>\n",
              "</pre>\n"
            ],
            "text/plain": [
              "Iterations: \u001b[1;36m249\u001b[0m, Cells: \u001b[1;36m284\u001b[0m, Frames: \u001b[1;36m7209\u001b[0m, Max Reward: \u001b[1;36m0\u001b[0m\n"
            ]
          },
          "metadata": {
            "tags": []
          }
        },
        {
          "output_type": "display_data",
          "data": {
            "text/html": [
              "<pre style=\"white-space:pre;overflow-x:auto;line-height:normal;font-family:Menlo,'DejaVu Sans Mono',consolas,'Courier New',monospace\">Iterations: <span style=\"color: #008080; text-decoration-color: #008080; font-weight: bold\">250</span>, Cells: <span style=\"color: #008080; text-decoration-color: #008080; font-weight: bold\">284</span>, Frames: <span style=\"color: #008080; text-decoration-color: #008080; font-weight: bold\">7309</span>, Max Reward: <span style=\"color: #008080; text-decoration-color: #008080; font-weight: bold\">0</span>\n",
              "</pre>\n"
            ],
            "text/plain": [
              "Iterations: \u001b[1;36m250\u001b[0m, Cells: \u001b[1;36m284\u001b[0m, Frames: \u001b[1;36m7309\u001b[0m, Max Reward: \u001b[1;36m0\u001b[0m\n"
            ]
          },
          "metadata": {
            "tags": []
          }
        },
        {
          "output_type": "display_data",
          "data": {
            "text/html": [
              "<pre style=\"white-space:pre;overflow-x:auto;line-height:normal;font-family:Menlo,'DejaVu Sans Mono',consolas,'Courier New',monospace\">Iterations: <span style=\"color: #008080; text-decoration-color: #008080; font-weight: bold\">251</span>, Cells: <span style=\"color: #008080; text-decoration-color: #008080; font-weight: bold\">284</span>, Frames: <span style=\"color: #008080; text-decoration-color: #008080; font-weight: bold\">7327</span>, Max Reward: <span style=\"color: #008080; text-decoration-color: #008080; font-weight: bold\">0</span>\n",
              "</pre>\n"
            ],
            "text/plain": [
              "Iterations: \u001b[1;36m251\u001b[0m, Cells: \u001b[1;36m284\u001b[0m, Frames: \u001b[1;36m7327\u001b[0m, Max Reward: \u001b[1;36m0\u001b[0m\n"
            ]
          },
          "metadata": {
            "tags": []
          }
        },
        {
          "output_type": "display_data",
          "data": {
            "text/html": [
              "<pre style=\"white-space:pre;overflow-x:auto;line-height:normal;font-family:Menlo,'DejaVu Sans Mono',consolas,'Courier New',monospace\">Iterations: <span style=\"color: #008080; text-decoration-color: #008080; font-weight: bold\">252</span>, Cells: <span style=\"color: #008080; text-decoration-color: #008080; font-weight: bold\">284</span>, Frames: <span style=\"color: #008080; text-decoration-color: #008080; font-weight: bold\">7336</span>, Max Reward: <span style=\"color: #008080; text-decoration-color: #008080; font-weight: bold\">0</span>\n",
              "</pre>\n"
            ],
            "text/plain": [
              "Iterations: \u001b[1;36m252\u001b[0m, Cells: \u001b[1;36m284\u001b[0m, Frames: \u001b[1;36m7336\u001b[0m, Max Reward: \u001b[1;36m0\u001b[0m\n"
            ]
          },
          "metadata": {
            "tags": []
          }
        },
        {
          "output_type": "display_data",
          "data": {
            "text/html": [
              "<pre style=\"white-space:pre;overflow-x:auto;line-height:normal;font-family:Menlo,'DejaVu Sans Mono',consolas,'Courier New',monospace\">Iterations: <span style=\"color: #008080; text-decoration-color: #008080; font-weight: bold\">253</span>, Cells: <span style=\"color: #008080; text-decoration-color: #008080; font-weight: bold\">286</span>, Frames: <span style=\"color: #008080; text-decoration-color: #008080; font-weight: bold\">7376</span>, Max Reward: <span style=\"color: #008080; text-decoration-color: #008080; font-weight: bold\">0</span>\n",
              "</pre>\n"
            ],
            "text/plain": [
              "Iterations: \u001b[1;36m253\u001b[0m, Cells: \u001b[1;36m286\u001b[0m, Frames: \u001b[1;36m7376\u001b[0m, Max Reward: \u001b[1;36m0\u001b[0m\n"
            ]
          },
          "metadata": {
            "tags": []
          }
        },
        {
          "output_type": "display_data",
          "data": {
            "text/html": [
              "<pre style=\"white-space:pre;overflow-x:auto;line-height:normal;font-family:Menlo,'DejaVu Sans Mono',consolas,'Courier New',monospace\">Iterations: <span style=\"color: #008080; text-decoration-color: #008080; font-weight: bold\">254</span>, Cells: <span style=\"color: #008080; text-decoration-color: #008080; font-weight: bold\">286</span>, Frames: <span style=\"color: #008080; text-decoration-color: #008080; font-weight: bold\">7388</span>, Max Reward: <span style=\"color: #008080; text-decoration-color: #008080; font-weight: bold\">0</span>\n",
              "</pre>\n"
            ],
            "text/plain": [
              "Iterations: \u001b[1;36m254\u001b[0m, Cells: \u001b[1;36m286\u001b[0m, Frames: \u001b[1;36m7388\u001b[0m, Max Reward: \u001b[1;36m0\u001b[0m\n"
            ]
          },
          "metadata": {
            "tags": []
          }
        },
        {
          "output_type": "display_data",
          "data": {
            "text/html": [
              "<pre style=\"white-space:pre;overflow-x:auto;line-height:normal;font-family:Menlo,'DejaVu Sans Mono',consolas,'Courier New',monospace\">Iterations: <span style=\"color: #008080; text-decoration-color: #008080; font-weight: bold\">255</span>, Cells: <span style=\"color: #008080; text-decoration-color: #008080; font-weight: bold\">286</span>, Frames: <span style=\"color: #008080; text-decoration-color: #008080; font-weight: bold\">7391</span>, Max Reward: <span style=\"color: #008080; text-decoration-color: #008080; font-weight: bold\">0</span>\n",
              "</pre>\n"
            ],
            "text/plain": [
              "Iterations: \u001b[1;36m255\u001b[0m, Cells: \u001b[1;36m286\u001b[0m, Frames: \u001b[1;36m7391\u001b[0m, Max Reward: \u001b[1;36m0\u001b[0m\n"
            ]
          },
          "metadata": {
            "tags": []
          }
        },
        {
          "output_type": "display_data",
          "data": {
            "text/html": [
              "<pre style=\"white-space:pre;overflow-x:auto;line-height:normal;font-family:Menlo,'DejaVu Sans Mono',consolas,'Courier New',monospace\">Iterations: <span style=\"color: #008080; text-decoration-color: #008080; font-weight: bold\">256</span>, Cells: <span style=\"color: #008080; text-decoration-color: #008080; font-weight: bold\">286</span>, Frames: <span style=\"color: #008080; text-decoration-color: #008080; font-weight: bold\">7491</span>, Max Reward: <span style=\"color: #008080; text-decoration-color: #008080; font-weight: bold\">0</span>\n",
              "</pre>\n"
            ],
            "text/plain": [
              "Iterations: \u001b[1;36m256\u001b[0m, Cells: \u001b[1;36m286\u001b[0m, Frames: \u001b[1;36m7491\u001b[0m, Max Reward: \u001b[1;36m0\u001b[0m\n"
            ]
          },
          "metadata": {
            "tags": []
          }
        },
        {
          "output_type": "display_data",
          "data": {
            "text/html": [
              "<pre style=\"white-space:pre;overflow-x:auto;line-height:normal;font-family:Menlo,'DejaVu Sans Mono',consolas,'Courier New',monospace\">Iterations: <span style=\"color: #008080; text-decoration-color: #008080; font-weight: bold\">257</span>, Cells: <span style=\"color: #008080; text-decoration-color: #008080; font-weight: bold\">286</span>, Frames: <span style=\"color: #008080; text-decoration-color: #008080; font-weight: bold\">7504</span>, Max Reward: <span style=\"color: #008080; text-decoration-color: #008080; font-weight: bold\">0</span>\n",
              "</pre>\n"
            ],
            "text/plain": [
              "Iterations: \u001b[1;36m257\u001b[0m, Cells: \u001b[1;36m286\u001b[0m, Frames: \u001b[1;36m7504\u001b[0m, Max Reward: \u001b[1;36m0\u001b[0m\n"
            ]
          },
          "metadata": {
            "tags": []
          }
        },
        {
          "output_type": "display_data",
          "data": {
            "text/html": [
              "<pre style=\"white-space:pre;overflow-x:auto;line-height:normal;font-family:Menlo,'DejaVu Sans Mono',consolas,'Courier New',monospace\">Iterations: <span style=\"color: #008080; text-decoration-color: #008080; font-weight: bold\">258</span>, Cells: <span style=\"color: #008080; text-decoration-color: #008080; font-weight: bold\">287</span>, Frames: <span style=\"color: #008080; text-decoration-color: #008080; font-weight: bold\">7514</span>, Max Reward: <span style=\"color: #008080; text-decoration-color: #008080; font-weight: bold\">0</span>\n",
              "</pre>\n"
            ],
            "text/plain": [
              "Iterations: \u001b[1;36m258\u001b[0m, Cells: \u001b[1;36m287\u001b[0m, Frames: \u001b[1;36m7514\u001b[0m, Max Reward: \u001b[1;36m0\u001b[0m\n"
            ]
          },
          "metadata": {
            "tags": []
          }
        },
        {
          "output_type": "display_data",
          "data": {
            "text/html": [
              "<pre style=\"white-space:pre;overflow-x:auto;line-height:normal;font-family:Menlo,'DejaVu Sans Mono',consolas,'Courier New',monospace\">Iterations: <span style=\"color: #008080; text-decoration-color: #008080; font-weight: bold\">259</span>, Cells: <span style=\"color: #008080; text-decoration-color: #008080; font-weight: bold\">287</span>, Frames: <span style=\"color: #008080; text-decoration-color: #008080; font-weight: bold\">7517</span>, Max Reward: <span style=\"color: #008080; text-decoration-color: #008080; font-weight: bold\">0</span>\n",
              "</pre>\n"
            ],
            "text/plain": [
              "Iterations: \u001b[1;36m259\u001b[0m, Cells: \u001b[1;36m287\u001b[0m, Frames: \u001b[1;36m7517\u001b[0m, Max Reward: \u001b[1;36m0\u001b[0m\n"
            ]
          },
          "metadata": {
            "tags": []
          }
        },
        {
          "output_type": "display_data",
          "data": {
            "text/html": [
              "<pre style=\"white-space:pre;overflow-x:auto;line-height:normal;font-family:Menlo,'DejaVu Sans Mono',consolas,'Courier New',monospace\">Iterations: <span style=\"color: #008080; text-decoration-color: #008080; font-weight: bold\">260</span>, Cells: <span style=\"color: #008080; text-decoration-color: #008080; font-weight: bold\">287</span>, Frames: <span style=\"color: #008080; text-decoration-color: #008080; font-weight: bold\">7525</span>, Max Reward: <span style=\"color: #008080; text-decoration-color: #008080; font-weight: bold\">0</span>\n",
              "</pre>\n"
            ],
            "text/plain": [
              "Iterations: \u001b[1;36m260\u001b[0m, Cells: \u001b[1;36m287\u001b[0m, Frames: \u001b[1;36m7525\u001b[0m, Max Reward: \u001b[1;36m0\u001b[0m\n"
            ]
          },
          "metadata": {
            "tags": []
          }
        },
        {
          "output_type": "display_data",
          "data": {
            "text/html": [
              "<pre style=\"white-space:pre;overflow-x:auto;line-height:normal;font-family:Menlo,'DejaVu Sans Mono',consolas,'Courier New',monospace\">Iterations: <span style=\"color: #008080; text-decoration-color: #008080; font-weight: bold\">262</span>, Cells: <span style=\"color: #008080; text-decoration-color: #008080; font-weight: bold\">287</span>, Frames: <span style=\"color: #008080; text-decoration-color: #008080; font-weight: bold\">7563</span>, Max Reward: <span style=\"color: #008080; text-decoration-color: #008080; font-weight: bold\">0</span>\n",
              "</pre>\n"
            ],
            "text/plain": [
              "Iterations: \u001b[1;36m262\u001b[0m, Cells: \u001b[1;36m287\u001b[0m, Frames: \u001b[1;36m7563\u001b[0m, Max Reward: \u001b[1;36m0\u001b[0m\n"
            ]
          },
          "metadata": {
            "tags": []
          }
        },
        {
          "output_type": "display_data",
          "data": {
            "text/html": [
              "<pre style=\"white-space:pre;overflow-x:auto;line-height:normal;font-family:Menlo,'DejaVu Sans Mono',consolas,'Courier New',monospace\">Iterations: <span style=\"color: #008080; text-decoration-color: #008080; font-weight: bold\">263</span>, Cells: <span style=\"color: #008080; text-decoration-color: #008080; font-weight: bold\">287</span>, Frames: <span style=\"color: #008080; text-decoration-color: #008080; font-weight: bold\">7576</span>, Max Reward: <span style=\"color: #008080; text-decoration-color: #008080; font-weight: bold\">0</span>\n",
              "</pre>\n"
            ],
            "text/plain": [
              "Iterations: \u001b[1;36m263\u001b[0m, Cells: \u001b[1;36m287\u001b[0m, Frames: \u001b[1;36m7576\u001b[0m, Max Reward: \u001b[1;36m0\u001b[0m\n"
            ]
          },
          "metadata": {
            "tags": []
          }
        },
        {
          "output_type": "display_data",
          "data": {
            "text/html": [
              "<pre style=\"white-space:pre;overflow-x:auto;line-height:normal;font-family:Menlo,'DejaVu Sans Mono',consolas,'Courier New',monospace\">Iterations: <span style=\"color: #008080; text-decoration-color: #008080; font-weight: bold\">264</span>, Cells: <span style=\"color: #008080; text-decoration-color: #008080; font-weight: bold\">287</span>, Frames: <span style=\"color: #008080; text-decoration-color: #008080; font-weight: bold\">7586</span>, Max Reward: <span style=\"color: #008080; text-decoration-color: #008080; font-weight: bold\">0</span>\n",
              "</pre>\n"
            ],
            "text/plain": [
              "Iterations: \u001b[1;36m264\u001b[0m, Cells: \u001b[1;36m287\u001b[0m, Frames: \u001b[1;36m7586\u001b[0m, Max Reward: \u001b[1;36m0\u001b[0m\n"
            ]
          },
          "metadata": {
            "tags": []
          }
        },
        {
          "output_type": "display_data",
          "data": {
            "text/html": [
              "<pre style=\"white-space:pre;overflow-x:auto;line-height:normal;font-family:Menlo,'DejaVu Sans Mono',consolas,'Courier New',monospace\">Iterations: <span style=\"color: #008080; text-decoration-color: #008080; font-weight: bold\">265</span>, Cells: <span style=\"color: #008080; text-decoration-color: #008080; font-weight: bold\">287</span>, Frames: <span style=\"color: #008080; text-decoration-color: #008080; font-weight: bold\">7595</span>, Max Reward: <span style=\"color: #008080; text-decoration-color: #008080; font-weight: bold\">0</span>\n",
              "</pre>\n"
            ],
            "text/plain": [
              "Iterations: \u001b[1;36m265\u001b[0m, Cells: \u001b[1;36m287\u001b[0m, Frames: \u001b[1;36m7595\u001b[0m, Max Reward: \u001b[1;36m0\u001b[0m\n"
            ]
          },
          "metadata": {
            "tags": []
          }
        },
        {
          "output_type": "display_data",
          "data": {
            "text/html": [
              "<pre style=\"white-space:pre;overflow-x:auto;line-height:normal;font-family:Menlo,'DejaVu Sans Mono',consolas,'Courier New',monospace\">Iterations: <span style=\"color: #008080; text-decoration-color: #008080; font-weight: bold\">266</span>, Cells: <span style=\"color: #008080; text-decoration-color: #008080; font-weight: bold\">287</span>, Frames: <span style=\"color: #008080; text-decoration-color: #008080; font-weight: bold\">7695</span>, Max Reward: <span style=\"color: #008080; text-decoration-color: #008080; font-weight: bold\">0</span>\n",
              "</pre>\n"
            ],
            "text/plain": [
              "Iterations: \u001b[1;36m266\u001b[0m, Cells: \u001b[1;36m287\u001b[0m, Frames: \u001b[1;36m7695\u001b[0m, Max Reward: \u001b[1;36m0\u001b[0m\n"
            ]
          },
          "metadata": {
            "tags": []
          }
        },
        {
          "output_type": "display_data",
          "data": {
            "text/html": [
              "<pre style=\"white-space:pre;overflow-x:auto;line-height:normal;font-family:Menlo,'DejaVu Sans Mono',consolas,'Courier New',monospace\">Iterations: <span style=\"color: #008080; text-decoration-color: #008080; font-weight: bold\">267</span>, Cells: <span style=\"color: #008080; text-decoration-color: #008080; font-weight: bold\">289</span>, Frames: <span style=\"color: #008080; text-decoration-color: #008080; font-weight: bold\">7713</span>, Max Reward: <span style=\"color: #008080; text-decoration-color: #008080; font-weight: bold\">0</span>\n",
              "</pre>\n"
            ],
            "text/plain": [
              "Iterations: \u001b[1;36m267\u001b[0m, Cells: \u001b[1;36m289\u001b[0m, Frames: \u001b[1;36m7713\u001b[0m, Max Reward: \u001b[1;36m0\u001b[0m\n"
            ]
          },
          "metadata": {
            "tags": []
          }
        },
        {
          "output_type": "display_data",
          "data": {
            "text/html": [
              "<pre style=\"white-space:pre;overflow-x:auto;line-height:normal;font-family:Menlo,'DejaVu Sans Mono',consolas,'Courier New',monospace\">Iterations: <span style=\"color: #008080; text-decoration-color: #008080; font-weight: bold\">268</span>, Cells: <span style=\"color: #008080; text-decoration-color: #008080; font-weight: bold\">290</span>, Frames: <span style=\"color: #008080; text-decoration-color: #008080; font-weight: bold\">7737</span>, Max Reward: <span style=\"color: #008080; text-decoration-color: #008080; font-weight: bold\">0</span>\n",
              "</pre>\n"
            ],
            "text/plain": [
              "Iterations: \u001b[1;36m268\u001b[0m, Cells: \u001b[1;36m290\u001b[0m, Frames: \u001b[1;36m7737\u001b[0m, Max Reward: \u001b[1;36m0\u001b[0m\n"
            ]
          },
          "metadata": {
            "tags": []
          }
        },
        {
          "output_type": "display_data",
          "data": {
            "text/html": [
              "<pre style=\"white-space:pre;overflow-x:auto;line-height:normal;font-family:Menlo,'DejaVu Sans Mono',consolas,'Courier New',monospace\">Iterations: <span style=\"color: #008080; text-decoration-color: #008080; font-weight: bold\">269</span>, Cells: <span style=\"color: #008080; text-decoration-color: #008080; font-weight: bold\">290</span>, Frames: <span style=\"color: #008080; text-decoration-color: #008080; font-weight: bold\">7765</span>, Max Reward: <span style=\"color: #008080; text-decoration-color: #008080; font-weight: bold\">0</span>\n",
              "</pre>\n"
            ],
            "text/plain": [
              "Iterations: \u001b[1;36m269\u001b[0m, Cells: \u001b[1;36m290\u001b[0m, Frames: \u001b[1;36m7765\u001b[0m, Max Reward: \u001b[1;36m0\u001b[0m\n"
            ]
          },
          "metadata": {
            "tags": []
          }
        },
        {
          "output_type": "display_data",
          "data": {
            "text/html": [
              "<pre style=\"white-space:pre;overflow-x:auto;line-height:normal;font-family:Menlo,'DejaVu Sans Mono',consolas,'Courier New',monospace\">Iterations: <span style=\"color: #008080; text-decoration-color: #008080; font-weight: bold\">270</span>, Cells: <span style=\"color: #008080; text-decoration-color: #008080; font-weight: bold\">290</span>, Frames: <span style=\"color: #008080; text-decoration-color: #008080; font-weight: bold\">7772</span>, Max Reward: <span style=\"color: #008080; text-decoration-color: #008080; font-weight: bold\">0</span>\n",
              "</pre>\n"
            ],
            "text/plain": [
              "Iterations: \u001b[1;36m270\u001b[0m, Cells: \u001b[1;36m290\u001b[0m, Frames: \u001b[1;36m7772\u001b[0m, Max Reward: \u001b[1;36m0\u001b[0m\n"
            ]
          },
          "metadata": {
            "tags": []
          }
        },
        {
          "output_type": "display_data",
          "data": {
            "text/html": [
              "<pre style=\"white-space:pre;overflow-x:auto;line-height:normal;font-family:Menlo,'DejaVu Sans Mono',consolas,'Courier New',monospace\">Iterations: <span style=\"color: #008080; text-decoration-color: #008080; font-weight: bold\">271</span>, Cells: <span style=\"color: #008080; text-decoration-color: #008080; font-weight: bold\">290</span>, Frames: <span style=\"color: #008080; text-decoration-color: #008080; font-weight: bold\">7783</span>, Max Reward: <span style=\"color: #008080; text-decoration-color: #008080; font-weight: bold\">0</span>\n",
              "</pre>\n"
            ],
            "text/plain": [
              "Iterations: \u001b[1;36m271\u001b[0m, Cells: \u001b[1;36m290\u001b[0m, Frames: \u001b[1;36m7783\u001b[0m, Max Reward: \u001b[1;36m0\u001b[0m\n"
            ]
          },
          "metadata": {
            "tags": []
          }
        },
        {
          "output_type": "display_data",
          "data": {
            "text/html": [
              "<pre style=\"white-space:pre;overflow-x:auto;line-height:normal;font-family:Menlo,'DejaVu Sans Mono',consolas,'Courier New',monospace\">Iterations: <span style=\"color: #008080; text-decoration-color: #008080; font-weight: bold\">272</span>, Cells: <span style=\"color: #008080; text-decoration-color: #008080; font-weight: bold\">290</span>, Frames: <span style=\"color: #008080; text-decoration-color: #008080; font-weight: bold\">7787</span>, Max Reward: <span style=\"color: #008080; text-decoration-color: #008080; font-weight: bold\">0</span>\n",
              "</pre>\n"
            ],
            "text/plain": [
              "Iterations: \u001b[1;36m272\u001b[0m, Cells: \u001b[1;36m290\u001b[0m, Frames: \u001b[1;36m7787\u001b[0m, Max Reward: \u001b[1;36m0\u001b[0m\n"
            ]
          },
          "metadata": {
            "tags": []
          }
        },
        {
          "output_type": "display_data",
          "data": {
            "text/html": [
              "<pre style=\"white-space:pre;overflow-x:auto;line-height:normal;font-family:Menlo,'DejaVu Sans Mono',consolas,'Courier New',monospace\">Iterations: <span style=\"color: #008080; text-decoration-color: #008080; font-weight: bold\">273</span>, Cells: <span style=\"color: #008080; text-decoration-color: #008080; font-weight: bold\">290</span>, Frames: <span style=\"color: #008080; text-decoration-color: #008080; font-weight: bold\">7789</span>, Max Reward: <span style=\"color: #008080; text-decoration-color: #008080; font-weight: bold\">0</span>\n",
              "</pre>\n"
            ],
            "text/plain": [
              "Iterations: \u001b[1;36m273\u001b[0m, Cells: \u001b[1;36m290\u001b[0m, Frames: \u001b[1;36m7789\u001b[0m, Max Reward: \u001b[1;36m0\u001b[0m\n"
            ]
          },
          "metadata": {
            "tags": []
          }
        },
        {
          "output_type": "display_data",
          "data": {
            "text/html": [
              "<pre style=\"white-space:pre;overflow-x:auto;line-height:normal;font-family:Menlo,'DejaVu Sans Mono',consolas,'Courier New',monospace\">Iterations: <span style=\"color: #008080; text-decoration-color: #008080; font-weight: bold\">274</span>, Cells: <span style=\"color: #008080; text-decoration-color: #008080; font-weight: bold\">291</span>, Frames: <span style=\"color: #008080; text-decoration-color: #008080; font-weight: bold\">7840</span>, Max Reward: <span style=\"color: #008080; text-decoration-color: #008080; font-weight: bold\">0</span>\n",
              "</pre>\n"
            ],
            "text/plain": [
              "Iterations: \u001b[1;36m274\u001b[0m, Cells: \u001b[1;36m291\u001b[0m, Frames: \u001b[1;36m7840\u001b[0m, Max Reward: \u001b[1;36m0\u001b[0m\n"
            ]
          },
          "metadata": {
            "tags": []
          }
        },
        {
          "output_type": "display_data",
          "data": {
            "text/html": [
              "<pre style=\"white-space:pre;overflow-x:auto;line-height:normal;font-family:Menlo,'DejaVu Sans Mono',consolas,'Courier New',monospace\">Iterations: <span style=\"color: #008080; text-decoration-color: #008080; font-weight: bold\">275</span>, Cells: <span style=\"color: #008080; text-decoration-color: #008080; font-weight: bold\">292</span>, Frames: <span style=\"color: #008080; text-decoration-color: #008080; font-weight: bold\">7856</span>, Max Reward: <span style=\"color: #008080; text-decoration-color: #008080; font-weight: bold\">0</span>\n",
              "</pre>\n"
            ],
            "text/plain": [
              "Iterations: \u001b[1;36m275\u001b[0m, Cells: \u001b[1;36m292\u001b[0m, Frames: \u001b[1;36m7856\u001b[0m, Max Reward: \u001b[1;36m0\u001b[0m\n"
            ]
          },
          "metadata": {
            "tags": []
          }
        },
        {
          "output_type": "display_data",
          "data": {
            "text/html": [
              "<pre style=\"white-space:pre;overflow-x:auto;line-height:normal;font-family:Menlo,'DejaVu Sans Mono',consolas,'Courier New',monospace\">Iterations: <span style=\"color: #008080; text-decoration-color: #008080; font-weight: bold\">276</span>, Cells: <span style=\"color: #008080; text-decoration-color: #008080; font-weight: bold\">292</span>, Frames: <span style=\"color: #008080; text-decoration-color: #008080; font-weight: bold\">7864</span>, Max Reward: <span style=\"color: #008080; text-decoration-color: #008080; font-weight: bold\">0</span>\n",
              "</pre>\n"
            ],
            "text/plain": [
              "Iterations: \u001b[1;36m276\u001b[0m, Cells: \u001b[1;36m292\u001b[0m, Frames: \u001b[1;36m7864\u001b[0m, Max Reward: \u001b[1;36m0\u001b[0m\n"
            ]
          },
          "metadata": {
            "tags": []
          }
        },
        {
          "output_type": "display_data",
          "data": {
            "text/html": [
              "<pre style=\"white-space:pre;overflow-x:auto;line-height:normal;font-family:Menlo,'DejaVu Sans Mono',consolas,'Courier New',monospace\">Iterations: <span style=\"color: #008080; text-decoration-color: #008080; font-weight: bold\">277</span>, Cells: <span style=\"color: #008080; text-decoration-color: #008080; font-weight: bold\">292</span>, Frames: <span style=\"color: #008080; text-decoration-color: #008080; font-weight: bold\">7882</span>, Max Reward: <span style=\"color: #008080; text-decoration-color: #008080; font-weight: bold\">0</span>\n",
              "</pre>\n"
            ],
            "text/plain": [
              "Iterations: \u001b[1;36m277\u001b[0m, Cells: \u001b[1;36m292\u001b[0m, Frames: \u001b[1;36m7882\u001b[0m, Max Reward: \u001b[1;36m0\u001b[0m\n"
            ]
          },
          "metadata": {
            "tags": []
          }
        },
        {
          "output_type": "display_data",
          "data": {
            "text/html": [
              "<pre style=\"white-space:pre;overflow-x:auto;line-height:normal;font-family:Menlo,'DejaVu Sans Mono',consolas,'Courier New',monospace\">Iterations: <span style=\"color: #008080; text-decoration-color: #008080; font-weight: bold\">278</span>, Cells: <span style=\"color: #008080; text-decoration-color: #008080; font-weight: bold\">292</span>, Frames: <span style=\"color: #008080; text-decoration-color: #008080; font-weight: bold\">7884</span>, Max Reward: <span style=\"color: #008080; text-decoration-color: #008080; font-weight: bold\">0</span>\n",
              "</pre>\n"
            ],
            "text/plain": [
              "Iterations: \u001b[1;36m278\u001b[0m, Cells: \u001b[1;36m292\u001b[0m, Frames: \u001b[1;36m7884\u001b[0m, Max Reward: \u001b[1;36m0\u001b[0m\n"
            ]
          },
          "metadata": {
            "tags": []
          }
        },
        {
          "output_type": "display_data",
          "data": {
            "text/html": [
              "<pre style=\"white-space:pre;overflow-x:auto;line-height:normal;font-family:Menlo,'DejaVu Sans Mono',consolas,'Courier New',monospace\">Iterations: <span style=\"color: #008080; text-decoration-color: #008080; font-weight: bold\">279</span>, Cells: <span style=\"color: #008080; text-decoration-color: #008080; font-weight: bold\">292</span>, Frames: <span style=\"color: #008080; text-decoration-color: #008080; font-weight: bold\">7899</span>, Max Reward: <span style=\"color: #008080; text-decoration-color: #008080; font-weight: bold\">0</span>\n",
              "</pre>\n"
            ],
            "text/plain": [
              "Iterations: \u001b[1;36m279\u001b[0m, Cells: \u001b[1;36m292\u001b[0m, Frames: \u001b[1;36m7899\u001b[0m, Max Reward: \u001b[1;36m0\u001b[0m\n"
            ]
          },
          "metadata": {
            "tags": []
          }
        },
        {
          "output_type": "display_data",
          "data": {
            "text/html": [
              "<pre style=\"white-space:pre;overflow-x:auto;line-height:normal;font-family:Menlo,'DejaVu Sans Mono',consolas,'Courier New',monospace\">Iterations: <span style=\"color: #008080; text-decoration-color: #008080; font-weight: bold\">280</span>, Cells: <span style=\"color: #008080; text-decoration-color: #008080; font-weight: bold\">292</span>, Frames: <span style=\"color: #008080; text-decoration-color: #008080; font-weight: bold\">7900</span>, Max Reward: <span style=\"color: #008080; text-decoration-color: #008080; font-weight: bold\">0</span>\n",
              "</pre>\n"
            ],
            "text/plain": [
              "Iterations: \u001b[1;36m280\u001b[0m, Cells: \u001b[1;36m292\u001b[0m, Frames: \u001b[1;36m7900\u001b[0m, Max Reward: \u001b[1;36m0\u001b[0m\n"
            ]
          },
          "metadata": {
            "tags": []
          }
        },
        {
          "output_type": "display_data",
          "data": {
            "text/html": [
              "<pre style=\"white-space:pre;overflow-x:auto;line-height:normal;font-family:Menlo,'DejaVu Sans Mono',consolas,'Courier New',monospace\">Iterations: <span style=\"color: #008080; text-decoration-color: #008080; font-weight: bold\">281</span>, Cells: <span style=\"color: #008080; text-decoration-color: #008080; font-weight: bold\">292</span>, Frames: <span style=\"color: #008080; text-decoration-color: #008080; font-weight: bold\">7908</span>, Max Reward: <span style=\"color: #008080; text-decoration-color: #008080; font-weight: bold\">0</span>\n",
              "</pre>\n"
            ],
            "text/plain": [
              "Iterations: \u001b[1;36m281\u001b[0m, Cells: \u001b[1;36m292\u001b[0m, Frames: \u001b[1;36m7908\u001b[0m, Max Reward: \u001b[1;36m0\u001b[0m\n"
            ]
          },
          "metadata": {
            "tags": []
          }
        },
        {
          "output_type": "display_data",
          "data": {
            "text/html": [
              "<pre style=\"white-space:pre;overflow-x:auto;line-height:normal;font-family:Menlo,'DejaVu Sans Mono',consolas,'Courier New',monospace\">Iterations: <span style=\"color: #008080; text-decoration-color: #008080; font-weight: bold\">282</span>, Cells: <span style=\"color: #008080; text-decoration-color: #008080; font-weight: bold\">292</span>, Frames: <span style=\"color: #008080; text-decoration-color: #008080; font-weight: bold\">7913</span>, Max Reward: <span style=\"color: #008080; text-decoration-color: #008080; font-weight: bold\">0</span>\n",
              "</pre>\n"
            ],
            "text/plain": [
              "Iterations: \u001b[1;36m282\u001b[0m, Cells: \u001b[1;36m292\u001b[0m, Frames: \u001b[1;36m7913\u001b[0m, Max Reward: \u001b[1;36m0\u001b[0m\n"
            ]
          },
          "metadata": {
            "tags": []
          }
        },
        {
          "output_type": "display_data",
          "data": {
            "text/html": [
              "<pre style=\"white-space:pre;overflow-x:auto;line-height:normal;font-family:Menlo,'DejaVu Sans Mono',consolas,'Courier New',monospace\">Iterations: <span style=\"color: #008080; text-decoration-color: #008080; font-weight: bold\">283</span>, Cells: <span style=\"color: #008080; text-decoration-color: #008080; font-weight: bold\">292</span>, Frames: <span style=\"color: #008080; text-decoration-color: #008080; font-weight: bold\">7927</span>, Max Reward: <span style=\"color: #008080; text-decoration-color: #008080; font-weight: bold\">0</span>\n",
              "</pre>\n"
            ],
            "text/plain": [
              "Iterations: \u001b[1;36m283\u001b[0m, Cells: \u001b[1;36m292\u001b[0m, Frames: \u001b[1;36m7927\u001b[0m, Max Reward: \u001b[1;36m0\u001b[0m\n"
            ]
          },
          "metadata": {
            "tags": []
          }
        },
        {
          "output_type": "display_data",
          "data": {
            "text/html": [
              "<pre style=\"white-space:pre;overflow-x:auto;line-height:normal;font-family:Menlo,'DejaVu Sans Mono',consolas,'Courier New',monospace\">Iterations: <span style=\"color: #008080; text-decoration-color: #008080; font-weight: bold\">284</span>, Cells: <span style=\"color: #008080; text-decoration-color: #008080; font-weight: bold\">292</span>, Frames: <span style=\"color: #008080; text-decoration-color: #008080; font-weight: bold\">7931</span>, Max Reward: <span style=\"color: #008080; text-decoration-color: #008080; font-weight: bold\">0</span>\n",
              "</pre>\n"
            ],
            "text/plain": [
              "Iterations: \u001b[1;36m284\u001b[0m, Cells: \u001b[1;36m292\u001b[0m, Frames: \u001b[1;36m7931\u001b[0m, Max Reward: \u001b[1;36m0\u001b[0m\n"
            ]
          },
          "metadata": {
            "tags": []
          }
        },
        {
          "output_type": "display_data",
          "data": {
            "text/html": [
              "<pre style=\"white-space:pre;overflow-x:auto;line-height:normal;font-family:Menlo,'DejaVu Sans Mono',consolas,'Courier New',monospace\">Iterations: <span style=\"color: #008080; text-decoration-color: #008080; font-weight: bold\">285</span>, Cells: <span style=\"color: #008080; text-decoration-color: #008080; font-weight: bold\">292</span>, Frames: <span style=\"color: #008080; text-decoration-color: #008080; font-weight: bold\">7943</span>, Max Reward: <span style=\"color: #008080; text-decoration-color: #008080; font-weight: bold\">0</span>\n",
              "</pre>\n"
            ],
            "text/plain": [
              "Iterations: \u001b[1;36m285\u001b[0m, Cells: \u001b[1;36m292\u001b[0m, Frames: \u001b[1;36m7943\u001b[0m, Max Reward: \u001b[1;36m0\u001b[0m\n"
            ]
          },
          "metadata": {
            "tags": []
          }
        },
        {
          "output_type": "display_data",
          "data": {
            "text/html": [
              "<pre style=\"white-space:pre;overflow-x:auto;line-height:normal;font-family:Menlo,'DejaVu Sans Mono',consolas,'Courier New',monospace\">Iterations: <span style=\"color: #008080; text-decoration-color: #008080; font-weight: bold\">286</span>, Cells: <span style=\"color: #008080; text-decoration-color: #008080; font-weight: bold\">292</span>, Frames: <span style=\"color: #008080; text-decoration-color: #008080; font-weight: bold\">7946</span>, Max Reward: <span style=\"color: #008080; text-decoration-color: #008080; font-weight: bold\">0</span>\n",
              "</pre>\n"
            ],
            "text/plain": [
              "Iterations: \u001b[1;36m286\u001b[0m, Cells: \u001b[1;36m292\u001b[0m, Frames: \u001b[1;36m7946\u001b[0m, Max Reward: \u001b[1;36m0\u001b[0m\n"
            ]
          },
          "metadata": {
            "tags": []
          }
        },
        {
          "output_type": "display_data",
          "data": {
            "text/html": [
              "<pre style=\"white-space:pre;overflow-x:auto;line-height:normal;font-family:Menlo,'DejaVu Sans Mono',consolas,'Courier New',monospace\">Iterations: <span style=\"color: #008080; text-decoration-color: #008080; font-weight: bold\">287</span>, Cells: <span style=\"color: #008080; text-decoration-color: #008080; font-weight: bold\">293</span>, Frames: <span style=\"color: #008080; text-decoration-color: #008080; font-weight: bold\">7964</span>, Max Reward: <span style=\"color: #008080; text-decoration-color: #008080; font-weight: bold\">0</span>\n",
              "</pre>\n"
            ],
            "text/plain": [
              "Iterations: \u001b[1;36m287\u001b[0m, Cells: \u001b[1;36m293\u001b[0m, Frames: \u001b[1;36m7964\u001b[0m, Max Reward: \u001b[1;36m0\u001b[0m\n"
            ]
          },
          "metadata": {
            "tags": []
          }
        },
        {
          "output_type": "display_data",
          "data": {
            "text/html": [
              "<pre style=\"white-space:pre;overflow-x:auto;line-height:normal;font-family:Menlo,'DejaVu Sans Mono',consolas,'Courier New',monospace\">Iterations: <span style=\"color: #008080; text-decoration-color: #008080; font-weight: bold\">288</span>, Cells: <span style=\"color: #008080; text-decoration-color: #008080; font-weight: bold\">293</span>, Frames: <span style=\"color: #008080; text-decoration-color: #008080; font-weight: bold\">7974</span>, Max Reward: <span style=\"color: #008080; text-decoration-color: #008080; font-weight: bold\">0</span>\n",
              "</pre>\n"
            ],
            "text/plain": [
              "Iterations: \u001b[1;36m288\u001b[0m, Cells: \u001b[1;36m293\u001b[0m, Frames: \u001b[1;36m7974\u001b[0m, Max Reward: \u001b[1;36m0\u001b[0m\n"
            ]
          },
          "metadata": {
            "tags": []
          }
        },
        {
          "output_type": "display_data",
          "data": {
            "text/html": [
              "<pre style=\"white-space:pre;overflow-x:auto;line-height:normal;font-family:Menlo,'DejaVu Sans Mono',consolas,'Courier New',monospace\">Iterations: <span style=\"color: #008080; text-decoration-color: #008080; font-weight: bold\">289</span>, Cells: <span style=\"color: #008080; text-decoration-color: #008080; font-weight: bold\">294</span>, Frames: <span style=\"color: #008080; text-decoration-color: #008080; font-weight: bold\">8008</span>, Max Reward: <span style=\"color: #008080; text-decoration-color: #008080; font-weight: bold\">0</span>\n",
              "</pre>\n"
            ],
            "text/plain": [
              "Iterations: \u001b[1;36m289\u001b[0m, Cells: \u001b[1;36m294\u001b[0m, Frames: \u001b[1;36m8008\u001b[0m, Max Reward: \u001b[1;36m0\u001b[0m\n"
            ]
          },
          "metadata": {
            "tags": []
          }
        },
        {
          "output_type": "display_data",
          "data": {
            "text/html": [
              "<pre style=\"white-space:pre;overflow-x:auto;line-height:normal;font-family:Menlo,'DejaVu Sans Mono',consolas,'Courier New',monospace\">Iterations: <span style=\"color: #008080; text-decoration-color: #008080; font-weight: bold\">290</span>, Cells: <span style=\"color: #008080; text-decoration-color: #008080; font-weight: bold\">294</span>, Frames: <span style=\"color: #008080; text-decoration-color: #008080; font-weight: bold\">8073</span>, Max Reward: <span style=\"color: #008080; text-decoration-color: #008080; font-weight: bold\">0</span>\n",
              "</pre>\n"
            ],
            "text/plain": [
              "Iterations: \u001b[1;36m290\u001b[0m, Cells: \u001b[1;36m294\u001b[0m, Frames: \u001b[1;36m8073\u001b[0m, Max Reward: \u001b[1;36m0\u001b[0m\n"
            ]
          },
          "metadata": {
            "tags": []
          }
        },
        {
          "output_type": "display_data",
          "data": {
            "text/html": [
              "<pre style=\"white-space:pre;overflow-x:auto;line-height:normal;font-family:Menlo,'DejaVu Sans Mono',consolas,'Courier New',monospace\">Iterations: <span style=\"color: #008080; text-decoration-color: #008080; font-weight: bold\">293</span>, Cells: <span style=\"color: #008080; text-decoration-color: #008080; font-weight: bold\">298</span>, Frames: <span style=\"color: #008080; text-decoration-color: #008080; font-weight: bold\">8277</span>, Max Reward: <span style=\"color: #008080; text-decoration-color: #008080; font-weight: bold\">0</span>\n",
              "</pre>\n"
            ],
            "text/plain": [
              "Iterations: \u001b[1;36m293\u001b[0m, Cells: \u001b[1;36m298\u001b[0m, Frames: \u001b[1;36m8277\u001b[0m, Max Reward: \u001b[1;36m0\u001b[0m\n"
            ]
          },
          "metadata": {
            "tags": []
          }
        },
        {
          "output_type": "display_data",
          "data": {
            "text/html": [
              "<pre style=\"white-space:pre;overflow-x:auto;line-height:normal;font-family:Menlo,'DejaVu Sans Mono',consolas,'Courier New',monospace\">Iterations: <span style=\"color: #008080; text-decoration-color: #008080; font-weight: bold\">294</span>, Cells: <span style=\"color: #008080; text-decoration-color: #008080; font-weight: bold\">298</span>, Frames: <span style=\"color: #008080; text-decoration-color: #008080; font-weight: bold\">8296</span>, Max Reward: <span style=\"color: #008080; text-decoration-color: #008080; font-weight: bold\">0</span>\n",
              "</pre>\n"
            ],
            "text/plain": [
              "Iterations: \u001b[1;36m294\u001b[0m, Cells: \u001b[1;36m298\u001b[0m, Frames: \u001b[1;36m8296\u001b[0m, Max Reward: \u001b[1;36m0\u001b[0m\n"
            ]
          },
          "metadata": {
            "tags": []
          }
        },
        {
          "output_type": "display_data",
          "data": {
            "text/html": [
              "<pre style=\"white-space:pre;overflow-x:auto;line-height:normal;font-family:Menlo,'DejaVu Sans Mono',consolas,'Courier New',monospace\">Iterations: <span style=\"color: #008080; text-decoration-color: #008080; font-weight: bold\">295</span>, Cells: <span style=\"color: #008080; text-decoration-color: #008080; font-weight: bold\">300</span>, Frames: <span style=\"color: #008080; text-decoration-color: #008080; font-weight: bold\">8396</span>, Max Reward: <span style=\"color: #008080; text-decoration-color: #008080; font-weight: bold\">0</span>\n",
              "</pre>\n"
            ],
            "text/plain": [
              "Iterations: \u001b[1;36m295\u001b[0m, Cells: \u001b[1;36m300\u001b[0m, Frames: \u001b[1;36m8396\u001b[0m, Max Reward: \u001b[1;36m0\u001b[0m\n"
            ]
          },
          "metadata": {
            "tags": []
          }
        },
        {
          "output_type": "display_data",
          "data": {
            "text/html": [
              "<pre style=\"white-space:pre;overflow-x:auto;line-height:normal;font-family:Menlo,'DejaVu Sans Mono',consolas,'Courier New',monospace\">Iterations: <span style=\"color: #008080; text-decoration-color: #008080; font-weight: bold\">296</span>, Cells: <span style=\"color: #008080; text-decoration-color: #008080; font-weight: bold\">300</span>, Frames: <span style=\"color: #008080; text-decoration-color: #008080; font-weight: bold\">8429</span>, Max Reward: <span style=\"color: #008080; text-decoration-color: #008080; font-weight: bold\">0</span>\n",
              "</pre>\n"
            ],
            "text/plain": [
              "Iterations: \u001b[1;36m296\u001b[0m, Cells: \u001b[1;36m300\u001b[0m, Frames: \u001b[1;36m8429\u001b[0m, Max Reward: \u001b[1;36m0\u001b[0m\n"
            ]
          },
          "metadata": {
            "tags": []
          }
        },
        {
          "output_type": "display_data",
          "data": {
            "text/html": [
              "<pre style=\"white-space:pre;overflow-x:auto;line-height:normal;font-family:Menlo,'DejaVu Sans Mono',consolas,'Courier New',monospace\">Iterations: <span style=\"color: #008080; text-decoration-color: #008080; font-weight: bold\">297</span>, Cells: <span style=\"color: #008080; text-decoration-color: #008080; font-weight: bold\">300</span>, Frames: <span style=\"color: #008080; text-decoration-color: #008080; font-weight: bold\">8430</span>, Max Reward: <span style=\"color: #008080; text-decoration-color: #008080; font-weight: bold\">0</span>\n",
              "</pre>\n"
            ],
            "text/plain": [
              "Iterations: \u001b[1;36m297\u001b[0m, Cells: \u001b[1;36m300\u001b[0m, Frames: \u001b[1;36m8430\u001b[0m, Max Reward: \u001b[1;36m0\u001b[0m\n"
            ]
          },
          "metadata": {
            "tags": []
          }
        },
        {
          "output_type": "display_data",
          "data": {
            "text/html": [
              "<pre style=\"white-space:pre;overflow-x:auto;line-height:normal;font-family:Menlo,'DejaVu Sans Mono',consolas,'Courier New',monospace\">Iterations: <span style=\"color: #008080; text-decoration-color: #008080; font-weight: bold\">298</span>, Cells: <span style=\"color: #008080; text-decoration-color: #008080; font-weight: bold\">300</span>, Frames: <span style=\"color: #008080; text-decoration-color: #008080; font-weight: bold\">8508</span>, Max Reward: <span style=\"color: #008080; text-decoration-color: #008080; font-weight: bold\">0</span>\n",
              "</pre>\n"
            ],
            "text/plain": [
              "Iterations: \u001b[1;36m298\u001b[0m, Cells: \u001b[1;36m300\u001b[0m, Frames: \u001b[1;36m8508\u001b[0m, Max Reward: \u001b[1;36m0\u001b[0m\n"
            ]
          },
          "metadata": {
            "tags": []
          }
        },
        {
          "output_type": "display_data",
          "data": {
            "text/html": [
              "<pre style=\"white-space:pre;overflow-x:auto;line-height:normal;font-family:Menlo,'DejaVu Sans Mono',consolas,'Courier New',monospace\">Iterations: <span style=\"color: #008080; text-decoration-color: #008080; font-weight: bold\">300</span>, Cells: <span style=\"color: #008080; text-decoration-color: #008080; font-weight: bold\">300</span>, Frames: <span style=\"color: #008080; text-decoration-color: #008080; font-weight: bold\">8541</span>, Max Reward: <span style=\"color: #008080; text-decoration-color: #008080; font-weight: bold\">0</span>\n",
              "</pre>\n"
            ],
            "text/plain": [
              "Iterations: \u001b[1;36m300\u001b[0m, Cells: \u001b[1;36m300\u001b[0m, Frames: \u001b[1;36m8541\u001b[0m, Max Reward: \u001b[1;36m0\u001b[0m\n"
            ]
          },
          "metadata": {
            "tags": []
          }
        },
        {
          "output_type": "display_data",
          "data": {
            "text/html": [
              "<pre style=\"white-space:pre;overflow-x:auto;line-height:normal;font-family:Menlo,'DejaVu Sans Mono',consolas,'Courier New',monospace\">Iterations: <span style=\"color: #008080; text-decoration-color: #008080; font-weight: bold\">301</span>, Cells: <span style=\"color: #008080; text-decoration-color: #008080; font-weight: bold\">300</span>, Frames: <span style=\"color: #008080; text-decoration-color: #008080; font-weight: bold\">8547</span>, Max Reward: <span style=\"color: #008080; text-decoration-color: #008080; font-weight: bold\">0</span>\n",
              "</pre>\n"
            ],
            "text/plain": [
              "Iterations: \u001b[1;36m301\u001b[0m, Cells: \u001b[1;36m300\u001b[0m, Frames: \u001b[1;36m8547\u001b[0m, Max Reward: \u001b[1;36m0\u001b[0m\n"
            ]
          },
          "metadata": {
            "tags": []
          }
        },
        {
          "output_type": "display_data",
          "data": {
            "text/html": [
              "<pre style=\"white-space:pre;overflow-x:auto;line-height:normal;font-family:Menlo,'DejaVu Sans Mono',consolas,'Courier New',monospace\">Iterations: <span style=\"color: #008080; text-decoration-color: #008080; font-weight: bold\">302</span>, Cells: <span style=\"color: #008080; text-decoration-color: #008080; font-weight: bold\">300</span>, Frames: <span style=\"color: #008080; text-decoration-color: #008080; font-weight: bold\">8585</span>, Max Reward: <span style=\"color: #008080; text-decoration-color: #008080; font-weight: bold\">0</span>\n",
              "</pre>\n"
            ],
            "text/plain": [
              "Iterations: \u001b[1;36m302\u001b[0m, Cells: \u001b[1;36m300\u001b[0m, Frames: \u001b[1;36m8585\u001b[0m, Max Reward: \u001b[1;36m0\u001b[0m\n"
            ]
          },
          "metadata": {
            "tags": []
          }
        },
        {
          "output_type": "display_data",
          "data": {
            "text/html": [
              "<pre style=\"white-space:pre;overflow-x:auto;line-height:normal;font-family:Menlo,'DejaVu Sans Mono',consolas,'Courier New',monospace\">Iterations: <span style=\"color: #008080; text-decoration-color: #008080; font-weight: bold\">303</span>, Cells: <span style=\"color: #008080; text-decoration-color: #008080; font-weight: bold\">300</span>, Frames: <span style=\"color: #008080; text-decoration-color: #008080; font-weight: bold\">8599</span>, Max Reward: <span style=\"color: #008080; text-decoration-color: #008080; font-weight: bold\">0</span>\n",
              "</pre>\n"
            ],
            "text/plain": [
              "Iterations: \u001b[1;36m303\u001b[0m, Cells: \u001b[1;36m300\u001b[0m, Frames: \u001b[1;36m8599\u001b[0m, Max Reward: \u001b[1;36m0\u001b[0m\n"
            ]
          },
          "metadata": {
            "tags": []
          }
        },
        {
          "output_type": "display_data",
          "data": {
            "text/html": [
              "<pre style=\"white-space:pre;overflow-x:auto;line-height:normal;font-family:Menlo,'DejaVu Sans Mono',consolas,'Courier New',monospace\">Iterations: <span style=\"color: #008080; text-decoration-color: #008080; font-weight: bold\">304</span>, Cells: <span style=\"color: #008080; text-decoration-color: #008080; font-weight: bold\">300</span>, Frames: <span style=\"color: #008080; text-decoration-color: #008080; font-weight: bold\">8629</span>, Max Reward: <span style=\"color: #008080; text-decoration-color: #008080; font-weight: bold\">0</span>\n",
              "</pre>\n"
            ],
            "text/plain": [
              "Iterations: \u001b[1;36m304\u001b[0m, Cells: \u001b[1;36m300\u001b[0m, Frames: \u001b[1;36m8629\u001b[0m, Max Reward: \u001b[1;36m0\u001b[0m\n"
            ]
          },
          "metadata": {
            "tags": []
          }
        },
        {
          "output_type": "display_data",
          "data": {
            "text/html": [
              "<pre style=\"white-space:pre;overflow-x:auto;line-height:normal;font-family:Menlo,'DejaVu Sans Mono',consolas,'Courier New',monospace\">Iterations: <span style=\"color: #008080; text-decoration-color: #008080; font-weight: bold\">305</span>, Cells: <span style=\"color: #008080; text-decoration-color: #008080; font-weight: bold\">301</span>, Frames: <span style=\"color: #008080; text-decoration-color: #008080; font-weight: bold\">8637</span>, Max Reward: <span style=\"color: #008080; text-decoration-color: #008080; font-weight: bold\">0</span>\n",
              "</pre>\n"
            ],
            "text/plain": [
              "Iterations: \u001b[1;36m305\u001b[0m, Cells: \u001b[1;36m301\u001b[0m, Frames: \u001b[1;36m8637\u001b[0m, Max Reward: \u001b[1;36m0\u001b[0m\n"
            ]
          },
          "metadata": {
            "tags": []
          }
        },
        {
          "output_type": "display_data",
          "data": {
            "text/html": [
              "<pre style=\"white-space:pre;overflow-x:auto;line-height:normal;font-family:Menlo,'DejaVu Sans Mono',consolas,'Courier New',monospace\">Iterations: <span style=\"color: #008080; text-decoration-color: #008080; font-weight: bold\">306</span>, Cells: <span style=\"color: #008080; text-decoration-color: #008080; font-weight: bold\">301</span>, Frames: <span style=\"color: #008080; text-decoration-color: #008080; font-weight: bold\">8649</span>, Max Reward: <span style=\"color: #008080; text-decoration-color: #008080; font-weight: bold\">0</span>\n",
              "</pre>\n"
            ],
            "text/plain": [
              "Iterations: \u001b[1;36m306\u001b[0m, Cells: \u001b[1;36m301\u001b[0m, Frames: \u001b[1;36m8649\u001b[0m, Max Reward: \u001b[1;36m0\u001b[0m\n"
            ]
          },
          "metadata": {
            "tags": []
          }
        },
        {
          "output_type": "display_data",
          "data": {
            "text/html": [
              "<pre style=\"white-space:pre;overflow-x:auto;line-height:normal;font-family:Menlo,'DejaVu Sans Mono',consolas,'Courier New',monospace\">Iterations: <span style=\"color: #008080; text-decoration-color: #008080; font-weight: bold\">307</span>, Cells: <span style=\"color: #008080; text-decoration-color: #008080; font-weight: bold\">301</span>, Frames: <span style=\"color: #008080; text-decoration-color: #008080; font-weight: bold\">8652</span>, Max Reward: <span style=\"color: #008080; text-decoration-color: #008080; font-weight: bold\">0</span>\n",
              "</pre>\n"
            ],
            "text/plain": [
              "Iterations: \u001b[1;36m307\u001b[0m, Cells: \u001b[1;36m301\u001b[0m, Frames: \u001b[1;36m8652\u001b[0m, Max Reward: \u001b[1;36m0\u001b[0m\n"
            ]
          },
          "metadata": {
            "tags": []
          }
        },
        {
          "output_type": "display_data",
          "data": {
            "text/html": [
              "<pre style=\"white-space:pre;overflow-x:auto;line-height:normal;font-family:Menlo,'DejaVu Sans Mono',consolas,'Courier New',monospace\">Iterations: <span style=\"color: #008080; text-decoration-color: #008080; font-weight: bold\">308</span>, Cells: <span style=\"color: #008080; text-decoration-color: #008080; font-weight: bold\">301</span>, Frames: <span style=\"color: #008080; text-decoration-color: #008080; font-weight: bold\">8655</span>, Max Reward: <span style=\"color: #008080; text-decoration-color: #008080; font-weight: bold\">0</span>\n",
              "</pre>\n"
            ],
            "text/plain": [
              "Iterations: \u001b[1;36m308\u001b[0m, Cells: \u001b[1;36m301\u001b[0m, Frames: \u001b[1;36m8655\u001b[0m, Max Reward: \u001b[1;36m0\u001b[0m\n"
            ]
          },
          "metadata": {
            "tags": []
          }
        },
        {
          "output_type": "display_data",
          "data": {
            "text/html": [
              "<pre style=\"white-space:pre;overflow-x:auto;line-height:normal;font-family:Menlo,'DejaVu Sans Mono',consolas,'Courier New',monospace\">Iterations: <span style=\"color: #008080; text-decoration-color: #008080; font-weight: bold\">309</span>, Cells: <span style=\"color: #008080; text-decoration-color: #008080; font-weight: bold\">301</span>, Frames: <span style=\"color: #008080; text-decoration-color: #008080; font-weight: bold\">8665</span>, Max Reward: <span style=\"color: #008080; text-decoration-color: #008080; font-weight: bold\">0</span>\n",
              "</pre>\n"
            ],
            "text/plain": [
              "Iterations: \u001b[1;36m309\u001b[0m, Cells: \u001b[1;36m301\u001b[0m, Frames: \u001b[1;36m8665\u001b[0m, Max Reward: \u001b[1;36m0\u001b[0m\n"
            ]
          },
          "metadata": {
            "tags": []
          }
        },
        {
          "output_type": "display_data",
          "data": {
            "text/html": [
              "<pre style=\"white-space:pre;overflow-x:auto;line-height:normal;font-family:Menlo,'DejaVu Sans Mono',consolas,'Courier New',monospace\">Iterations: <span style=\"color: #008080; text-decoration-color: #008080; font-weight: bold\">310</span>, Cells: <span style=\"color: #008080; text-decoration-color: #008080; font-weight: bold\">301</span>, Frames: <span style=\"color: #008080; text-decoration-color: #008080; font-weight: bold\">8679</span>, Max Reward: <span style=\"color: #008080; text-decoration-color: #008080; font-weight: bold\">0</span>\n",
              "</pre>\n"
            ],
            "text/plain": [
              "Iterations: \u001b[1;36m310\u001b[0m, Cells: \u001b[1;36m301\u001b[0m, Frames: \u001b[1;36m8679\u001b[0m, Max Reward: \u001b[1;36m0\u001b[0m\n"
            ]
          },
          "metadata": {
            "tags": []
          }
        },
        {
          "output_type": "display_data",
          "data": {
            "text/html": [
              "<pre style=\"white-space:pre;overflow-x:auto;line-height:normal;font-family:Menlo,'DejaVu Sans Mono',consolas,'Courier New',monospace\">Iterations: <span style=\"color: #008080; text-decoration-color: #008080; font-weight: bold\">311</span>, Cells: <span style=\"color: #008080; text-decoration-color: #008080; font-weight: bold\">302</span>, Frames: <span style=\"color: #008080; text-decoration-color: #008080; font-weight: bold\">8690</span>, Max Reward: <span style=\"color: #008080; text-decoration-color: #008080; font-weight: bold\">0</span>\n",
              "</pre>\n"
            ],
            "text/plain": [
              "Iterations: \u001b[1;36m311\u001b[0m, Cells: \u001b[1;36m302\u001b[0m, Frames: \u001b[1;36m8690\u001b[0m, Max Reward: \u001b[1;36m0\u001b[0m\n"
            ]
          },
          "metadata": {
            "tags": []
          }
        },
        {
          "output_type": "display_data",
          "data": {
            "text/html": [
              "<pre style=\"white-space:pre;overflow-x:auto;line-height:normal;font-family:Menlo,'DejaVu Sans Mono',consolas,'Courier New',monospace\">Iterations: <span style=\"color: #008080; text-decoration-color: #008080; font-weight: bold\">312</span>, Cells: <span style=\"color: #008080; text-decoration-color: #008080; font-weight: bold\">302</span>, Frames: <span style=\"color: #008080; text-decoration-color: #008080; font-weight: bold\">8789</span>, Max Reward: <span style=\"color: #008080; text-decoration-color: #008080; font-weight: bold\">0</span>\n",
              "</pre>\n"
            ],
            "text/plain": [
              "Iterations: \u001b[1;36m312\u001b[0m, Cells: \u001b[1;36m302\u001b[0m, Frames: \u001b[1;36m8789\u001b[0m, Max Reward: \u001b[1;36m0\u001b[0m\n"
            ]
          },
          "metadata": {
            "tags": []
          }
        },
        {
          "output_type": "display_data",
          "data": {
            "text/html": [
              "<pre style=\"white-space:pre;overflow-x:auto;line-height:normal;font-family:Menlo,'DejaVu Sans Mono',consolas,'Courier New',monospace\">Iterations: <span style=\"color: #008080; text-decoration-color: #008080; font-weight: bold\">313</span>, Cells: <span style=\"color: #008080; text-decoration-color: #008080; font-weight: bold\">302</span>, Frames: <span style=\"color: #008080; text-decoration-color: #008080; font-weight: bold\">8791</span>, Max Reward: <span style=\"color: #008080; text-decoration-color: #008080; font-weight: bold\">0</span>\n",
              "</pre>\n"
            ],
            "text/plain": [
              "Iterations: \u001b[1;36m313\u001b[0m, Cells: \u001b[1;36m302\u001b[0m, Frames: \u001b[1;36m8791\u001b[0m, Max Reward: \u001b[1;36m0\u001b[0m\n"
            ]
          },
          "metadata": {
            "tags": []
          }
        },
        {
          "output_type": "display_data",
          "data": {
            "text/html": [
              "<pre style=\"white-space:pre;overflow-x:auto;line-height:normal;font-family:Menlo,'DejaVu Sans Mono',consolas,'Courier New',monospace\">Iterations: <span style=\"color: #008080; text-decoration-color: #008080; font-weight: bold\">314</span>, Cells: <span style=\"color: #008080; text-decoration-color: #008080; font-weight: bold\">303</span>, Frames: <span style=\"color: #008080; text-decoration-color: #008080; font-weight: bold\">8807</span>, Max Reward: <span style=\"color: #008080; text-decoration-color: #008080; font-weight: bold\">0</span>\n",
              "</pre>\n"
            ],
            "text/plain": [
              "Iterations: \u001b[1;36m314\u001b[0m, Cells: \u001b[1;36m303\u001b[0m, Frames: \u001b[1;36m8807\u001b[0m, Max Reward: \u001b[1;36m0\u001b[0m\n"
            ]
          },
          "metadata": {
            "tags": []
          }
        },
        {
          "output_type": "display_data",
          "data": {
            "text/html": [
              "<pre style=\"white-space:pre;overflow-x:auto;line-height:normal;font-family:Menlo,'DejaVu Sans Mono',consolas,'Courier New',monospace\">Iterations: <span style=\"color: #008080; text-decoration-color: #008080; font-weight: bold\">315</span>, Cells: <span style=\"color: #008080; text-decoration-color: #008080; font-weight: bold\">303</span>, Frames: <span style=\"color: #008080; text-decoration-color: #008080; font-weight: bold\">8816</span>, Max Reward: <span style=\"color: #008080; text-decoration-color: #008080; font-weight: bold\">0</span>\n",
              "</pre>\n"
            ],
            "text/plain": [
              "Iterations: \u001b[1;36m315\u001b[0m, Cells: \u001b[1;36m303\u001b[0m, Frames: \u001b[1;36m8816\u001b[0m, Max Reward: \u001b[1;36m0\u001b[0m\n"
            ]
          },
          "metadata": {
            "tags": []
          }
        },
        {
          "output_type": "display_data",
          "data": {
            "text/html": [
              "<pre style=\"white-space:pre;overflow-x:auto;line-height:normal;font-family:Menlo,'DejaVu Sans Mono',consolas,'Courier New',monospace\">Iterations: <span style=\"color: #008080; text-decoration-color: #008080; font-weight: bold\">316</span>, Cells: <span style=\"color: #008080; text-decoration-color: #008080; font-weight: bold\">303</span>, Frames: <span style=\"color: #008080; text-decoration-color: #008080; font-weight: bold\">8848</span>, Max Reward: <span style=\"color: #008080; text-decoration-color: #008080; font-weight: bold\">0</span>\n",
              "</pre>\n"
            ],
            "text/plain": [
              "Iterations: \u001b[1;36m316\u001b[0m, Cells: \u001b[1;36m303\u001b[0m, Frames: \u001b[1;36m8848\u001b[0m, Max Reward: \u001b[1;36m0\u001b[0m\n"
            ]
          },
          "metadata": {
            "tags": []
          }
        },
        {
          "output_type": "display_data",
          "data": {
            "text/html": [
              "<pre style=\"white-space:pre;overflow-x:auto;line-height:normal;font-family:Menlo,'DejaVu Sans Mono',consolas,'Courier New',monospace\">Iterations: <span style=\"color: #008080; text-decoration-color: #008080; font-weight: bold\">318</span>, Cells: <span style=\"color: #008080; text-decoration-color: #008080; font-weight: bold\">303</span>, Frames: <span style=\"color: #008080; text-decoration-color: #008080; font-weight: bold\">8889</span>, Max Reward: <span style=\"color: #008080; text-decoration-color: #008080; font-weight: bold\">0</span>\n",
              "</pre>\n"
            ],
            "text/plain": [
              "Iterations: \u001b[1;36m318\u001b[0m, Cells: \u001b[1;36m303\u001b[0m, Frames: \u001b[1;36m8889\u001b[0m, Max Reward: \u001b[1;36m0\u001b[0m\n"
            ]
          },
          "metadata": {
            "tags": []
          }
        },
        {
          "output_type": "display_data",
          "data": {
            "text/html": [
              "<pre style=\"white-space:pre;overflow-x:auto;line-height:normal;font-family:Menlo,'DejaVu Sans Mono',consolas,'Courier New',monospace\">Iterations: <span style=\"color: #008080; text-decoration-color: #008080; font-weight: bold\">319</span>, Cells: <span style=\"color: #008080; text-decoration-color: #008080; font-weight: bold\">303</span>, Frames: <span style=\"color: #008080; text-decoration-color: #008080; font-weight: bold\">8903</span>, Max Reward: <span style=\"color: #008080; text-decoration-color: #008080; font-weight: bold\">0</span>\n",
              "</pre>\n"
            ],
            "text/plain": [
              "Iterations: \u001b[1;36m319\u001b[0m, Cells: \u001b[1;36m303\u001b[0m, Frames: \u001b[1;36m8903\u001b[0m, Max Reward: \u001b[1;36m0\u001b[0m\n"
            ]
          },
          "metadata": {
            "tags": []
          }
        },
        {
          "output_type": "display_data",
          "data": {
            "text/html": [
              "<pre style=\"white-space:pre;overflow-x:auto;line-height:normal;font-family:Menlo,'DejaVu Sans Mono',consolas,'Courier New',monospace\">Iterations: <span style=\"color: #008080; text-decoration-color: #008080; font-weight: bold\">320</span>, Cells: <span style=\"color: #008080; text-decoration-color: #008080; font-weight: bold\">303</span>, Frames: <span style=\"color: #008080; text-decoration-color: #008080; font-weight: bold\">8908</span>, Max Reward: <span style=\"color: #008080; text-decoration-color: #008080; font-weight: bold\">0</span>\n",
              "</pre>\n"
            ],
            "text/plain": [
              "Iterations: \u001b[1;36m320\u001b[0m, Cells: \u001b[1;36m303\u001b[0m, Frames: \u001b[1;36m8908\u001b[0m, Max Reward: \u001b[1;36m0\u001b[0m\n"
            ]
          },
          "metadata": {
            "tags": []
          }
        },
        {
          "output_type": "display_data",
          "data": {
            "text/html": [
              "<pre style=\"white-space:pre;overflow-x:auto;line-height:normal;font-family:Menlo,'DejaVu Sans Mono',consolas,'Courier New',monospace\">Iterations: <span style=\"color: #008080; text-decoration-color: #008080; font-weight: bold\">321</span>, Cells: <span style=\"color: #008080; text-decoration-color: #008080; font-weight: bold\">304</span>, Frames: <span style=\"color: #008080; text-decoration-color: #008080; font-weight: bold\">8963</span>, Max Reward: <span style=\"color: #008080; text-decoration-color: #008080; font-weight: bold\">0</span>\n",
              "</pre>\n"
            ],
            "text/plain": [
              "Iterations: \u001b[1;36m321\u001b[0m, Cells: \u001b[1;36m304\u001b[0m, Frames: \u001b[1;36m8963\u001b[0m, Max Reward: \u001b[1;36m0\u001b[0m\n"
            ]
          },
          "metadata": {
            "tags": []
          }
        },
        {
          "output_type": "display_data",
          "data": {
            "text/html": [
              "<pre style=\"white-space:pre;overflow-x:auto;line-height:normal;font-family:Menlo,'DejaVu Sans Mono',consolas,'Courier New',monospace\">Iterations: <span style=\"color: #008080; text-decoration-color: #008080; font-weight: bold\">322</span>, Cells: <span style=\"color: #008080; text-decoration-color: #008080; font-weight: bold\">304</span>, Frames: <span style=\"color: #008080; text-decoration-color: #008080; font-weight: bold\">8973</span>, Max Reward: <span style=\"color: #008080; text-decoration-color: #008080; font-weight: bold\">0</span>\n",
              "</pre>\n"
            ],
            "text/plain": [
              "Iterations: \u001b[1;36m322\u001b[0m, Cells: \u001b[1;36m304\u001b[0m, Frames: \u001b[1;36m8973\u001b[0m, Max Reward: \u001b[1;36m0\u001b[0m\n"
            ]
          },
          "metadata": {
            "tags": []
          }
        },
        {
          "output_type": "display_data",
          "data": {
            "text/html": [
              "<pre style=\"white-space:pre;overflow-x:auto;line-height:normal;font-family:Menlo,'DejaVu Sans Mono',consolas,'Courier New',monospace\">Iterations: <span style=\"color: #008080; text-decoration-color: #008080; font-weight: bold\">323</span>, Cells: <span style=\"color: #008080; text-decoration-color: #008080; font-weight: bold\">304</span>, Frames: <span style=\"color: #008080; text-decoration-color: #008080; font-weight: bold\">8975</span>, Max Reward: <span style=\"color: #008080; text-decoration-color: #008080; font-weight: bold\">0</span>\n",
              "</pre>\n"
            ],
            "text/plain": [
              "Iterations: \u001b[1;36m323\u001b[0m, Cells: \u001b[1;36m304\u001b[0m, Frames: \u001b[1;36m8975\u001b[0m, Max Reward: \u001b[1;36m0\u001b[0m\n"
            ]
          },
          "metadata": {
            "tags": []
          }
        },
        {
          "output_type": "display_data",
          "data": {
            "text/html": [
              "<pre style=\"white-space:pre;overflow-x:auto;line-height:normal;font-family:Menlo,'DejaVu Sans Mono',consolas,'Courier New',monospace\">Iterations: <span style=\"color: #008080; text-decoration-color: #008080; font-weight: bold\">324</span>, Cells: <span style=\"color: #008080; text-decoration-color: #008080; font-weight: bold\">304</span>, Frames: <span style=\"color: #008080; text-decoration-color: #008080; font-weight: bold\">8986</span>, Max Reward: <span style=\"color: #008080; text-decoration-color: #008080; font-weight: bold\">0</span>\n",
              "</pre>\n"
            ],
            "text/plain": [
              "Iterations: \u001b[1;36m324\u001b[0m, Cells: \u001b[1;36m304\u001b[0m, Frames: \u001b[1;36m8986\u001b[0m, Max Reward: \u001b[1;36m0\u001b[0m\n"
            ]
          },
          "metadata": {
            "tags": []
          }
        },
        {
          "output_type": "display_data",
          "data": {
            "text/html": [
              "<pre style=\"white-space:pre;overflow-x:auto;line-height:normal;font-family:Menlo,'DejaVu Sans Mono',consolas,'Courier New',monospace\">Iterations: <span style=\"color: #008080; text-decoration-color: #008080; font-weight: bold\">325</span>, Cells: <span style=\"color: #008080; text-decoration-color: #008080; font-weight: bold\">304</span>, Frames: <span style=\"color: #008080; text-decoration-color: #008080; font-weight: bold\">8990</span>, Max Reward: <span style=\"color: #008080; text-decoration-color: #008080; font-weight: bold\">0</span>\n",
              "</pre>\n"
            ],
            "text/plain": [
              "Iterations: \u001b[1;36m325\u001b[0m, Cells: \u001b[1;36m304\u001b[0m, Frames: \u001b[1;36m8990\u001b[0m, Max Reward: \u001b[1;36m0\u001b[0m\n"
            ]
          },
          "metadata": {
            "tags": []
          }
        },
        {
          "output_type": "display_data",
          "data": {
            "text/html": [
              "<pre style=\"white-space:pre;overflow-x:auto;line-height:normal;font-family:Menlo,'DejaVu Sans Mono',consolas,'Courier New',monospace\">Iterations: <span style=\"color: #008080; text-decoration-color: #008080; font-weight: bold\">326</span>, Cells: <span style=\"color: #008080; text-decoration-color: #008080; font-weight: bold\">304</span>, Frames: <span style=\"color: #008080; text-decoration-color: #008080; font-weight: bold\">9020</span>, Max Reward: <span style=\"color: #008080; text-decoration-color: #008080; font-weight: bold\">0</span>\n",
              "</pre>\n"
            ],
            "text/plain": [
              "Iterations: \u001b[1;36m326\u001b[0m, Cells: \u001b[1;36m304\u001b[0m, Frames: \u001b[1;36m9020\u001b[0m, Max Reward: \u001b[1;36m0\u001b[0m\n"
            ]
          },
          "metadata": {
            "tags": []
          }
        },
        {
          "output_type": "display_data",
          "data": {
            "text/html": [
              "<pre style=\"white-space:pre;overflow-x:auto;line-height:normal;font-family:Menlo,'DejaVu Sans Mono',consolas,'Courier New',monospace\">Iterations: <span style=\"color: #008080; text-decoration-color: #008080; font-weight: bold\">327</span>, Cells: <span style=\"color: #008080; text-decoration-color: #008080; font-weight: bold\">304</span>, Frames: <span style=\"color: #008080; text-decoration-color: #008080; font-weight: bold\">9021</span>, Max Reward: <span style=\"color: #008080; text-decoration-color: #008080; font-weight: bold\">0</span>\n",
              "</pre>\n"
            ],
            "text/plain": [
              "Iterations: \u001b[1;36m327\u001b[0m, Cells: \u001b[1;36m304\u001b[0m, Frames: \u001b[1;36m9021\u001b[0m, Max Reward: \u001b[1;36m0\u001b[0m\n"
            ]
          },
          "metadata": {
            "tags": []
          }
        },
        {
          "output_type": "display_data",
          "data": {
            "text/html": [
              "<pre style=\"white-space:pre;overflow-x:auto;line-height:normal;font-family:Menlo,'DejaVu Sans Mono',consolas,'Courier New',monospace\">Iterations: <span style=\"color: #008080; text-decoration-color: #008080; font-weight: bold\">328</span>, Cells: <span style=\"color: #008080; text-decoration-color: #008080; font-weight: bold\">304</span>, Frames: <span style=\"color: #008080; text-decoration-color: #008080; font-weight: bold\">9026</span>, Max Reward: <span style=\"color: #008080; text-decoration-color: #008080; font-weight: bold\">0</span>\n",
              "</pre>\n"
            ],
            "text/plain": [
              "Iterations: \u001b[1;36m328\u001b[0m, Cells: \u001b[1;36m304\u001b[0m, Frames: \u001b[1;36m9026\u001b[0m, Max Reward: \u001b[1;36m0\u001b[0m\n"
            ]
          },
          "metadata": {
            "tags": []
          }
        },
        {
          "output_type": "display_data",
          "data": {
            "text/html": [
              "<pre style=\"white-space:pre;overflow-x:auto;line-height:normal;font-family:Menlo,'DejaVu Sans Mono',consolas,'Courier New',monospace\">Iterations: <span style=\"color: #008080; text-decoration-color: #008080; font-weight: bold\">329</span>, Cells: <span style=\"color: #008080; text-decoration-color: #008080; font-weight: bold\">304</span>, Frames: <span style=\"color: #008080; text-decoration-color: #008080; font-weight: bold\">9035</span>, Max Reward: <span style=\"color: #008080; text-decoration-color: #008080; font-weight: bold\">0</span>\n",
              "</pre>\n"
            ],
            "text/plain": [
              "Iterations: \u001b[1;36m329\u001b[0m, Cells: \u001b[1;36m304\u001b[0m, Frames: \u001b[1;36m9035\u001b[0m, Max Reward: \u001b[1;36m0\u001b[0m\n"
            ]
          },
          "metadata": {
            "tags": []
          }
        },
        {
          "output_type": "display_data",
          "data": {
            "text/html": [
              "<pre style=\"white-space:pre;overflow-x:auto;line-height:normal;font-family:Menlo,'DejaVu Sans Mono',consolas,'Courier New',monospace\">Iterations: <span style=\"color: #008080; text-decoration-color: #008080; font-weight: bold\">330</span>, Cells: <span style=\"color: #008080; text-decoration-color: #008080; font-weight: bold\">304</span>, Frames: <span style=\"color: #008080; text-decoration-color: #008080; font-weight: bold\">9046</span>, Max Reward: <span style=\"color: #008080; text-decoration-color: #008080; font-weight: bold\">0</span>\n",
              "</pre>\n"
            ],
            "text/plain": [
              "Iterations: \u001b[1;36m330\u001b[0m, Cells: \u001b[1;36m304\u001b[0m, Frames: \u001b[1;36m9046\u001b[0m, Max Reward: \u001b[1;36m0\u001b[0m\n"
            ]
          },
          "metadata": {
            "tags": []
          }
        },
        {
          "output_type": "display_data",
          "data": {
            "text/html": [
              "<pre style=\"white-space:pre;overflow-x:auto;line-height:normal;font-family:Menlo,'DejaVu Sans Mono',consolas,'Courier New',monospace\">Iterations: <span style=\"color: #008080; text-decoration-color: #008080; font-weight: bold\">333</span>, Cells: <span style=\"color: #008080; text-decoration-color: #008080; font-weight: bold\">304</span>, Frames: <span style=\"color: #008080; text-decoration-color: #008080; font-weight: bold\">9080</span>, Max Reward: <span style=\"color: #008080; text-decoration-color: #008080; font-weight: bold\">0</span>\n",
              "</pre>\n"
            ],
            "text/plain": [
              "Iterations: \u001b[1;36m333\u001b[0m, Cells: \u001b[1;36m304\u001b[0m, Frames: \u001b[1;36m9080\u001b[0m, Max Reward: \u001b[1;36m0\u001b[0m\n"
            ]
          },
          "metadata": {
            "tags": []
          }
        },
        {
          "output_type": "display_data",
          "data": {
            "text/html": [
              "<pre style=\"white-space:pre;overflow-x:auto;line-height:normal;font-family:Menlo,'DejaVu Sans Mono',consolas,'Courier New',monospace\">Iterations: <span style=\"color: #008080; text-decoration-color: #008080; font-weight: bold\">334</span>, Cells: <span style=\"color: #008080; text-decoration-color: #008080; font-weight: bold\">304</span>, Frames: <span style=\"color: #008080; text-decoration-color: #008080; font-weight: bold\">9180</span>, Max Reward: <span style=\"color: #008080; text-decoration-color: #008080; font-weight: bold\">0</span>\n",
              "</pre>\n"
            ],
            "text/plain": [
              "Iterations: \u001b[1;36m334\u001b[0m, Cells: \u001b[1;36m304\u001b[0m, Frames: \u001b[1;36m9180\u001b[0m, Max Reward: \u001b[1;36m0\u001b[0m\n"
            ]
          },
          "metadata": {
            "tags": []
          }
        },
        {
          "output_type": "display_data",
          "data": {
            "text/html": [
              "<pre style=\"white-space:pre;overflow-x:auto;line-height:normal;font-family:Menlo,'DejaVu Sans Mono',consolas,'Courier New',monospace\">Iterations: <span style=\"color: #008080; text-decoration-color: #008080; font-weight: bold\">335</span>, Cells: <span style=\"color: #008080; text-decoration-color: #008080; font-weight: bold\">305</span>, Frames: <span style=\"color: #008080; text-decoration-color: #008080; font-weight: bold\">9191</span>, Max Reward: <span style=\"color: #008080; text-decoration-color: #008080; font-weight: bold\">0</span>\n",
              "</pre>\n"
            ],
            "text/plain": [
              "Iterations: \u001b[1;36m335\u001b[0m, Cells: \u001b[1;36m305\u001b[0m, Frames: \u001b[1;36m9191\u001b[0m, Max Reward: \u001b[1;36m0\u001b[0m\n"
            ]
          },
          "metadata": {
            "tags": []
          }
        },
        {
          "output_type": "display_data",
          "data": {
            "text/html": [
              "<pre style=\"white-space:pre;overflow-x:auto;line-height:normal;font-family:Menlo,'DejaVu Sans Mono',consolas,'Courier New',monospace\">Iterations: <span style=\"color: #008080; text-decoration-color: #008080; font-weight: bold\">336</span>, Cells: <span style=\"color: #008080; text-decoration-color: #008080; font-weight: bold\">306</span>, Frames: <span style=\"color: #008080; text-decoration-color: #008080; font-weight: bold\">9215</span>, Max Reward: <span style=\"color: #008080; text-decoration-color: #008080; font-weight: bold\">0</span>\n",
              "</pre>\n"
            ],
            "text/plain": [
              "Iterations: \u001b[1;36m336\u001b[0m, Cells: \u001b[1;36m306\u001b[0m, Frames: \u001b[1;36m9215\u001b[0m, Max Reward: \u001b[1;36m0\u001b[0m\n"
            ]
          },
          "metadata": {
            "tags": []
          }
        },
        {
          "output_type": "display_data",
          "data": {
            "text/html": [
              "<pre style=\"white-space:pre;overflow-x:auto;line-height:normal;font-family:Menlo,'DejaVu Sans Mono',consolas,'Courier New',monospace\">Iterations: <span style=\"color: #008080; text-decoration-color: #008080; font-weight: bold\">337</span>, Cells: <span style=\"color: #008080; text-decoration-color: #008080; font-weight: bold\">306</span>, Frames: <span style=\"color: #008080; text-decoration-color: #008080; font-weight: bold\">9217</span>, Max Reward: <span style=\"color: #008080; text-decoration-color: #008080; font-weight: bold\">0</span>\n",
              "</pre>\n"
            ],
            "text/plain": [
              "Iterations: \u001b[1;36m337\u001b[0m, Cells: \u001b[1;36m306\u001b[0m, Frames: \u001b[1;36m9217\u001b[0m, Max Reward: \u001b[1;36m0\u001b[0m\n"
            ]
          },
          "metadata": {
            "tags": []
          }
        },
        {
          "output_type": "display_data",
          "data": {
            "text/html": [
              "<pre style=\"white-space:pre;overflow-x:auto;line-height:normal;font-family:Menlo,'DejaVu Sans Mono',consolas,'Courier New',monospace\">Iterations: <span style=\"color: #008080; text-decoration-color: #008080; font-weight: bold\">338</span>, Cells: <span style=\"color: #008080; text-decoration-color: #008080; font-weight: bold\">306</span>, Frames: <span style=\"color: #008080; text-decoration-color: #008080; font-weight: bold\">9317</span>, Max Reward: <span style=\"color: #008080; text-decoration-color: #008080; font-weight: bold\">0</span>\n",
              "</pre>\n"
            ],
            "text/plain": [
              "Iterations: \u001b[1;36m338\u001b[0m, Cells: \u001b[1;36m306\u001b[0m, Frames: \u001b[1;36m9317\u001b[0m, Max Reward: \u001b[1;36m0\u001b[0m\n"
            ]
          },
          "metadata": {
            "tags": []
          }
        },
        {
          "output_type": "display_data",
          "data": {
            "text/html": [
              "<pre style=\"white-space:pre;overflow-x:auto;line-height:normal;font-family:Menlo,'DejaVu Sans Mono',consolas,'Courier New',monospace\">Iterations: <span style=\"color: #008080; text-decoration-color: #008080; font-weight: bold\">339</span>, Cells: <span style=\"color: #008080; text-decoration-color: #008080; font-weight: bold\">308</span>, Frames: <span style=\"color: #008080; text-decoration-color: #008080; font-weight: bold\">9417</span>, Max Reward: <span style=\"color: #008080; text-decoration-color: #008080; font-weight: bold\">0</span>\n",
              "</pre>\n"
            ],
            "text/plain": [
              "Iterations: \u001b[1;36m339\u001b[0m, Cells: \u001b[1;36m308\u001b[0m, Frames: \u001b[1;36m9417\u001b[0m, Max Reward: \u001b[1;36m0\u001b[0m\n"
            ]
          },
          "metadata": {
            "tags": []
          }
        },
        {
          "output_type": "display_data",
          "data": {
            "text/html": [
              "<pre style=\"white-space:pre;overflow-x:auto;line-height:normal;font-family:Menlo,'DejaVu Sans Mono',consolas,'Courier New',monospace\">Iterations: <span style=\"color: #008080; text-decoration-color: #008080; font-weight: bold\">341</span>, Cells: <span style=\"color: #008080; text-decoration-color: #008080; font-weight: bold\">308</span>, Frames: <span style=\"color: #008080; text-decoration-color: #008080; font-weight: bold\">9511</span>, Max Reward: <span style=\"color: #008080; text-decoration-color: #008080; font-weight: bold\">0</span>\n",
              "</pre>\n"
            ],
            "text/plain": [
              "Iterations: \u001b[1;36m341\u001b[0m, Cells: \u001b[1;36m308\u001b[0m, Frames: \u001b[1;36m9511\u001b[0m, Max Reward: \u001b[1;36m0\u001b[0m\n"
            ]
          },
          "metadata": {
            "tags": []
          }
        },
        {
          "output_type": "display_data",
          "data": {
            "text/html": [
              "<pre style=\"white-space:pre;overflow-x:auto;line-height:normal;font-family:Menlo,'DejaVu Sans Mono',consolas,'Courier New',monospace\">Iterations: <span style=\"color: #008080; text-decoration-color: #008080; font-weight: bold\">342</span>, Cells: <span style=\"color: #008080; text-decoration-color: #008080; font-weight: bold\">310</span>, Frames: <span style=\"color: #008080; text-decoration-color: #008080; font-weight: bold\">9527</span>, Max Reward: <span style=\"color: #008080; text-decoration-color: #008080; font-weight: bold\">0</span>\n",
              "</pre>\n"
            ],
            "text/plain": [
              "Iterations: \u001b[1;36m342\u001b[0m, Cells: \u001b[1;36m310\u001b[0m, Frames: \u001b[1;36m9527\u001b[0m, Max Reward: \u001b[1;36m0\u001b[0m\n"
            ]
          },
          "metadata": {
            "tags": []
          }
        },
        {
          "output_type": "display_data",
          "data": {
            "text/html": [
              "<pre style=\"white-space:pre;overflow-x:auto;line-height:normal;font-family:Menlo,'DejaVu Sans Mono',consolas,'Courier New',monospace\">Iterations: <span style=\"color: #008080; text-decoration-color: #008080; font-weight: bold\">343</span>, Cells: <span style=\"color: #008080; text-decoration-color: #008080; font-weight: bold\">310</span>, Frames: <span style=\"color: #008080; text-decoration-color: #008080; font-weight: bold\">9543</span>, Max Reward: <span style=\"color: #008080; text-decoration-color: #008080; font-weight: bold\">0</span>\n",
              "</pre>\n"
            ],
            "text/plain": [
              "Iterations: \u001b[1;36m343\u001b[0m, Cells: \u001b[1;36m310\u001b[0m, Frames: \u001b[1;36m9543\u001b[0m, Max Reward: \u001b[1;36m0\u001b[0m\n"
            ]
          },
          "metadata": {
            "tags": []
          }
        },
        {
          "output_type": "display_data",
          "data": {
            "text/html": [
              "<pre style=\"white-space:pre;overflow-x:auto;line-height:normal;font-family:Menlo,'DejaVu Sans Mono',consolas,'Courier New',monospace\">Iterations: <span style=\"color: #008080; text-decoration-color: #008080; font-weight: bold\">345</span>, Cells: <span style=\"color: #008080; text-decoration-color: #008080; font-weight: bold\">310</span>, Frames: <span style=\"color: #008080; text-decoration-color: #008080; font-weight: bold\">9649</span>, Max Reward: <span style=\"color: #008080; text-decoration-color: #008080; font-weight: bold\">0</span>\n",
              "</pre>\n"
            ],
            "text/plain": [
              "Iterations: \u001b[1;36m345\u001b[0m, Cells: \u001b[1;36m310\u001b[0m, Frames: \u001b[1;36m9649\u001b[0m, Max Reward: \u001b[1;36m0\u001b[0m\n"
            ]
          },
          "metadata": {
            "tags": []
          }
        },
        {
          "output_type": "display_data",
          "data": {
            "text/html": [
              "<pre style=\"white-space:pre;overflow-x:auto;line-height:normal;font-family:Menlo,'DejaVu Sans Mono',consolas,'Courier New',monospace\">Iterations: <span style=\"color: #008080; text-decoration-color: #008080; font-weight: bold\">346</span>, Cells: <span style=\"color: #008080; text-decoration-color: #008080; font-weight: bold\">310</span>, Frames: <span style=\"color: #008080; text-decoration-color: #008080; font-weight: bold\">9663</span>, Max Reward: <span style=\"color: #008080; text-decoration-color: #008080; font-weight: bold\">0</span>\n",
              "</pre>\n"
            ],
            "text/plain": [
              "Iterations: \u001b[1;36m346\u001b[0m, Cells: \u001b[1;36m310\u001b[0m, Frames: \u001b[1;36m9663\u001b[0m, Max Reward: \u001b[1;36m0\u001b[0m\n"
            ]
          },
          "metadata": {
            "tags": []
          }
        },
        {
          "output_type": "display_data",
          "data": {
            "text/html": [
              "<pre style=\"white-space:pre;overflow-x:auto;line-height:normal;font-family:Menlo,'DejaVu Sans Mono',consolas,'Courier New',monospace\">Iterations: <span style=\"color: #008080; text-decoration-color: #008080; font-weight: bold\">347</span>, Cells: <span style=\"color: #008080; text-decoration-color: #008080; font-weight: bold\">310</span>, Frames: <span style=\"color: #008080; text-decoration-color: #008080; font-weight: bold\">9665</span>, Max Reward: <span style=\"color: #008080; text-decoration-color: #008080; font-weight: bold\">0</span>\n",
              "</pre>\n"
            ],
            "text/plain": [
              "Iterations: \u001b[1;36m347\u001b[0m, Cells: \u001b[1;36m310\u001b[0m, Frames: \u001b[1;36m9665\u001b[0m, Max Reward: \u001b[1;36m0\u001b[0m\n"
            ]
          },
          "metadata": {
            "tags": []
          }
        },
        {
          "output_type": "display_data",
          "data": {
            "text/html": [
              "<pre style=\"white-space:pre;overflow-x:auto;line-height:normal;font-family:Menlo,'DejaVu Sans Mono',consolas,'Courier New',monospace\">Iterations: <span style=\"color: #008080; text-decoration-color: #008080; font-weight: bold\">348</span>, Cells: <span style=\"color: #008080; text-decoration-color: #008080; font-weight: bold\">310</span>, Frames: <span style=\"color: #008080; text-decoration-color: #008080; font-weight: bold\">9717</span>, Max Reward: <span style=\"color: #008080; text-decoration-color: #008080; font-weight: bold\">0</span>\n",
              "</pre>\n"
            ],
            "text/plain": [
              "Iterations: \u001b[1;36m348\u001b[0m, Cells: \u001b[1;36m310\u001b[0m, Frames: \u001b[1;36m9717\u001b[0m, Max Reward: \u001b[1;36m0\u001b[0m\n"
            ]
          },
          "metadata": {
            "tags": []
          }
        },
        {
          "output_type": "display_data",
          "data": {
            "text/html": [
              "<pre style=\"white-space:pre;overflow-x:auto;line-height:normal;font-family:Menlo,'DejaVu Sans Mono',consolas,'Courier New',monospace\">Iterations: <span style=\"color: #008080; text-decoration-color: #008080; font-weight: bold\">349</span>, Cells: <span style=\"color: #008080; text-decoration-color: #008080; font-weight: bold\">310</span>, Frames: <span style=\"color: #008080; text-decoration-color: #008080; font-weight: bold\">9725</span>, Max Reward: <span style=\"color: #008080; text-decoration-color: #008080; font-weight: bold\">0</span>\n",
              "</pre>\n"
            ],
            "text/plain": [
              "Iterations: \u001b[1;36m349\u001b[0m, Cells: \u001b[1;36m310\u001b[0m, Frames: \u001b[1;36m9725\u001b[0m, Max Reward: \u001b[1;36m0\u001b[0m\n"
            ]
          },
          "metadata": {
            "tags": []
          }
        },
        {
          "output_type": "display_data",
          "data": {
            "text/html": [
              "<pre style=\"white-space:pre;overflow-x:auto;line-height:normal;font-family:Menlo,'DejaVu Sans Mono',consolas,'Courier New',monospace\">Iterations: <span style=\"color: #008080; text-decoration-color: #008080; font-weight: bold\">350</span>, Cells: <span style=\"color: #008080; text-decoration-color: #008080; font-weight: bold\">311</span>, Frames: <span style=\"color: #008080; text-decoration-color: #008080; font-weight: bold\">9795</span>, Max Reward: <span style=\"color: #008080; text-decoration-color: #008080; font-weight: bold\">0</span>\n",
              "</pre>\n"
            ],
            "text/plain": [
              "Iterations: \u001b[1;36m350\u001b[0m, Cells: \u001b[1;36m311\u001b[0m, Frames: \u001b[1;36m9795\u001b[0m, Max Reward: \u001b[1;36m0\u001b[0m\n"
            ]
          },
          "metadata": {
            "tags": []
          }
        }
      ]
    }
  ]
}