{
  "nbformat": 4,
  "nbformat_minor": 0,
  "metadata": {
    "colab": {
      "name": "VQVAE2 Notebook.ipynb",
      "provenance": [],
      "collapsed_sections": [],
      "machine_shape": "hm"
    },
    "kernelspec": {
      "name": "python3",
      "display_name": "Python 3"
    },
    "language_info": {
      "name": "python"
    },
    "accelerator": "GPU",
    "widgets": {
      "application/vnd.jupyter.widget-state+json": {
        "f809fc794af742549a0068c156e5cb22": {
          "model_module": "@jupyter-widgets/output",
          "model_name": "OutputModel",
          "state": {
            "_view_name": "OutputView",
            "msg_id": "",
            "_dom_classes": [],
            "_model_name": "OutputModel",
            "outputs": [
              {
                "output_type": "display_data",
                "metadata": {
                  "tags": []
                },
                "text/html": "<pre style=\"white-space:pre;overflow-x:auto;line-height:normal;font-family:Menlo,'DejaVu Sans Mono',consolas,'Courier New',monospace\">epoch 39/560                                               <span style=\"color: #f92672; text-decoration-color: #f92672\">━</span><span style=\"color: #3a3a3a; text-decoration-color: #3a3a3a\">╺━━━━━━━━━━━━━━━━━━━</span> <span style=\"color: #800080; text-decoration-color: #800080\">  7%</span> <span style=\"color: #008080; text-decoration-color: #008080\">-:--:--</span>\nmse: 0.00500; latent: 0.013; avg mse: 0.00465; lr: 0.00030 <span style=\"color: #f92672; text-decoration-color: #f92672\">━━━━━</span><span style=\"color: #3a3a3a; text-decoration-color: #3a3a3a\">╺━━━━━━━━━━━━━━━</span> <span style=\"color: #800080; text-decoration-color: #800080\"> 26%</span> <span style=\"color: #008080; text-decoration-color: #008080\">0:00:00</span>\n</pre>\n",
                "text/plain": "epoch 39/560                                               \u001b[38;2;249;38;114m━\u001b[0m\u001b[38;5;237m╺\u001b[0m\u001b[38;5;237m━━━━━━━━━━━━━━━━━━━\u001b[0m \u001b[35m  7%\u001b[0m \u001b[36m-:--:--\u001b[0m\nmse: 0.00500; latent: 0.013; avg mse: 0.00465; lr: 0.00030 \u001b[38;2;249;38;114m━━━━━\u001b[0m\u001b[38;5;237m╺\u001b[0m\u001b[38;5;237m━━━━━━━━━━━━━━━\u001b[0m \u001b[35m 26%\u001b[0m \u001b[36m0:00:00\u001b[0m\n"
              }
            ],
            "_view_module": "@jupyter-widgets/output",
            "_model_module_version": "1.0.0",
            "_view_count": null,
            "_view_module_version": "1.0.0",
            "layout": "IPY_MODEL_597498ea3257471dbec166e98908e977",
            "_model_module": "@jupyter-widgets/output"
          }
        },
        "597498ea3257471dbec166e98908e977": {
          "model_module": "@jupyter-widgets/base",
          "model_name": "LayoutModel",
          "state": {
            "_view_name": "LayoutView",
            "grid_template_rows": null,
            "right": null,
            "justify_content": null,
            "_view_module": "@jupyter-widgets/base",
            "overflow": null,
            "_model_module_version": "1.2.0",
            "_view_count": null,
            "flex_flow": null,
            "width": null,
            "min_width": null,
            "border": null,
            "align_items": null,
            "bottom": null,
            "_model_module": "@jupyter-widgets/base",
            "top": null,
            "grid_column": null,
            "overflow_y": null,
            "overflow_x": null,
            "grid_auto_flow": null,
            "grid_area": null,
            "grid_template_columns": null,
            "flex": null,
            "_model_name": "LayoutModel",
            "justify_items": null,
            "grid_row": null,
            "max_height": null,
            "align_content": null,
            "visibility": null,
            "align_self": null,
            "height": null,
            "min_height": null,
            "padding": null,
            "grid_auto_rows": null,
            "grid_gap": null,
            "max_width": null,
            "order": null,
            "_view_module_version": "1.2.0",
            "grid_template_areas": null,
            "object_position": null,
            "object_fit": null,
            "grid_auto_columns": null,
            "margin": null,
            "display": null,
            "left": null
          }
        }
      }
    }
  },
  "cells": [
    {
      "cell_type": "code",
      "metadata": {
        "cellView": "form",
        "id": "MN-G2P2Tv-HJ"
      },
      "source": [
        "#@title Get started\n",
        "mount_drive = False #@param {type:\"boolean\"}\n",
        "\n",
        "if mount_drive:\n",
        "    from google.colab import drive\n",
        "    drive.mount('/content/gdrive')\n",
        "    %cd /content/drive/My\\ Drive/\n",
        "\n",
        "import os\n",
        "\n",
        "if os.path.exists('VQVAE-Clean'):\n",
        "    print ('Using existing code directory')\n",
        "else:\n",
        "    print ('Cloning repository...')\n",
        "    !git clone https://github.com/Ryan-Rudes/VQVAE-Clean\n",
        "\n",
        "%cd VQVAE-Clean"
      ],
      "execution_count": null,
      "outputs": []
    },
    {
      "cell_type": "code",
      "metadata": {
        "id": "J3ChFWRSRJga",
        "cellView": "form"
      },
      "source": [
        "#@title Install dependencies\n",
        "!pip install googledrivedownloader\n",
        "!pip install rich"
      ],
      "execution_count": null,
      "outputs": []
    },
    {
      "cell_type": "code",
      "metadata": {
        "cellView": "form",
        "id": "G60DmzDAbF3S"
      },
      "source": [
        "#@title Download a dataset\n",
        "#@markdown Valid dataset downloads:\n",
        "#@markdown - `MontezumaRevenge`\n",
        "#@markdown - `Breakout`\n",
        "#@markdown - `Pitfall`\n",
        "#@markdown - `Qbert`\n",
        "dataset = \"\" #@param {type:\"string\"}\n",
        "from utils import *\n",
        "download(dataset, f'/content/{dataset}.zip')\n",
        "unzip(f'/content/{dataset}.zip', '/content')\n",
        "resize(f'/content/{dataset}/cells')"
      ],
      "execution_count": null,
      "outputs": []
    },
    {
      "cell_type": "code",
      "metadata": {
        "id": "r6EROBefKSzK",
        "cellView": "form"
      },
      "source": [
        "import distributed as dist\n",
        "from torch import optim\n",
        "from train import train\n",
        "import sys\n",
        "import os\n",
        "\n",
        "#@title Setup\n",
        "\n",
        "class Args:\n",
        "    n_gpu = 1\n",
        "    port = 2 ** 15 + 2 ** 14 + hash(os.getuid() if sys.platform != \"win32\" else 1) % 2 ** 14\n",
        "    dist_url = f'tcp://127.0.0.1:{port}'\n",
        "    epoch = 560 #@param {type:\"integer\"}\n",
        "    lr = 3e-4 #@param {type:\"number\"}\n",
        "    batch_size = 128 #@param {type:\"integer\"}\n",
        "    num_workers = 4 #@param {type:\"integer\"}\n",
        "    normalize = True #@param {type:\"boolean\"}\n",
        "    optimizer = optim.Adam\n",
        "    distributed = dist.get_world_size() > 1\n",
        "    sched = ''\n",
        "    path = f'/content/{dataset}/resized'\n",
        "\n",
        "args = Args()"
      ],
      "execution_count": 2,
      "outputs": []
    },
    {
      "cell_type": "code",
      "metadata": {
        "id": "mC5ZQglBQh3X",
        "colab": {
          "base_uri": "https://localhost:8080/",
          "height": 49,
          "referenced_widgets": [
            "f809fc794af742549a0068c156e5cb22",
            "597498ea3257471dbec166e98908e977"
          ]
        },
        "cellView": "form",
        "outputId": "51705b64-36db-4e9c-cfe3-9d3e6b324958"
      },
      "source": [
        "#@title Train\n",
        "#@markdown Results are saved to `./runs/<timestamp>`\n",
        "train(args)"
      ],
      "execution_count": null,
      "outputs": [
        {
          "output_type": "display_data",
          "data": {
            "application/vnd.jupyter.widget-view+json": {
              "model_id": "f809fc794af742549a0068c156e5cb22",
              "version_minor": 0,
              "version_major": 2
            },
            "text/plain": [
              "Output()"
            ]
          },
          "metadata": {
            "tags": []
          }
        }
      ]
    }
  ]
}